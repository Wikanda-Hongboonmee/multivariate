{
  "nbformat": 4,
  "nbformat_minor": 0,
  "metadata": {
    "colab": {
      "name": "Python101.ipynb",
      "provenance": [],
      "authorship_tag": "ABX9TyPiZx0lQkZ22XqSuglN6c9H",
      "include_colab_link": true
    },
    "kernelspec": {
      "name": "python3",
      "display_name": "Python 3"
    }
  },
  "cells": [
    {
      "cell_type": "markdown",
      "metadata": {
        "id": "view-in-github",
        "colab_type": "text"
      },
      "source": [
        "<a href=\"https://colab.research.google.com/github/Wikanda-Hongboonmee/multivariate/blob/main/Python101.ipynb\" target=\"_parent\"><img src=\"https://colab.research.google.com/assets/colab-badge.svg\" alt=\"Open In Colab\"/></a>"
      ]
    },
    {
      "cell_type": "markdown",
      "metadata": {
        "id": "_F2LvOrKLgi5"
      },
      "source": [
        "ตัวแปร variable \r\n"
      ]
    },
    {
      "cell_type": "code",
      "metadata": {
        "id": "iefyA9PiLsTg"
      },
      "source": [
        "3.14159  # hashtag หรือ sharp # คือ comment : Out put ออกหน้าจอ"
      ],
      "execution_count": null,
      "outputs": []
    },
    {
      "cell_type": "markdown",
      "metadata": {
        "id": "-_ngE1TGL7LI"
      },
      "source": [
        "หลักการตั้งชื่อตัวแปรเบื้องต้น\r\n",
        "1. ตั้งให้สื่อ\r\n",
        "2. ภาษาอังกฤษ\r\n",
        "3. ใช้ตัวเลขได้แต่ห้ามขึ้นต้นด้วยตัวเลข\r\n",
        "4. ห้ามเว้นวรรค\r\n",
        "5. ตัวเล็กกับตัวใหญ่ไม่เหมือนกัน"
      ]
    },
    {
      "cell_type": "markdown",
      "metadata": {
        "id": "EDkrlKUyMpaJ"
      },
      "source": [
        "มี Output 2 Mode : ออกหน้าจอ กับ เข้าไปเก็บในตัวแปร\r\n"
      ]
    },
    {
      "cell_type": "code",
      "metadata": {
        "colab": {
          "base_uri": "https://localhost:8080/"
        },
        "id": "GUfUis9oMkv_",
        "outputId": "799ec651-239e-40fb-93ac-8c4634f8bea0"
      },
      "source": [
        "3.14159"
      ],
      "execution_count": 2,
      "outputs": [
        {
          "output_type": "execute_result",
          "data": {
            "text/plain": [
              "3.14159"
            ]
          },
          "metadata": {
            "tags": []
          },
          "execution_count": 2
        }
      ]
    },
    {
      "cell_type": "code",
      "metadata": {
        "id": "9d0ZYl0WJ9vv"
      },
      "source": [
        "Pi = 3.14159 # Out put ที่เข้าไปอยู่ในตัวแปร"
      ],
      "execution_count": 1,
      "outputs": []
    },
    {
      "cell_type": "code",
      "metadata": {
        "colab": {
          "base_uri": "https://localhost:8080/"
        },
        "id": "KJom40EwMTXp",
        "outputId": "cba979fc-2f96-45a0-dab1-4289e4fe8657"
      },
      "source": [
        "Pi"
      ],
      "execution_count": 3,
      "outputs": [
        {
          "output_type": "execute_result",
          "data": {
            "text/plain": [
              "3.14159"
            ]
          },
          "metadata": {
            "tags": []
          },
          "execution_count": 3
        }
      ]
    },
    {
      "cell_type": "code",
      "metadata": {
        "colab": {
          "base_uri": "https://localhost:8080/"
        },
        "id": "adLrWDxGM8Gq",
        "outputId": "abf80552-d2bf-4a1f-8dfd-406822b9c059"
      },
      "source": [
        "a = 1234567\r\n",
        "print(a)"
      ],
      "execution_count": 4,
      "outputs": [
        {
          "output_type": "stream",
          "text": [
            "1234567\n"
          ],
          "name": "stdout"
        }
      ]
    },
    {
      "cell_type": "markdown",
      "metadata": {
        "id": "yCee8BNWNlJG"
      },
      "source": [
        "ชนิดของตัวแปร \r\n",
        "1. จำนวนเต็ม (integer,int)"
      ]
    },
    {
      "cell_type": "code",
      "metadata": {
        "colab": {
          "base_uri": "https://localhost:8080/"
        },
        "id": "qsI5TLx0NUaM",
        "outputId": "e9957239-c99d-4f94-b5eb-fc7a0f336997"
      },
      "source": [
        "b = 2544\r\n",
        "print(b)"
      ],
      "execution_count": 6,
      "outputs": [
        {
          "output_type": "stream",
          "text": [
            "2544\n"
          ],
          "name": "stdout"
        }
      ]
    },
    {
      "cell_type": "markdown",
      "metadata": {
        "id": "eoWWRRNBOzjL"
      },
      "source": [
        "2. จำนวนจริง หรือ ทศนิยม (float)"
      ]
    },
    {
      "cell_type": "code",
      "metadata": {
        "colab": {
          "base_uri": "https://localhost:8080/"
        },
        "id": "Pq6REWD8Ospa",
        "outputId": "858b0e71-74c4-4b6e-af4e-27d7036568f2"
      },
      "source": [
        "c = 11.2567\r\n",
        "print(c)"
      ],
      "execution_count": 7,
      "outputs": [
        {
          "output_type": "stream",
          "text": [
            "11.2567\n"
          ],
          "name": "stdout"
        }
      ]
    },
    {
      "cell_type": "markdown",
      "metadata": {
        "id": "s0uDWh5JPDhc"
      },
      "source": [
        "3. ตัวอักษร หรือ ข้อความ (character และ text , string)"
      ]
    },
    {
      "cell_type": "code",
      "metadata": {
        "colab": {
          "base_uri": "https://localhost:8080/"
        },
        "id": "Fdu1EbjsPBYu",
        "outputId": "abadac23-5277-4b85-b948-fc42b044189a"
      },
      "source": [
        "d = ' de '  # ใช้ single quote ' ' หรือ double quote \" \" ล้อมรอบตัวหนังสือเพื่อที่จะระบุว่ามันเป็น character,string\r\n",
        "print(d)"
      ],
      "execution_count": 11,
      "outputs": [
        {
          "output_type": "stream",
          "text": [
            " de \n"
          ],
          "name": "stdout"
        }
      ]
    },
    {
      "cell_type": "code",
      "metadata": {
        "colab": {
          "base_uri": "https://localhost:8080/"
        },
        "id": "3OPdMIr3PmZb",
        "outputId": "f2cd01e1-2a8b-402a-f47d-123514467ed3"
      },
      "source": [
        "b + c # float + int = float , แต่ตัวเลขรวมกับข้อความหรือตัวอักษรไม่ได้"
      ],
      "execution_count": 10,
      "outputs": [
        {
          "output_type": "execute_result",
          "data": {
            "text/plain": [
              "2555.2567"
            ]
          },
          "metadata": {
            "tags": []
          },
          "execution_count": 10
        }
      ]
    },
    {
      "cell_type": "code",
      "metadata": {
        "colab": {
          "base_uri": "https://localhost:8080/"
        },
        "id": "WLe7CJvQQMbx",
        "outputId": "0c3cbc3d-aff8-4c86-c96c-b32282aecba3"
      },
      "source": [
        "a = ' เอ ' # ข้อความสามารถแสดงเป็นภาษาไทยได้\r\n",
        "print(a)"
      ],
      "execution_count": 15,
      "outputs": [
        {
          "output_type": "stream",
          "text": [
            " เอ \n"
          ],
          "name": "stdout"
        }
      ]
    },
    {
      "cell_type": "markdown",
      "metadata": {
        "id": "HZvoDk_3Q2_W"
      },
      "source": [
        "# การเปลี่ยนชนิดของตัวแปร variable casting"
      ]
    },
    {
      "cell_type": "code",
      "metadata": {
        "colab": {
          "base_uri": "https://localhost:8080/"
        },
        "id": "mebZGAW3QyRb",
        "outputId": "75b1f318-27c8-466c-8bf4-358049472d3c"
      },
      "source": [
        "b + int(c) "
      ],
      "execution_count": 18,
      "outputs": [
        {
          "output_type": "execute_result",
          "data": {
            "text/plain": [
              "2555"
            ]
          },
          "metadata": {
            "tags": []
          },
          "execution_count": 18
        }
      ]
    },
    {
      "cell_type": "code",
      "metadata": {
        "colab": {
          "base_uri": "https://localhost:8080/"
        },
        "id": "lJIuCAAaSDmJ",
        "outputId": "a47bce94-7ed7-4a39-b00a-a2613be0d52c"
      },
      "source": [
        "b + float(c)"
      ],
      "execution_count": 21,
      "outputs": [
        {
          "output_type": "execute_result",
          "data": {
            "text/plain": [
              "2555.2567"
            ]
          },
          "metadata": {
            "tags": []
          },
          "execution_count": 21
        }
      ]
    },
    {
      "cell_type": "code",
      "metadata": {
        "colab": {
          "base_uri": "https://localhost:8080/",
          "height": 35
        },
        "id": "e7NLaZduRiZv",
        "outputId": "e6d29002-dda7-4e39-bc67-3c957eab5eb2"
      },
      "source": [
        "str (b) #ใช้ในการเรียกชื่อตัวแปรเฉยๆ ดูว่าตัวแปรนี้ตอนนี้มีค่าเท่าไหร่"
      ],
      "execution_count": 23,
      "outputs": [
        {
          "output_type": "execute_result",
          "data": {
            "application/vnd.google.colaboratory.intrinsic+json": {
              "type": "string"
            },
            "text/plain": [
              "'2544'"
            ]
          },
          "metadata": {
            "tags": []
          },
          "execution_count": 23
        }
      ]
    },
    {
      "cell_type": "markdown",
      "metadata": {
        "id": "j-JxKVmqSLFA"
      },
      "source": [
        "การดำเนินการ Operation (+,-,*,/)"
      ]
    },
    {
      "cell_type": "code",
      "metadata": {
        "colab": {
          "base_uri": "https://localhost:8080/"
        },
        "id": "D58kC5u6R0NG",
        "outputId": "793fde57-4b65-4bbc-bb16-2f4cfd644fe5"
      },
      "source": [
        "b+c"
      ],
      "execution_count": 22,
      "outputs": [
        {
          "output_type": "execute_result",
          "data": {
            "text/plain": [
              "2555.2567"
            ]
          },
          "metadata": {
            "tags": []
          },
          "execution_count": 22
        }
      ]
    },
    {
      "cell_type": "code",
      "metadata": {
        "colab": {
          "base_uri": "https://localhost:8080/"
        },
        "id": "hmVTVpyjTIpp",
        "outputId": "7597276d-de19-4846-b471-327890c2dc8d"
      },
      "source": [
        "b-c"
      ],
      "execution_count": 26,
      "outputs": [
        {
          "output_type": "execute_result",
          "data": {
            "text/plain": [
              "2532.7433"
            ]
          },
          "metadata": {
            "tags": []
          },
          "execution_count": 26
        }
      ]
    },
    {
      "cell_type": "code",
      "metadata": {
        "colab": {
          "base_uri": "https://localhost:8080/"
        },
        "id": "xJPtuyeiSfH_",
        "outputId": "6d44fbb4-30ea-425e-b268-348cb780714f"
      },
      "source": [
        "bc = b*c\r\n",
        "print (bc)"
      ],
      "execution_count": 25,
      "outputs": [
        {
          "output_type": "stream",
          "text": [
            "28637.0448\n"
          ],
          "name": "stdout"
        }
      ]
    },
    {
      "cell_type": "markdown",
      "metadata": {
        "id": "IdHzlQibTbLv"
      },
      "source": [
        "% คือ Mod หรือ Modulo  เป็นการหารเอาเศษ "
      ]
    },
    {
      "cell_type": "code",
      "metadata": {
        "colab": {
          "base_uri": "https://localhost:8080/"
        },
        "id": "6eGdffvAS-m4",
        "outputId": "114d73fb-b0f2-47f4-eb01-e1e033fa2c55"
      },
      "source": [
        "5%3"
      ],
      "execution_count": 27,
      "outputs": [
        {
          "output_type": "execute_result",
          "data": {
            "text/plain": [
              "2"
            ]
          },
          "metadata": {
            "tags": []
          },
          "execution_count": 27
        }
      ]
    },
    {
      "cell_type": "code",
      "metadata": {
        "colab": {
          "base_uri": "https://localhost:8080/"
        },
        "id": "OcACkpz-Tk4k",
        "outputId": "1640ef87-592e-4ca9-c980-d954986befd7"
      },
      "source": [
        "7%3"
      ],
      "execution_count": 28,
      "outputs": [
        {
          "output_type": "execute_result",
          "data": {
            "text/plain": [
              "1"
            ]
          },
          "metadata": {
            "tags": []
          },
          "execution_count": 28
        }
      ]
    },
    {
      "cell_type": "markdown",
      "metadata": {
        "id": "1tBpyjVcT8ZO"
      },
      "source": [
        "คำสั่ง Print แบบพิเศษ (การ format string)\r\n"
      ]
    },
    {
      "cell_type": "code",
      "metadata": {
        "colab": {
          "base_uri": "https://localhost:8080/"
        },
        "id": "LmhdoPawTorB",
        "outputId": "64de87ba-0a91-4293-df33-b7774a0cf4c0"
      },
      "source": [
        "print ('ตัวแปร')"
      ],
      "execution_count": 29,
      "outputs": [
        {
          "output_type": "stream",
          "text": [
            "ตัวแปร\n"
          ],
          "name": "stdout"
        }
      ]
    },
    {
      "cell_type": "code",
      "metadata": {
        "colab": {
          "base_uri": "https://localhost:8080/"
        },
        "id": "ly225HmjUTsk",
        "outputId": "8c6bd983-484b-4d41-ff77-efd24387c09e"
      },
      "source": [
        "print(f'% คือ การหารเอาเศษ เช่น 7%3 = {7%3}')"
      ],
      "execution_count": 30,
      "outputs": [
        {
          "output_type": "stream",
          "text": [
            "% คือ การหารเอาเศษ เช่น 7%3 = 1\n"
          ],
          "name": "stdout"
        }
      ]
    },
    {
      "cell_type": "markdown",
      "metadata": {
        "id": "Kz5JMQ19U4sm"
      },
      "source": [
        ""
      ]
    },
    {
      "cell_type": "code",
      "metadata": {
        "colab": {
          "base_uri": "https://localhost:8080/"
        },
        "id": "GL4NAFkfUpmk",
        "outputId": "29aa10a3-65bf-4ad0-bb18-55adfe9e1c81"
      },
      "source": [
        "print(f'% คือ การหารเอาเศษ เช่น 7%3 = {7%3}') \r\n",
        "   #   แต่ / คือการหารปกติ เช่น 7/3 = {7/3}  \r\n",
        "  #  และ // คือการหารเอาส่วน เช่น 7//3 "
      ],
      "execution_count": 44,
      "outputs": [
        {
          "output_type": "stream",
          "text": [
            "% คือ การหารเอาเศษ เช่น 7%3 = 1\n"
          ],
          "name": "stdout"
        }
      ]
    },
    {
      "cell_type": "markdown",
      "metadata": {
        "id": "dt1Fft4hXF3k"
      },
      "source": [
        "Data Structure (โครงสร้างข้อมูล)\r\n"
      ]
    },
    {
      "cell_type": "markdown",
      "metadata": {
        "id": "OcQooIDtXcY1"
      },
      "source": [
        "List คือ การเอาข้อมูลหลายๆตัวมาเรียงต่อกัน\r\n",
        "สามารถทำได้ 2 แบบ ดังนี้"
      ]
    },
    {
      "cell_type": "markdown",
      "metadata": {
        "id": "JH6PKB9SXnr-"
      },
      "source": [
        "แบบที่ 1 > square brackets"
      ]
    },
    {
      "cell_type": "code",
      "metadata": {
        "colab": {
          "base_uri": "https://localhost:8080/"
        },
        "id": "qi4BFlBuVrdO",
        "outputId": "08d09dab-ba34-4a2e-9990-192fc537c3f1"
      },
      "source": [
        "list1 = [ ]\r\n",
        "print(list1)"
      ],
      "execution_count": 48,
      "outputs": [
        {
          "output_type": "stream",
          "text": [
            "[]\n"
          ],
          "name": "stdout"
        }
      ]
    },
    {
      "cell_type": "code",
      "metadata": {
        "colab": {
          "base_uri": "https://localhost:8080/"
        },
        "id": "wzOamdLLX3Er",
        "outputId": "bf347798-d974-4750-bd7c-79e226731b4f"
      },
      "source": [
        "list2 = [1,2,3,4]\r\n",
        "print(list2)"
      ],
      "execution_count": 49,
      "outputs": [
        {
          "output_type": "stream",
          "text": [
            "[1, 2, 3, 4]\n"
          ],
          "name": "stdout"
        }
      ]
    },
    {
      "cell_type": "code",
      "metadata": {
        "id": "Nr5UjVpUYVyx"
      },
      "source": [
        ""
      ],
      "execution_count": null,
      "outputs": []
    },
    {
      "cell_type": "markdown",
      "metadata": {
        "id": "iO7nnhniXmmu"
      },
      "source": [
        "แบบที่ 2 "
      ]
    },
    {
      "cell_type": "code",
      "metadata": {
        "colab": {
          "base_uri": "https://localhost:8080/"
        },
        "id": "t3eRO7OpXa86",
        "outputId": "0ec56d75-f56c-45dc-d765-5e9a790c52ed"
      },
      "source": [
        "list3 = (  )\r\n",
        "print(list3)"
      ],
      "execution_count": 51,
      "outputs": [
        {
          "output_type": "stream",
          "text": [
            "()\n"
          ],
          "name": "stdout"
        }
      ]
    },
    {
      "cell_type": "markdown",
      "metadata": {
        "id": "5iQQwi0HYYoo"
      },
      "source": [
        "append() เพิ่มสมาชิกใน list"
      ]
    },
    {
      "cell_type": "code",
      "metadata": {
        "colab": {
          "base_uri": "https://localhost:8080/"
        },
        "id": "6kv18PeTYRYr",
        "outputId": "8bdd24b0-5ef2-4327-8384-e46ad934a39f"
      },
      "source": [
        "list2.append('dd')\r\n",
        "print (list2)"
      ],
      "execution_count": 53,
      "outputs": [
        {
          "output_type": "stream",
          "text": [
            "[1, 2, 3, 4, 'dd']\n"
          ],
          "name": "stdout"
        }
      ]
    },
    {
      "cell_type": "markdown",
      "metadata": {
        "id": "M-EHzWBSZhtv"
      },
      "source": [
        "String > list of characters"
      ]
    },
    {
      "cell_type": "code",
      "metadata": {
        "colab": {
          "base_uri": "https://localhost:8080/"
        },
        "id": "2v3E5Tb4YmvE",
        "outputId": "61d5875e-658d-45d5-c2a6-d33bcb1a2e54"
      },
      "source": [
        "l = 'python is easy'\r\n",
        "print (l)"
      ],
      "execution_count": 54,
      "outputs": [
        {
          "output_type": "stream",
          "text": [
            "python is easy\n"
          ],
          "name": "stdout"
        }
      ]
    },
    {
      "cell_type": "code",
      "metadata": {
        "colab": {
          "base_uri": "https://localhost:8080/",
          "height": 35
        },
        "id": "awULFhkjZ5KJ",
        "outputId": "fbdd4ade-c879-4eef-a063-15d0ee131a20"
      },
      "source": [
        "l[1]"
      ],
      "execution_count": 56,
      "outputs": [
        {
          "output_type": "execute_result",
          "data": {
            "application/vnd.google.colaboratory.intrinsic+json": {
              "type": "string"
            },
            "text/plain": [
              "'y'"
            ]
          },
          "metadata": {
            "tags": []
          },
          "execution_count": 56
        }
      ]
    },
    {
      "cell_type": "code",
      "metadata": {
        "colab": {
          "base_uri": "https://localhost:8080/",
          "height": 35
        },
        "id": "E2sceWWtZ8If",
        "outputId": "e0822773-1b3f-4a9b-b039-6d660ad0aaf0"
      },
      "source": [
        "l[-7]"
      ],
      "execution_count": 58,
      "outputs": [
        {
          "output_type": "execute_result",
          "data": {
            "application/vnd.google.colaboratory.intrinsic+json": {
              "type": "string"
            },
            "text/plain": [
              "'i'"
            ]
          },
          "metadata": {
            "tags": []
          },
          "execution_count": 58
        }
      ]
    },
    {
      "cell_type": "code",
      "metadata": {
        "colab": {
          "base_uri": "https://localhost:8080/",
          "height": 35
        },
        "id": "mmIB5dkbaE2F",
        "outputId": "a23d6308-f232-426f-9399-7dd3f87c92c4"
      },
      "source": [
        "l[6]"
      ],
      "execution_count": 59,
      "outputs": [
        {
          "output_type": "execute_result",
          "data": {
            "application/vnd.google.colaboratory.intrinsic+json": {
              "type": "string"
            },
            "text/plain": [
              "' '"
            ]
          },
          "metadata": {
            "tags": []
          },
          "execution_count": 59
        }
      ]
    },
    {
      "cell_type": "code",
      "metadata": {
        "id": "labvX6oNaMNk"
      },
      "source": [
        ""
      ],
      "execution_count": 59,
      "outputs": []
    }
  ]
}