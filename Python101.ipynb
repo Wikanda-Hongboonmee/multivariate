{
  "nbformat": 4,
  "nbformat_minor": 0,
  "metadata": {
    "colab": {
      "name": "Python101.ipynb",
      "provenance": [],
      "include_colab_link": true
    },
    "kernelspec": {
      "name": "python3",
      "display_name": "Python 3"
    }
  },
  "cells": [
    {
      "cell_type": "markdown",
      "metadata": {
        "id": "view-in-github",
        "colab_type": "text"
      },
      "source": [
        "<a href=\"https://colab.research.google.com/github/Wikanda-Hongboonmee/multivariate/blob/main/Python101.ipynb\" target=\"_parent\"><img src=\"https://colab.research.google.com/assets/colab-badge.svg\" alt=\"Open In Colab\"/></a>"
      ]
    },
    {
      "cell_type": "markdown",
      "metadata": {
        "id": "_F2LvOrKLgi5"
      },
      "source": [
        "ตัวแปร variable \r\n"
      ]
    },
    {
      "cell_type": "code",
      "metadata": {
        "id": "iefyA9PiLsTg"
      },
      "source": [
        "3.14159  # hashtag หรือ sharp # คือ comment : Out put ออกทางหน้าจอ"
      ],
      "execution_count": null,
      "outputs": []
    },
    {
      "cell_type": "markdown",
      "metadata": {
        "id": "-_ngE1TGL7LI"
      },
      "source": [
        "หลักการตั้งชื่อตัวแปรเบื้องต้น\r\n",
        "1. ตั้งให้สื่อ\r\n",
        "2. ภาษาอังกฤษ\r\n",
        "3. ใช้ตัวเลขได้แต่ห้ามขึ้นต้นด้วยตัวเลข\r\n",
        "4. ห้ามเว้นวรรค\r\n",
        "5. ตัวเล็กกับตัวใหญ่ไม่เหมือนกัน"
      ]
    },
    {
      "cell_type": "markdown",
      "metadata": {
        "id": "EDkrlKUyMpaJ"
      },
      "source": [
        "มี Output 2 Mode : ออกหน้าจอ กับ เข้าไปเก็บในตัวแปร\r\n"
      ]
    },
    {
      "cell_type": "code",
      "metadata": {
        "colab": {
          "base_uri": "https://localhost:8080/"
        },
        "id": "GUfUis9oMkv_",
        "outputId": "799ec651-239e-40fb-93ac-8c4634f8bea0"
      },
      "source": [
        "3.14159"
      ],
      "execution_count": null,
      "outputs": [
        {
          "output_type": "execute_result",
          "data": {
            "text/plain": [
              "3.14159"
            ]
          },
          "metadata": {
            "tags": []
          },
          "execution_count": 2
        }
      ]
    },
    {
      "cell_type": "code",
      "metadata": {
        "id": "9d0ZYl0WJ9vv"
      },
      "source": [
        "Pi = 3.14159 # Out put ที่เข้าไปอยู่ในตัวแปร"
      ],
      "execution_count": null,
      "outputs": []
    },
    {
      "cell_type": "code",
      "metadata": {
        "colab": {
          "base_uri": "https://localhost:8080/"
        },
        "id": "KJom40EwMTXp",
        "outputId": "cba979fc-2f96-45a0-dab1-4289e4fe8657"
      },
      "source": [
        "Pi"
      ],
      "execution_count": null,
      "outputs": [
        {
          "output_type": "execute_result",
          "data": {
            "text/plain": [
              "3.14159"
            ]
          },
          "metadata": {
            "tags": []
          },
          "execution_count": 3
        }
      ]
    },
    {
      "cell_type": "code",
      "metadata": {
        "colab": {
          "base_uri": "https://localhost:8080/"
        },
        "id": "adLrWDxGM8Gq",
        "outputId": "abf80552-d2bf-4a1f-8dfd-406822b9c059"
      },
      "source": [
        "a = 1234567\r\n",
        "print(a)"
      ],
      "execution_count": null,
      "outputs": [
        {
          "output_type": "stream",
          "text": [
            "1234567\n"
          ],
          "name": "stdout"
        }
      ]
    },
    {
      "cell_type": "markdown",
      "metadata": {
        "id": "yCee8BNWNlJG"
      },
      "source": [
        "ชนิดของตัวแปร \r\n",
        "1. จำนวนเต็ม (integer,int)"
      ]
    },
    {
      "cell_type": "code",
      "metadata": {
        "colab": {
          "base_uri": "https://localhost:8080/"
        },
        "id": "qsI5TLx0NUaM",
        "outputId": "e9957239-c99d-4f94-b5eb-fc7a0f336997"
      },
      "source": [
        "b = 2544\r\n",
        "print(b)"
      ],
      "execution_count": null,
      "outputs": [
        {
          "output_type": "stream",
          "text": [
            "2544\n"
          ],
          "name": "stdout"
        }
      ]
    },
    {
      "cell_type": "markdown",
      "metadata": {
        "id": "eoWWRRNBOzjL"
      },
      "source": [
        "2. จำนวนจริง หรือ ทศนิยม (float)"
      ]
    },
    {
      "cell_type": "code",
      "metadata": {
        "colab": {
          "base_uri": "https://localhost:8080/"
        },
        "id": "Pq6REWD8Ospa",
        "outputId": "858b0e71-74c4-4b6e-af4e-27d7036568f2"
      },
      "source": [
        "c = 11.2567\r\n",
        "print(c)"
      ],
      "execution_count": null,
      "outputs": [
        {
          "output_type": "stream",
          "text": [
            "11.2567\n"
          ],
          "name": "stdout"
        }
      ]
    },
    {
      "cell_type": "markdown",
      "metadata": {
        "id": "s0uDWh5JPDhc"
      },
      "source": [
        "3. ตัวอักษร หรือ ข้อความ (character และ text , string)"
      ]
    },
    {
      "cell_type": "code",
      "metadata": {
        "colab": {
          "base_uri": "https://localhost:8080/"
        },
        "id": "Fdu1EbjsPBYu",
        "outputId": "abadac23-5277-4b85-b948-fc42b044189a"
      },
      "source": [
        "d = ' de '  # ใช้ single quote ' ' หรือ double quote \" \" ล้อมรอบตัวหนังสือเพื่อที่จะระบุว่ามันเป็น character,string\r\n",
        "print(d)"
      ],
      "execution_count": null,
      "outputs": [
        {
          "output_type": "stream",
          "text": [
            " de \n"
          ],
          "name": "stdout"
        }
      ]
    },
    {
      "cell_type": "code",
      "metadata": {
        "colab": {
          "base_uri": "https://localhost:8080/"
        },
        "id": "3OPdMIr3PmZb",
        "outputId": "f2cd01e1-2a8b-402a-f47d-123514467ed3"
      },
      "source": [
        "b + c # float + int = float , แต่ตัวเลขรวมกับข้อความหรือตัวอักษรไม่ได้"
      ],
      "execution_count": null,
      "outputs": [
        {
          "output_type": "execute_result",
          "data": {
            "text/plain": [
              "2555.2567"
            ]
          },
          "metadata": {
            "tags": []
          },
          "execution_count": 10
        }
      ]
    },
    {
      "cell_type": "code",
      "metadata": {
        "colab": {
          "base_uri": "https://localhost:8080/"
        },
        "id": "WLe7CJvQQMbx",
        "outputId": "0c3cbc3d-aff8-4c86-c96c-b32282aecba3"
      },
      "source": [
        "a = ' เอ ' # ข้อความสามารถแสดงเป็นภาษาไทยได้\r\n",
        "print(a)"
      ],
      "execution_count": null,
      "outputs": [
        {
          "output_type": "stream",
          "text": [
            " เอ \n"
          ],
          "name": "stdout"
        }
      ]
    },
    {
      "cell_type": "markdown",
      "metadata": {
        "id": "HZvoDk_3Q2_W"
      },
      "source": [
        "# การเปลี่ยนชนิดของตัวแปร variable casting"
      ]
    },
    {
      "cell_type": "code",
      "metadata": {
        "colab": {
          "base_uri": "https://localhost:8080/"
        },
        "id": "mebZGAW3QyRb",
        "outputId": "75b1f318-27c8-466c-8bf4-358049472d3c"
      },
      "source": [
        "b + int(c) "
      ],
      "execution_count": null,
      "outputs": [
        {
          "output_type": "execute_result",
          "data": {
            "text/plain": [
              "2555"
            ]
          },
          "metadata": {
            "tags": []
          },
          "execution_count": 18
        }
      ]
    },
    {
      "cell_type": "code",
      "metadata": {
        "colab": {
          "base_uri": "https://localhost:8080/"
        },
        "id": "lJIuCAAaSDmJ",
        "outputId": "a47bce94-7ed7-4a39-b00a-a2613be0d52c"
      },
      "source": [
        "b + float(c)"
      ],
      "execution_count": null,
      "outputs": [
        {
          "output_type": "execute_result",
          "data": {
            "text/plain": [
              "2555.2567"
            ]
          },
          "metadata": {
            "tags": []
          },
          "execution_count": 21
        }
      ]
    },
    {
      "cell_type": "code",
      "metadata": {
        "colab": {
          "base_uri": "https://localhost:8080/",
          "height": 35
        },
        "id": "e7NLaZduRiZv",
        "outputId": "e6d29002-dda7-4e39-bc67-3c957eab5eb2"
      },
      "source": [
        "str (b) #ใช้ในการเรียกชื่อตัวแปรเฉยๆ ดูว่าตัวแปรนี้ตอนนี้มีค่าเท่าไหร่"
      ],
      "execution_count": null,
      "outputs": [
        {
          "output_type": "execute_result",
          "data": {
            "application/vnd.google.colaboratory.intrinsic+json": {
              "type": "string"
            },
            "text/plain": [
              "'2544'"
            ]
          },
          "metadata": {
            "tags": []
          },
          "execution_count": 23
        }
      ]
    },
    {
      "cell_type": "markdown",
      "metadata": {
        "id": "j-JxKVmqSLFA"
      },
      "source": [
        "การดำเนินการ Operation (+,-,*,/)"
      ]
    },
    {
      "cell_type": "code",
      "metadata": {
        "colab": {
          "base_uri": "https://localhost:8080/"
        },
        "id": "D58kC5u6R0NG",
        "outputId": "793fde57-4b65-4bbc-bb16-2f4cfd644fe5"
      },
      "source": [
        "b+c"
      ],
      "execution_count": null,
      "outputs": [
        {
          "output_type": "execute_result",
          "data": {
            "text/plain": [
              "2555.2567"
            ]
          },
          "metadata": {
            "tags": []
          },
          "execution_count": 22
        }
      ]
    },
    {
      "cell_type": "code",
      "metadata": {
        "colab": {
          "base_uri": "https://localhost:8080/"
        },
        "id": "hmVTVpyjTIpp",
        "outputId": "7597276d-de19-4846-b471-327890c2dc8d"
      },
      "source": [
        "b-c"
      ],
      "execution_count": null,
      "outputs": [
        {
          "output_type": "execute_result",
          "data": {
            "text/plain": [
              "2532.7433"
            ]
          },
          "metadata": {
            "tags": []
          },
          "execution_count": 26
        }
      ]
    },
    {
      "cell_type": "code",
      "metadata": {
        "colab": {
          "base_uri": "https://localhost:8080/"
        },
        "id": "xJPtuyeiSfH_",
        "outputId": "6d44fbb4-30ea-425e-b268-348cb780714f"
      },
      "source": [
        "bc = b*c\r\n",
        "print (bc)"
      ],
      "execution_count": null,
      "outputs": [
        {
          "output_type": "stream",
          "text": [
            "28637.0448\n"
          ],
          "name": "stdout"
        }
      ]
    },
    {
      "cell_type": "markdown",
      "metadata": {
        "id": "IdHzlQibTbLv"
      },
      "source": [
        "% คือ Mod หรือ Modulo  เป็นการหารเอาเศษ "
      ]
    },
    {
      "cell_type": "code",
      "metadata": {
        "colab": {
          "base_uri": "https://localhost:8080/"
        },
        "id": "6eGdffvAS-m4",
        "outputId": "114d73fb-b0f2-47f4-eb01-e1e033fa2c55"
      },
      "source": [
        "5%3"
      ],
      "execution_count": null,
      "outputs": [
        {
          "output_type": "execute_result",
          "data": {
            "text/plain": [
              "2"
            ]
          },
          "metadata": {
            "tags": []
          },
          "execution_count": 27
        }
      ]
    },
    {
      "cell_type": "code",
      "metadata": {
        "colab": {
          "base_uri": "https://localhost:8080/"
        },
        "id": "OcACkpz-Tk4k",
        "outputId": "1640ef87-592e-4ca9-c980-d954986befd7"
      },
      "source": [
        "7%3"
      ],
      "execution_count": null,
      "outputs": [
        {
          "output_type": "execute_result",
          "data": {
            "text/plain": [
              "1"
            ]
          },
          "metadata": {
            "tags": []
          },
          "execution_count": 28
        }
      ]
    },
    {
      "cell_type": "markdown",
      "metadata": {
        "id": "1tBpyjVcT8ZO"
      },
      "source": [
        "คำสั่ง Print แบบพิเศษ (การ format string)\r\n"
      ]
    },
    {
      "cell_type": "code",
      "metadata": {
        "colab": {
          "base_uri": "https://localhost:8080/"
        },
        "id": "LmhdoPawTorB",
        "outputId": "64de87ba-0a91-4293-df33-b7774a0cf4c0"
      },
      "source": [
        "print ('ตัวแปร')"
      ],
      "execution_count": null,
      "outputs": [
        {
          "output_type": "stream",
          "text": [
            "ตัวแปร\n"
          ],
          "name": "stdout"
        }
      ]
    },
    {
      "cell_type": "code",
      "metadata": {
        "colab": {
          "base_uri": "https://localhost:8080/"
        },
        "id": "ly225HmjUTsk",
        "outputId": "8c6bd983-484b-4d41-ff77-efd24387c09e"
      },
      "source": [
        "print(f'% คือ การหารเอาเศษ เช่น 7%3 = {7%3}')"
      ],
      "execution_count": null,
      "outputs": [
        {
          "output_type": "stream",
          "text": [
            "% คือ การหารเอาเศษ เช่น 7%3 = 1\n"
          ],
          "name": "stdout"
        }
      ]
    },
    {
      "cell_type": "markdown",
      "metadata": {
        "id": "Kz5JMQ19U4sm"
      },
      "source": [
        ""
      ]
    },
    {
      "cell_type": "code",
      "metadata": {
        "colab": {
          "base_uri": "https://localhost:8080/"
        },
        "id": "GL4NAFkfUpmk",
        "outputId": "29aa10a3-65bf-4ad0-bb18-55adfe9e1c81"
      },
      "source": [
        "print(f'% คือ การหารเอาเศษ เช่น 7%3 = {7%3}') \r\n",
        "   #   แต่ / คือการหารปกติ เช่น 7/3 = {7/3}  \r\n",
        "  #  และ // คือการหารเอาส่วน เช่น 7//3 "
      ],
      "execution_count": null,
      "outputs": [
        {
          "output_type": "stream",
          "text": [
            "% คือ การหารเอาเศษ เช่น 7%3 = 1\n"
          ],
          "name": "stdout"
        }
      ]
    },
    {
      "cell_type": "markdown",
      "metadata": {
        "id": "dt1Fft4hXF3k"
      },
      "source": [
        "Data Structure (โครงสร้างข้อมูล)\r\n"
      ]
    },
    {
      "cell_type": "markdown",
      "metadata": {
        "id": "OcQooIDtXcY1"
      },
      "source": [
        "List คือ การเอาข้อมูลหลายๆตัวมาเรียงต่อกัน\r\n",
        "สามารถทำได้ 2 แบบ ดังนี้"
      ]
    },
    {
      "cell_type": "markdown",
      "metadata": {
        "id": "JH6PKB9SXnr-"
      },
      "source": [
        "แบบที่ 1 > square brackets"
      ]
    },
    {
      "cell_type": "code",
      "metadata": {
        "colab": {
          "base_uri": "https://localhost:8080/"
        },
        "id": "qi4BFlBuVrdO",
        "outputId": "b32348b8-830d-44b4-c73c-b708b50ba46e"
      },
      "source": [
        "list1 = [ ]\r\n",
        "print(list1)"
      ],
      "execution_count": 3,
      "outputs": [
        {
          "output_type": "stream",
          "text": [
            "[]\n"
          ],
          "name": "stdout"
        }
      ]
    },
    {
      "cell_type": "code",
      "metadata": {
        "colab": {
          "base_uri": "https://localhost:8080/"
        },
        "id": "wzOamdLLX3Er",
        "outputId": "0967fb14-a975-47e7-e057-99bb6d33a7f7"
      },
      "source": [
        "list2 = [1,2,3,4]\r\n",
        "print(list2)"
      ],
      "execution_count": 4,
      "outputs": [
        {
          "output_type": "stream",
          "text": [
            "[1, 2, 3, 4]\n"
          ],
          "name": "stdout"
        }
      ]
    },
    {
      "cell_type": "code",
      "metadata": {
        "id": "Nr5UjVpUYVyx"
      },
      "source": [
        ""
      ],
      "execution_count": null,
      "outputs": []
    },
    {
      "cell_type": "markdown",
      "metadata": {
        "id": "iO7nnhniXmmu"
      },
      "source": [
        "แบบที่ 2 "
      ]
    },
    {
      "cell_type": "code",
      "metadata": {
        "colab": {
          "base_uri": "https://localhost:8080/"
        },
        "id": "t3eRO7OpXa86",
        "outputId": "5f2c3728-550d-494b-dee8-8e7df69181f5"
      },
      "source": [
        "list3 = (  )\r\n",
        "print(list3)"
      ],
      "execution_count": 5,
      "outputs": [
        {
          "output_type": "stream",
          "text": [
            "()\n"
          ],
          "name": "stdout"
        }
      ]
    },
    {
      "cell_type": "markdown",
      "metadata": {
        "id": "5iQQwi0HYYoo"
      },
      "source": [
        "append() เพิ่มสมาชิกใน list"
      ]
    },
    {
      "cell_type": "code",
      "metadata": {
        "colab": {
          "base_uri": "https://localhost:8080/"
        },
        "id": "6kv18PeTYRYr",
        "outputId": "7182f862-5f03-4742-ec4e-001738a8dfc3"
      },
      "source": [
        "list2.append('dd')\r\n",
        "print (list2)"
      ],
      "execution_count": 6,
      "outputs": [
        {
          "output_type": "stream",
          "text": [
            "[1, 2, 3, 4, 'dd']\n"
          ],
          "name": "stdout"
        }
      ]
    },
    {
      "cell_type": "markdown",
      "metadata": {
        "id": "M-EHzWBSZhtv"
      },
      "source": [
        "String > list of characters"
      ]
    },
    {
      "cell_type": "code",
      "metadata": {
        "colab": {
          "base_uri": "https://localhost:8080/"
        },
        "id": "2v3E5Tb4YmvE",
        "outputId": "76e122c7-66cb-47df-c388-09114eae8e21"
      },
      "source": [
        "l = 'python is easy'\r\n",
        "print (l)"
      ],
      "execution_count": 7,
      "outputs": [
        {
          "output_type": "stream",
          "text": [
            "python is easy\n"
          ],
          "name": "stdout"
        }
      ]
    },
    {
      "cell_type": "code",
      "metadata": {
        "colab": {
          "base_uri": "https://localhost:8080/",
          "height": 35
        },
        "id": "awULFhkjZ5KJ",
        "outputId": "6aa48fce-1de1-4754-9431-d3f360a7d455"
      },
      "source": [
        "l[1]"
      ],
      "execution_count": null,
      "outputs": [
        {
          "output_type": "execute_result",
          "data": {
            "application/vnd.google.colaboratory.intrinsic+json": {
              "type": "string"
            },
            "text/plain": [
              "'y'"
            ]
          },
          "metadata": {
            "tags": []
          },
          "execution_count": 9
        }
      ]
    },
    {
      "cell_type": "code",
      "metadata": {
        "colab": {
          "base_uri": "https://localhost:8080/",
          "height": 35
        },
        "id": "E2sceWWtZ8If",
        "outputId": "1b5d842a-75ac-479e-a439-066028b4b773"
      },
      "source": [
        "l[-7]"
      ],
      "execution_count": null,
      "outputs": [
        {
          "output_type": "execute_result",
          "data": {
            "application/vnd.google.colaboratory.intrinsic+json": {
              "type": "string"
            },
            "text/plain": [
              "'i'"
            ]
          },
          "metadata": {
            "tags": []
          },
          "execution_count": 10
        }
      ]
    },
    {
      "cell_type": "code",
      "metadata": {
        "colab": {
          "base_uri": "https://localhost:8080/",
          "height": 35
        },
        "id": "mmIB5dkbaE2F",
        "outputId": "de1fc5ef-5321-436e-be2c-5bf77dae0d7e"
      },
      "source": [
        "l[6]"
      ],
      "execution_count": null,
      "outputs": [
        {
          "output_type": "execute_result",
          "data": {
            "application/vnd.google.colaboratory.intrinsic+json": {
              "type": "string"
            },
            "text/plain": [
              "' '"
            ]
          },
          "metadata": {
            "tags": []
          },
          "execution_count": 11
        }
      ]
    },
    {
      "cell_type": "code",
      "metadata": {
        "id": "O0Nn1oZxjSVb"
      },
      "source": [
        "#ต้องรันด้านบนมาก่อน เพื่อที่จะให้รู้ว่า l คืออะไร"
      ],
      "execution_count": null,
      "outputs": []
    },
    {
      "cell_type": "code",
      "metadata": {
        "id": "labvX6oNaMNk",
        "colab": {
          "base_uri": "https://localhost:8080/"
        },
        "outputId": "45948352-3408-4136-c230-4de3f2f0334c"
      },
      "source": [
        "len (l) #เป็นคำสั่งตรวจสอบความยาวของ list (จำนวนสมาชิก)"
      ],
      "execution_count": null,
      "outputs": [
        {
          "output_type": "execute_result",
          "data": {
            "text/plain": [
              "14"
            ]
          },
          "metadata": {
            "tags": []
          },
          "execution_count": 13
        }
      ]
    },
    {
      "cell_type": "code",
      "metadata": {
        "id": "Ijo29e6His6Y",
        "colab": {
          "base_uri": "https://localhost:8080/"
        },
        "outputId": "4dbc8be0-ae30-413d-f68d-4c11053e2217"
      },
      "source": [
        "list2"
      ],
      "execution_count": 8,
      "outputs": [
        {
          "output_type": "execute_result",
          "data": {
            "text/plain": [
              "[1, 2, 3, 4, 'dd']"
            ]
          },
          "metadata": {
            "tags": []
          },
          "execution_count": 8
        }
      ]
    },
    {
      "cell_type": "code",
      "metadata": {
        "id": "cNrZhr_Mk_9N",
        "colab": {
          "base_uri": "https://localhost:8080/"
        },
        "outputId": "5e6e1ef9-0af6-486c-fa44-0b4d63751b9d"
      },
      "source": [
        "len (list2)"
      ],
      "execution_count": 9,
      "outputs": [
        {
          "output_type": "execute_result",
          "data": {
            "text/plain": [
              "5"
            ]
          },
          "metadata": {
            "tags": []
          },
          "execution_count": 9
        }
      ]
    },
    {
      "cell_type": "code",
      "metadata": {
        "id": "bXHnzObNlOFC",
        "colab": {
          "base_uri": "https://localhost:8080/"
        },
        "outputId": "cc3a3bf0-cdbc-4de5-8678-80a95daa13c8"
      },
      "source": [
        "list2.append(l) # list สามารถใส่อะไรก็ได้ เอาlist มาซ้อน list ก็ได้\r\n",
        "print (list2)"
      ],
      "execution_count": 10,
      "outputs": [
        {
          "output_type": "stream",
          "text": [
            "[1, 2, 3, 4, 'dd', 'python is easy']\n"
          ],
          "name": "stdout"
        }
      ]
    },
    {
      "cell_type": "markdown",
      "metadata": {
        "id": "7ZfG6mt_mD1X"
      },
      "source": [
        "## List slicing สามารถทำได้โดยใช้ colon :\r\n",
        "[a:b] -> [a,b) "
      ]
    },
    {
      "cell_type": "code",
      "metadata": {
        "id": "exMktsZImxnI"
      },
      "source": [
        "#เอาตั้งแต่ตัวที่ a ถึงตัวที่ b แต่ไม่เอาตัวที่ b"
      ],
      "execution_count": 11,
      "outputs": []
    },
    {
      "cell_type": "code",
      "metadata": {
        "id": "7YVWmXbNm-mz",
        "colab": {
          "base_uri": "https://localhost:8080/"
        },
        "outputId": "0a49c20e-911c-4058-b391-bb5fc52b1f99"
      },
      "source": [
        "print (l)"
      ],
      "execution_count": 12,
      "outputs": [
        {
          "output_type": "stream",
          "text": [
            "python is easy\n"
          ],
          "name": "stdout"
        }
      ]
    },
    {
      "cell_type": "code",
      "metadata": {
        "id": "dadCKckWlzmA",
        "colab": {
          "base_uri": "https://localhost:8080/"
        },
        "outputId": "f3974f94-cd99-4d54-f352-8d6917569226"
      },
      "source": [
        "print (l)\r\n",
        "print (l[7:9])\r\n",
        "print (len(l[7:9])) # นับว่าlistนี้มีสมาชิกกี่ตัว"
      ],
      "execution_count": 13,
      "outputs": [
        {
          "output_type": "stream",
          "text": [
            "python is easy\n",
            "is\n",
            "2\n"
          ],
          "name": "stdout"
        }
      ]
    },
    {
      "cell_type": "code",
      "metadata": {
        "id": "-ibmIZ3BnlWk",
        "colab": {
          "base_uri": "https://localhost:8080/",
          "height": 35
        },
        "outputId": "46b0eae4-e316-49f7-af9e-c241a2d3c2f7"
      },
      "source": [
        "l [0:14:2] # เลขตัวสุดท้ายจะบอกว่าหยิบเลขทุกๆกี่ตัว อย่างเช่นอันนี้คือหยิบเลขทีละ2ตัว"
      ],
      "execution_count": 14,
      "outputs": [
        {
          "output_type": "execute_result",
          "data": {
            "application/vnd.google.colaboratory.intrinsic+json": {
              "type": "string"
            },
            "text/plain": [
              "'pto ses'"
            ]
          },
          "metadata": {
            "tags": []
          },
          "execution_count": 14
        }
      ]
    },
    {
      "cell_type": "code",
      "metadata": {
        "id": "mHGTGALOoNLA",
        "colab": {
          "base_uri": "https://localhost:8080/"
        },
        "outputId": "eb5a7629-4acf-470e-ef35-6847c9050502"
      },
      "source": [
        "z = [1,2,3,4,5,6,7,8,9,10]\r\n",
        "print (z)\r\n"
      ],
      "execution_count": 15,
      "outputs": [
        {
          "output_type": "stream",
          "text": [
            "[1, 2, 3, 4, 5, 6, 7, 8, 9, 10]\n"
          ],
          "name": "stdout"
        }
      ]
    },
    {
      "cell_type": "code",
      "metadata": {
        "id": "RspO4SI4ocoz",
        "colab": {
          "base_uri": "https://localhost:8080/"
        },
        "outputId": "c05f3086-9c27-4e72-e716-ac96a2496036"
      },
      "source": [
        "z [1:10:2] #แสดงผลจำนวนคู่"
      ],
      "execution_count": 16,
      "outputs": [
        {
          "output_type": "execute_result",
          "data": {
            "text/plain": [
              "[2, 4, 6, 8, 10]"
            ]
          },
          "metadata": {
            "tags": []
          },
          "execution_count": 16
        }
      ]
    },
    {
      "cell_type": "markdown",
      "metadata": {
        "id": "vnqd5U3JnPgh"
      },
      "source": [
        "ถ้าเว้นว่างหน้า : หมายความว่า เริ่มตั้งแต่ตัวแรก (ตัวที่ 0)\r\n",
        "\r\n",
        "ถ้าเว้นว่างหลัง : หมายความว่า ไปจนถึงตัวสุดท้าย (len(list))"
      ]
    },
    {
      "cell_type": "code",
      "metadata": {
        "id": "8B5L9KR4l4IK",
        "colab": {
          "base_uri": "https://localhost:8080/"
        },
        "outputId": "85ba7941-0760-4073-90dc-141dc54689a0"
      },
      "source": [
        "print (l)\r\n",
        "print (l[:6])\r\n",
        "print (l[10:])\r\n",
        "print (l[-4:]) # นับมาจากข้างหลัง\r\n",
        "print (l[:])"
      ],
      "execution_count": 17,
      "outputs": [
        {
          "output_type": "stream",
          "text": [
            "python is easy\n",
            "python\n",
            "easy\n",
            "easy\n",
            "python is easy\n"
          ],
          "name": "stdout"
        }
      ]
    },
    {
      "cell_type": "code",
      "metadata": {
        "id": "qh1pdOXop05z",
        "colab": {
          "base_uri": "https://localhost:8080/"
        },
        "outputId": "4c8235db-1595-453f-8de9-4492a2612a10"
      },
      "source": [
        "print (z[: : 2])"
      ],
      "execution_count": 18,
      "outputs": [
        {
          "output_type": "stream",
          "text": [
            "[1, 3, 5, 7, 9]\n"
          ],
          "name": "stdout"
        }
      ]
    },
    {
      "cell_type": "markdown",
      "metadata": {
        "id": "mTYFqx__qJN_"
      },
      "source": [
        "## เราสามารถเอา list มาต่อกันได้ด้วย โดยใช้เครื่องหมาย +"
      ]
    },
    {
      "cell_type": "code",
      "metadata": {
        "id": "16jq66jvqNio",
        "colab": {
          "base_uri": "https://localhost:8080/",
          "height": 35
        },
        "outputId": "f54a553a-84ed-4d91-9539-ce4a5e181ba7"
      },
      "source": [
        "l + \"!!\""
      ],
      "execution_count": null,
      "outputs": [
        {
          "output_type": "execute_result",
          "data": {
            "application/vnd.google.colaboratory.intrinsic+json": {
              "type": "string"
            },
            "text/plain": [
              "'python is easy!!'"
            ]
          },
          "metadata": {
            "tags": []
          },
          "execution_count": 38
        }
      ]
    },
    {
      "cell_type": "code",
      "metadata": {
        "id": "IvtAvK8tr_bN",
        "colab": {
          "base_uri": "https://localhost:8080/",
          "height": 163
        },
        "outputId": "46908647-a74a-494c-f76e-fc9f252f4d06"
      },
      "source": [
        "l + list2 #ไม่สามารถเอา list มาบวกกับ string ได้"
      ],
      "execution_count": null,
      "outputs": [
        {
          "output_type": "error",
          "ename": "TypeError",
          "evalue": "ignored",
          "traceback": [
            "\u001b[0;31m---------------------------------------------------------------------------\u001b[0m",
            "\u001b[0;31mTypeError\u001b[0m                                 Traceback (most recent call last)",
            "\u001b[0;32m<ipython-input-40-199c05e93637>\u001b[0m in \u001b[0;36m<module>\u001b[0;34m()\u001b[0m\n\u001b[0;32m----> 1\u001b[0;31m \u001b[0ml\u001b[0m \u001b[0;34m+\u001b[0m \u001b[0mlist2\u001b[0m \u001b[0;31m#ไม่สามารถเอา list มาบวกกับ string ได้\u001b[0m\u001b[0;34m\u001b[0m\u001b[0;34m\u001b[0m\u001b[0m\n\u001b[0m",
            "\u001b[0;31mTypeError\u001b[0m: must be str, not list"
          ]
        }
      ]
    },
    {
      "cell_type": "code",
      "metadata": {
        "id": "Vu0Vehc8sG4Z",
        "colab": {
          "base_uri": "https://localhost:8080/"
        },
        "outputId": "e9f8d79b-2ed0-4393-e948-532fafb939fb"
      },
      "source": [
        "print (list1)\r\n",
        "list2 = [1,2,3,4,\"dd\"]\r\n",
        "print (list2)\r\n",
        "print (list1 + list2) # + คือเอาสมาชิกมารวมกัน"
      ],
      "execution_count": null,
      "outputs": [
        {
          "output_type": "stream",
          "text": [
            "[]\n",
            "[1, 2, 3, 4, 'dd']\n",
            "[1, 2, 3, 4, 'dd']\n"
          ],
          "name": "stdout"
        }
      ]
    },
    {
      "cell_type": "code",
      "metadata": {
        "id": "vYmHCRq7tOWn",
        "colab": {
          "base_uri": "https://localhost:8080/"
        },
        "outputId": "017d80eb-ff97-4b53-e6ce-6110cc43fc20"
      },
      "source": [
        "list2.append(list1)\r\n",
        "print(list2)"
      ],
      "execution_count": null,
      "outputs": [
        {
          "output_type": "stream",
          "text": [
            "[1, 2, 3, 4, 'dd', [...], []]\n"
          ],
          "name": "stdout"
        }
      ]
    },
    {
      "cell_type": "markdown",
      "metadata": {
        "id": "6pyfERu9shFl"
      },
      "source": [
        "การแบ่ง string ตามสัญลักษณ์ที่กำหนด -> split string"
      ]
    },
    {
      "cell_type": "code",
      "metadata": {
        "id": "QEuCzwiPsZF3",
        "colab": {
          "base_uri": "https://localhost:8080/",
          "height": 35
        },
        "outputId": "548b941d-b1de-4a4b-874b-aa4fc06f1df7"
      },
      "source": [
        "l"
      ],
      "execution_count": null,
      "outputs": [
        {
          "output_type": "execute_result",
          "data": {
            "application/vnd.google.colaboratory.intrinsic+json": {
              "type": "string"
            },
            "text/plain": [
              "'python is easy'"
            ]
          },
          "metadata": {
            "tags": []
          },
          "execution_count": 45
        }
      ]
    },
    {
      "cell_type": "code",
      "metadata": {
        "id": "CJSjqsaduBwl",
        "colab": {
          "base_uri": "https://localhost:8080/"
        },
        "outputId": "fb8537d2-0d42-4bc2-9993-4dbea2334d80"
      },
      "source": [
        "l.split ( ' ' ) #เราสามารถเลือกได้ว่าเราจะแบ่งข้อความด้วยสัญลักษณ์อะไร"
      ],
      "execution_count": null,
      "outputs": [
        {
          "output_type": "execute_result",
          "data": {
            "text/plain": [
              "['python', 'is', 'easy']"
            ]
          },
          "metadata": {
            "tags": []
          },
          "execution_count": 50
        }
      ]
    },
    {
      "cell_type": "code",
      "metadata": {
        "id": "aAzgqs4-uHll"
      },
      "source": [
        "time = \"12:30:15\""
      ],
      "execution_count": null,
      "outputs": []
    },
    {
      "cell_type": "code",
      "metadata": {
        "id": "hyvOXqMCutLb",
        "colab": {
          "base_uri": "https://localhost:8080/"
        },
        "outputId": "561fe3fd-6369-46e6-d62f-d0eb8be890d0"
      },
      "source": [
        "time.split (\":\")"
      ],
      "execution_count": null,
      "outputs": [
        {
          "output_type": "execute_result",
          "data": {
            "text/plain": [
              "['12', '30', '15']"
            ]
          },
          "metadata": {
            "tags": []
          },
          "execution_count": 53
        }
      ]
    },
    {
      "cell_type": "code",
      "metadata": {
        "id": "lSPy4cP5uytZ",
        "colab": {
          "base_uri": "https://localhost:8080/"
        },
        "outputId": "b31fede1-14aa-44ca-8d10-c0d085d0c415"
      },
      "source": [
        "l_sp = l.split (\" \")\r\n",
        "print (l_sp)"
      ],
      "execution_count": null,
      "outputs": [
        {
          "output_type": "stream",
          "text": [
            "['python', 'is', 'easy']\n"
          ],
          "name": "stdout"
        }
      ]
    },
    {
      "cell_type": "code",
      "metadata": {
        "id": "NrJTP07Su-aw",
        "colab": {
          "base_uri": "https://localhost:8080/"
        },
        "outputId": "0a68d669-7669-46b8-e297-dcd8a050dd0e"
      },
      "source": [
        "#วิธีรวมกลับ\r\n",
        "print (\":\".join(l_sp))"
      ],
      "execution_count": null,
      "outputs": [
        {
          "output_type": "stream",
          "text": [
            "python:is:easy\n"
          ],
          "name": "stdout"
        }
      ]
    },
    {
      "cell_type": "markdown",
      "metadata": {
        "id": "L_wkQn6JvUQz"
      },
      "source": [
        "## HW คำนวณเวลาเป็นวินาทีของเวลาต่อไปนี้โดยใช้คำสั่ง split() ช่วย print ออกมาให้สวยงาม\r\n",
        "\r\n",
        "12:30:15\r\n",
        "\r\n",
        "13:41:07\r\n",
        "\r\n",
        "12:53:15\r\n",
        "\r\n",
        "00:59:25\r\n",
        "\r\n",
        "11:11:11\r\n",
        "\r\n",
        "16:06:09\r\n",
        "\r\n",
        "21:12:30\r\n",
        "\r\n",
        "10:06:15\r\n",
        "\r\n",
        "ตัวอย่าง 00:01:10 = 70 วินาที\r\n",
        "\r\n",
        "ตัวอย่าง 01:00:01 = 3601 วินาที"
      ]
    },
    {
      "cell_type": "code",
      "metadata": {
        "id": "sPN6FFBzvOph",
        "outputId": "8a18515a-b5d0-4467-91f9-d33438fdc1b6",
        "colab": {
          "base_uri": "https://localhost:8080/"
        }
      },
      "source": [
        "T1 = \"12:30:15\"\r\n",
        "T1.split (\":\")\r\n",
        "list_T1 = [12,30,15]\r\n",
        "Hour = list_T1[0]*3600\r\n",
        "Minute = list_T1[1]*60\r\n",
        "Second= list_T1[2]\r\n",
        "Total_T1 = Hour+Minute+Second\r\n",
        "print (T1,\"=\",Total_T1,\"วินาที\")"
      ],
      "execution_count": 44,
      "outputs": [
        {
          "output_type": "stream",
          "text": [
            "12:30:15 = 45015 วินาที\n"
          ],
          "name": "stdout"
        }
      ]
    },
    {
      "cell_type": "code",
      "metadata": {
        "id": "_LYH90OiYLBt",
        "outputId": "1914a2e7-8653-4a0b-d475-072728ab1d95",
        "colab": {
          "base_uri": "https://localhost:8080/"
        }
      },
      "source": [
        "T2 = \"13:41:07\"\r\n",
        "T2.split (\":\")\r\n",
        "list_T2 = [13,41,7] \r\n",
        "Hour = list_T2[0]*3600\r\n",
        "Minute = list_T2[1]*60\r\n",
        "Second= list_T2[2]\r\n",
        "Total_T2 = Hour+Minute+Second\r\n",
        "print (T2,\"=\",Total_T2,\"วินาที\")"
      ],
      "execution_count": 45,
      "outputs": [
        {
          "output_type": "stream",
          "text": [
            "13:41:07 = 49267 วินาที\n"
          ],
          "name": "stdout"
        }
      ]
    },
    {
      "cell_type": "code",
      "metadata": {
        "id": "VaBr-s6wa_m2",
        "outputId": "6dc180cb-ba7f-4a39-b904-0ce1f2c8648b",
        "colab": {
          "base_uri": "https://localhost:8080/"
        }
      },
      "source": [
        "T3 = \"12:53:15\"\r\n",
        "T3.split (\":\")\r\n",
        "list_T3 = [12,53,15]\r\n",
        "Hour = list_T3[0]*3600\r\n",
        "Minute = list_T3[1]*60\r\n",
        "Second= list_T3[2]\r\n",
        "Total_T3 = Hour+Minute+Second\r\n",
        "print (T3,\"=\",Total_T3,\"วินาที\")"
      ],
      "execution_count": 46,
      "outputs": [
        {
          "output_type": "stream",
          "text": [
            "12:53:15 = 46395 วินาที\n"
          ],
          "name": "stdout"
        }
      ]
    },
    {
      "cell_type": "code",
      "metadata": {
        "id": "_QN3uEuYb8K6",
        "outputId": "59dfb8c7-d43e-4a93-a9dc-bdd2136b5130",
        "colab": {
          "base_uri": "https://localhost:8080/"
        }
      },
      "source": [
        "T4 = \"00:59:25\"\r\n",
        "T4.split (\":\")\r\n",
        "list_T4 = [00,59,25]\r\n",
        "Hour = list_T4[0]*3600\r\n",
        "Minute = list_T4[1]*60\r\n",
        "Second= list_T4[2]\r\n",
        "Total_T4 = Hour+Minute+Second\r\n",
        "print (T4,\"=\",Total_T4,\"วินาที\")"
      ],
      "execution_count": 47,
      "outputs": [
        {
          "output_type": "stream",
          "text": [
            "00:59:25 = 3565 วินาที\n"
          ],
          "name": "stdout"
        }
      ]
    },
    {
      "cell_type": "code",
      "metadata": {
        "id": "C7mLxhCFcp-_",
        "outputId": "d077f917-36ff-401f-e8bc-b7349d03ce97",
        "colab": {
          "base_uri": "https://localhost:8080/"
        }
      },
      "source": [
        "T5 = \"11:11:11\"\r\n",
        "T5.split (\":\")\r\n",
        "list_T5 = [11,11,11]\r\n",
        "Hour = list_T5[0]*3600\r\n",
        "Minute = list_T5[1]*60\r\n",
        "Second= list_T5[2]\r\n",
        "Total_T5 = Hour+Minute+Second\r\n",
        "print (T5,\"=\",Total_T5,\"วินาที\")"
      ],
      "execution_count": 48,
      "outputs": [
        {
          "output_type": "stream",
          "text": [
            "11:11:11 = 40271 วินาที\n"
          ],
          "name": "stdout"
        }
      ]
    },
    {
      "cell_type": "code",
      "metadata": {
        "id": "f0Sg08knc-P7",
        "outputId": "3d19565f-50f9-48c5-c36f-cb45b5dde7c0",
        "colab": {
          "base_uri": "https://localhost:8080/"
        }
      },
      "source": [
        "T6 = \"16:06:09\"\r\n",
        "T6.split (\":\")\r\n",
        "list_T6 = [16,6,9]\r\n",
        "Hour = list_T6[0]*3600\r\n",
        "Minute = list_T6[1]*60\r\n",
        "Second= list_T6[2]\r\n",
        "Total_T6 = Hour+Minute+Second\r\n",
        "print (T6,\"=\",Total_T6,\"วินาที\")"
      ],
      "execution_count": 49,
      "outputs": [
        {
          "output_type": "stream",
          "text": [
            "16:06:09 = 57969 วินาที\n"
          ],
          "name": "stdout"
        }
      ]
    },
    {
      "cell_type": "code",
      "metadata": {
        "id": "E4Z2JCJkdPgW",
        "outputId": "cc388a3d-7bbf-47e0-c1e0-ceaf25d74ffa",
        "colab": {
          "base_uri": "https://localhost:8080/"
        }
      },
      "source": [
        "T7 = \"21:12:30\"\r\n",
        "T7.split (\":\")\r\n",
        "list_T7 = [21,12,30]\r\n",
        "Hour = list_T7[0]*3600\r\n",
        "Minute = list_T7[1]*60\r\n",
        "Second= list_T7[2]\r\n",
        "Total_T7 = Hour+Minute+Second\r\n",
        "print (T7,\"=\",Total_T7,\"วินาที\")"
      ],
      "execution_count": 50,
      "outputs": [
        {
          "output_type": "stream",
          "text": [
            "21:12:30 = 76350 วินาที\n"
          ],
          "name": "stdout"
        }
      ]
    },
    {
      "cell_type": "code",
      "metadata": {
        "id": "z30FqAf4dlYl",
        "outputId": "6ac0e1be-6cb4-4c1e-eca9-86ba895e9229",
        "colab": {
          "base_uri": "https://localhost:8080/"
        }
      },
      "source": [
        "T8 = \"10:06:15\"\r\n",
        "T8.split (\":\")\r\n",
        "list_T8 = [10,6,15]\r\n",
        "Hour = list_T8[0]*3600\r\n",
        "Minute = list_T8[1]*60\r\n",
        "Second= list_T8[2]\r\n",
        "Total_T8 = Hour+Minute+Second\r\n",
        "print (T8,\"=\",Total_T8,\"วินาที\")"
      ],
      "execution_count": 51,
      "outputs": [
        {
          "output_type": "stream",
          "text": [
            "10:06:15 = 36375 วินาที\n"
          ],
          "name": "stdout"
        }
      ]
    },
    {
      "cell_type": "code",
      "metadata": {
        "id": "GPu_RSdgd2Zh"
      },
      "source": [
        ""
      ],
      "execution_count": null,
      "outputs": []
    }
  ]
}