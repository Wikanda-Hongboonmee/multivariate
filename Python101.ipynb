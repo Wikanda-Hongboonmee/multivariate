{
  "nbformat": 4,
  "nbformat_minor": 0,
  "metadata": {
    "colab": {
      "name": "Python101.ipynb",
      "provenance": [],
      "include_colab_link": true
    },
    "kernelspec": {
      "name": "python3",
      "display_name": "Python 3"
    }
  },
  "cells": [
    {
      "cell_type": "markdown",
      "metadata": {
        "id": "view-in-github",
        "colab_type": "text"
      },
      "source": [
        "<a href=\"https://colab.research.google.com/github/Wikanda-Hongboonmee/multivariate/blob/main/Python101.ipynb\" target=\"_parent\"><img src=\"https://colab.research.google.com/assets/colab-badge.svg\" alt=\"Open In Colab\"/></a>"
      ]
    },
    {
      "cell_type": "markdown",
      "metadata": {
        "id": "_F2LvOrKLgi5"
      },
      "source": [
        "ตัวแปร variable \r\n"
      ]
    },
    {
      "cell_type": "code",
      "metadata": {
        "id": "iefyA9PiLsTg"
      },
      "source": [
        "3.14159  # hashtag หรือ sharp # คือ comment : Out put ออกทางหน้าจอ"
      ],
      "execution_count": null,
      "outputs": []
    },
    {
      "cell_type": "markdown",
      "metadata": {
        "id": "-_ngE1TGL7LI"
      },
      "source": [
        "หลักการตั้งชื่อตัวแปรเบื้องต้น\r\n",
        "1. ตั้งให้สื่อ\r\n",
        "2. ภาษาอังกฤษ\r\n",
        "3. ใช้ตัวเลขได้แต่ห้ามขึ้นต้นด้วยตัวเลข\r\n",
        "4. ห้ามเว้นวรรค\r\n",
        "5. ตัวเล็กกับตัวใหญ่ไม่เหมือนกัน"
      ]
    },
    {
      "cell_type": "markdown",
      "metadata": {
        "id": "EDkrlKUyMpaJ"
      },
      "source": [
        "มี Output 2 Mode : ออกหน้าจอ กับ เข้าไปเก็บในตัวแปร\r\n"
      ]
    },
    {
      "cell_type": "code",
      "metadata": {
        "colab": {
          "base_uri": "https://localhost:8080/"
        },
        "id": "GUfUis9oMkv_",
        "outputId": "799ec651-239e-40fb-93ac-8c4634f8bea0"
      },
      "source": [
        "3.14159"
      ],
      "execution_count": null,
      "outputs": [
        {
          "output_type": "execute_result",
          "data": {
            "text/plain": [
              "3.14159"
            ]
          },
          "metadata": {
            "tags": []
          },
          "execution_count": 2
        }
      ]
    },
    {
      "cell_type": "code",
      "metadata": {
        "id": "9d0ZYl0WJ9vv"
      },
      "source": [
        "Pi = 3.14159 # Out put ที่เข้าไปอยู่ในตัวแปร"
      ],
      "execution_count": null,
      "outputs": []
    },
    {
      "cell_type": "code",
      "metadata": {
        "colab": {
          "base_uri": "https://localhost:8080/"
        },
        "id": "KJom40EwMTXp",
        "outputId": "cba979fc-2f96-45a0-dab1-4289e4fe8657"
      },
      "source": [
        "Pi"
      ],
      "execution_count": null,
      "outputs": [
        {
          "output_type": "execute_result",
          "data": {
            "text/plain": [
              "3.14159"
            ]
          },
          "metadata": {
            "tags": []
          },
          "execution_count": 3
        }
      ]
    },
    {
      "cell_type": "code",
      "metadata": {
        "colab": {
          "base_uri": "https://localhost:8080/"
        },
        "id": "adLrWDxGM8Gq",
        "outputId": "abf80552-d2bf-4a1f-8dfd-406822b9c059"
      },
      "source": [
        "a = 1234567\r\n",
        "print(a)"
      ],
      "execution_count": null,
      "outputs": [
        {
          "output_type": "stream",
          "text": [
            "1234567\n"
          ],
          "name": "stdout"
        }
      ]
    },
    {
      "cell_type": "markdown",
      "metadata": {
        "id": "yCee8BNWNlJG"
      },
      "source": [
        "ชนิดของตัวแปร \r\n",
        "1. จำนวนเต็ม (integer,int)"
      ]
    },
    {
      "cell_type": "code",
      "metadata": {
        "colab": {
          "base_uri": "https://localhost:8080/"
        },
        "id": "qsI5TLx0NUaM",
        "outputId": "e9957239-c99d-4f94-b5eb-fc7a0f336997"
      },
      "source": [
        "b = 2544\r\n",
        "print(b)"
      ],
      "execution_count": null,
      "outputs": [
        {
          "output_type": "stream",
          "text": [
            "2544\n"
          ],
          "name": "stdout"
        }
      ]
    },
    {
      "cell_type": "markdown",
      "metadata": {
        "id": "eoWWRRNBOzjL"
      },
      "source": [
        "2. จำนวนจริง หรือ ทศนิยม (float)"
      ]
    },
    {
      "cell_type": "code",
      "metadata": {
        "colab": {
          "base_uri": "https://localhost:8080/"
        },
        "id": "Pq6REWD8Ospa",
        "outputId": "858b0e71-74c4-4b6e-af4e-27d7036568f2"
      },
      "source": [
        "c = 11.2567\r\n",
        "print(c)"
      ],
      "execution_count": null,
      "outputs": [
        {
          "output_type": "stream",
          "text": [
            "11.2567\n"
          ],
          "name": "stdout"
        }
      ]
    },
    {
      "cell_type": "markdown",
      "metadata": {
        "id": "s0uDWh5JPDhc"
      },
      "source": [
        "3. ตัวอักษร หรือ ข้อความ (character และ text , string)"
      ]
    },
    {
      "cell_type": "code",
      "metadata": {
        "colab": {
          "base_uri": "https://localhost:8080/"
        },
        "id": "Fdu1EbjsPBYu",
        "outputId": "abadac23-5277-4b85-b948-fc42b044189a"
      },
      "source": [
        "d = ' de '  # ใช้ single quote ' ' หรือ double quote \" \" ล้อมรอบตัวหนังสือเพื่อที่จะระบุว่ามันเป็น character,string\r\n",
        "print(d)"
      ],
      "execution_count": null,
      "outputs": [
        {
          "output_type": "stream",
          "text": [
            " de \n"
          ],
          "name": "stdout"
        }
      ]
    },
    {
      "cell_type": "code",
      "metadata": {
        "colab": {
          "base_uri": "https://localhost:8080/"
        },
        "id": "3OPdMIr3PmZb",
        "outputId": "f2cd01e1-2a8b-402a-f47d-123514467ed3"
      },
      "source": [
        "b + c # float + int = float , แต่ตัวเลขรวมกับข้อความหรือตัวอักษรไม่ได้"
      ],
      "execution_count": null,
      "outputs": [
        {
          "output_type": "execute_result",
          "data": {
            "text/plain": [
              "2555.2567"
            ]
          },
          "metadata": {
            "tags": []
          },
          "execution_count": 10
        }
      ]
    },
    {
      "cell_type": "code",
      "metadata": {
        "colab": {
          "base_uri": "https://localhost:8080/"
        },
        "id": "WLe7CJvQQMbx",
        "outputId": "0c3cbc3d-aff8-4c86-c96c-b32282aecba3"
      },
      "source": [
        "a = ' เอ ' # ข้อความสามารถแสดงเป็นภาษาไทยได้\r\n",
        "print(a)"
      ],
      "execution_count": null,
      "outputs": [
        {
          "output_type": "stream",
          "text": [
            " เอ \n"
          ],
          "name": "stdout"
        }
      ]
    },
    {
      "cell_type": "markdown",
      "metadata": {
        "id": "HZvoDk_3Q2_W"
      },
      "source": [
        "# การเปลี่ยนชนิดของตัวแปร variable casting"
      ]
    },
    {
      "cell_type": "code",
      "metadata": {
        "colab": {
          "base_uri": "https://localhost:8080/"
        },
        "id": "mebZGAW3QyRb",
        "outputId": "75b1f318-27c8-466c-8bf4-358049472d3c"
      },
      "source": [
        "b + int(c) "
      ],
      "execution_count": null,
      "outputs": [
        {
          "output_type": "execute_result",
          "data": {
            "text/plain": [
              "2555"
            ]
          },
          "metadata": {
            "tags": []
          },
          "execution_count": 18
        }
      ]
    },
    {
      "cell_type": "code",
      "metadata": {
        "colab": {
          "base_uri": "https://localhost:8080/"
        },
        "id": "lJIuCAAaSDmJ",
        "outputId": "a47bce94-7ed7-4a39-b00a-a2613be0d52c"
      },
      "source": [
        "b + float(c)"
      ],
      "execution_count": null,
      "outputs": [
        {
          "output_type": "execute_result",
          "data": {
            "text/plain": [
              "2555.2567"
            ]
          },
          "metadata": {
            "tags": []
          },
          "execution_count": 21
        }
      ]
    },
    {
      "cell_type": "code",
      "metadata": {
        "colab": {
          "base_uri": "https://localhost:8080/",
          "height": 35
        },
        "id": "e7NLaZduRiZv",
        "outputId": "e6d29002-dda7-4e39-bc67-3c957eab5eb2"
      },
      "source": [
        "str (b) #ใช้ในการเรียกชื่อตัวแปรเฉยๆ ดูว่าตัวแปรนี้ตอนนี้มีค่าเท่าไหร่"
      ],
      "execution_count": null,
      "outputs": [
        {
          "output_type": "execute_result",
          "data": {
            "application/vnd.google.colaboratory.intrinsic+json": {
              "type": "string"
            },
            "text/plain": [
              "'2544'"
            ]
          },
          "metadata": {
            "tags": []
          },
          "execution_count": 23
        }
      ]
    },
    {
      "cell_type": "markdown",
      "metadata": {
        "id": "j-JxKVmqSLFA"
      },
      "source": [
        "การดำเนินการ Operation (+,-,*,/)"
      ]
    },
    {
      "cell_type": "code",
      "metadata": {
        "colab": {
          "base_uri": "https://localhost:8080/"
        },
        "id": "D58kC5u6R0NG",
        "outputId": "793fde57-4b65-4bbc-bb16-2f4cfd644fe5"
      },
      "source": [
        "b+c"
      ],
      "execution_count": null,
      "outputs": [
        {
          "output_type": "execute_result",
          "data": {
            "text/plain": [
              "2555.2567"
            ]
          },
          "metadata": {
            "tags": []
          },
          "execution_count": 22
        }
      ]
    },
    {
      "cell_type": "code",
      "metadata": {
        "colab": {
          "base_uri": "https://localhost:8080/"
        },
        "id": "hmVTVpyjTIpp",
        "outputId": "7597276d-de19-4846-b471-327890c2dc8d"
      },
      "source": [
        "b-c"
      ],
      "execution_count": null,
      "outputs": [
        {
          "output_type": "execute_result",
          "data": {
            "text/plain": [
              "2532.7433"
            ]
          },
          "metadata": {
            "tags": []
          },
          "execution_count": 26
        }
      ]
    },
    {
      "cell_type": "code",
      "metadata": {
        "colab": {
          "base_uri": "https://localhost:8080/"
        },
        "id": "xJPtuyeiSfH_",
        "outputId": "6d44fbb4-30ea-425e-b268-348cb780714f"
      },
      "source": [
        "bc = b*c\r\n",
        "print (bc)"
      ],
      "execution_count": null,
      "outputs": [
        {
          "output_type": "stream",
          "text": [
            "28637.0448\n"
          ],
          "name": "stdout"
        }
      ]
    },
    {
      "cell_type": "markdown",
      "metadata": {
        "id": "IdHzlQibTbLv"
      },
      "source": [
        "% คือ Mod หรือ Modulo  เป็นการหารเอาเศษ "
      ]
    },
    {
      "cell_type": "code",
      "metadata": {
        "colab": {
          "base_uri": "https://localhost:8080/"
        },
        "id": "6eGdffvAS-m4",
        "outputId": "114d73fb-b0f2-47f4-eb01-e1e033fa2c55"
      },
      "source": [
        "5%3"
      ],
      "execution_count": null,
      "outputs": [
        {
          "output_type": "execute_result",
          "data": {
            "text/plain": [
              "2"
            ]
          },
          "metadata": {
            "tags": []
          },
          "execution_count": 27
        }
      ]
    },
    {
      "cell_type": "code",
      "metadata": {
        "colab": {
          "base_uri": "https://localhost:8080/"
        },
        "id": "OcACkpz-Tk4k",
        "outputId": "1640ef87-592e-4ca9-c980-d954986befd7"
      },
      "source": [
        "7%3"
      ],
      "execution_count": null,
      "outputs": [
        {
          "output_type": "execute_result",
          "data": {
            "text/plain": [
              "1"
            ]
          },
          "metadata": {
            "tags": []
          },
          "execution_count": 28
        }
      ]
    },
    {
      "cell_type": "markdown",
      "metadata": {
        "id": "1tBpyjVcT8ZO"
      },
      "source": [
        "คำสั่ง Print แบบพิเศษ (การ format string)\r\n"
      ]
    },
    {
      "cell_type": "code",
      "metadata": {
        "colab": {
          "base_uri": "https://localhost:8080/"
        },
        "id": "LmhdoPawTorB",
        "outputId": "64de87ba-0a91-4293-df33-b7774a0cf4c0"
      },
      "source": [
        "print ('ตัวแปร')"
      ],
      "execution_count": null,
      "outputs": [
        {
          "output_type": "stream",
          "text": [
            "ตัวแปร\n"
          ],
          "name": "stdout"
        }
      ]
    },
    {
      "cell_type": "code",
      "metadata": {
        "colab": {
          "base_uri": "https://localhost:8080/"
        },
        "id": "ly225HmjUTsk",
        "outputId": "8c6bd983-484b-4d41-ff77-efd24387c09e"
      },
      "source": [
        "print(f'% คือ การหารเอาเศษ เช่น 7%3 = {7%3}')"
      ],
      "execution_count": null,
      "outputs": [
        {
          "output_type": "stream",
          "text": [
            "% คือ การหารเอาเศษ เช่น 7%3 = 1\n"
          ],
          "name": "stdout"
        }
      ]
    },
    {
      "cell_type": "markdown",
      "metadata": {
        "id": "Kz5JMQ19U4sm"
      },
      "source": [
        ""
      ]
    },
    {
      "cell_type": "code",
      "metadata": {
        "colab": {
          "base_uri": "https://localhost:8080/"
        },
        "id": "GL4NAFkfUpmk",
        "outputId": "29aa10a3-65bf-4ad0-bb18-55adfe9e1c81"
      },
      "source": [
        "print(f'% คือ การหารเอาเศษ เช่น 7%3 = {7%3}') \r\n",
        "   #   แต่ / คือการหารปกติ เช่น 7/3 = {7/3}  \r\n",
        "  #  และ // คือการหารเอาส่วน เช่น 7//3 "
      ],
      "execution_count": null,
      "outputs": [
        {
          "output_type": "stream",
          "text": [
            "% คือ การหารเอาเศษ เช่น 7%3 = 1\n"
          ],
          "name": "stdout"
        }
      ]
    },
    {
      "cell_type": "markdown",
      "metadata": {
        "id": "dt1Fft4hXF3k"
      },
      "source": [
        "Data Structure (โครงสร้างข้อมูล)\r\n"
      ]
    },
    {
      "cell_type": "markdown",
      "metadata": {
        "id": "OcQooIDtXcY1"
      },
      "source": [
        "List คือ การเอาข้อมูลหลายๆตัวมาเรียงต่อกัน\r\n",
        "สามารถทำได้ 2 แบบ ดังนี้"
      ]
    },
    {
      "cell_type": "markdown",
      "metadata": {
        "id": "JH6PKB9SXnr-"
      },
      "source": [
        "แบบที่ 1 > square brackets"
      ]
    },
    {
      "cell_type": "code",
      "metadata": {
        "colab": {
          "base_uri": "https://localhost:8080/"
        },
        "id": "qi4BFlBuVrdO",
        "outputId": "a05c4720-ea53-4e01-fc1d-7c5aa9782845"
      },
      "source": [
        "list1 = [ ]\r\n",
        "print(list1)"
      ],
      "execution_count": 4,
      "outputs": [
        {
          "output_type": "stream",
          "text": [
            "[]\n"
          ],
          "name": "stdout"
        }
      ]
    },
    {
      "cell_type": "code",
      "metadata": {
        "colab": {
          "base_uri": "https://localhost:8080/"
        },
        "id": "wzOamdLLX3Er",
        "outputId": "ff10937f-8928-4716-b7e2-ce471881e620"
      },
      "source": [
        "list2 = [1,2,3,4]\r\n",
        "print(list2)"
      ],
      "execution_count": 5,
      "outputs": [
        {
          "output_type": "stream",
          "text": [
            "[1, 2, 3, 4]\n"
          ],
          "name": "stdout"
        }
      ]
    },
    {
      "cell_type": "code",
      "metadata": {
        "id": "Nr5UjVpUYVyx"
      },
      "source": [
        ""
      ],
      "execution_count": null,
      "outputs": []
    },
    {
      "cell_type": "markdown",
      "metadata": {
        "id": "iO7nnhniXmmu"
      },
      "source": [
        "แบบที่ 2 "
      ]
    },
    {
      "cell_type": "code",
      "metadata": {
        "colab": {
          "base_uri": "https://localhost:8080/"
        },
        "id": "t3eRO7OpXa86",
        "outputId": "196db287-c4ae-46ab-aba1-af57025cb494"
      },
      "source": [
        "list3 = (  )\r\n",
        "print(list3)"
      ],
      "execution_count": 6,
      "outputs": [
        {
          "output_type": "stream",
          "text": [
            "()\n"
          ],
          "name": "stdout"
        }
      ]
    },
    {
      "cell_type": "markdown",
      "metadata": {
        "id": "5iQQwi0HYYoo"
      },
      "source": [
        "append() เพิ่มสมาชิกใน list"
      ]
    },
    {
      "cell_type": "code",
      "metadata": {
        "colab": {
          "base_uri": "https://localhost:8080/"
        },
        "id": "6kv18PeTYRYr",
        "outputId": "9aca9a00-6080-4232-fd86-5eee906f8d99"
      },
      "source": [
        "list2.append('dd')\r\n",
        "print (list2)"
      ],
      "execution_count": 7,
      "outputs": [
        {
          "output_type": "stream",
          "text": [
            "[1, 2, 3, 4, 'dd']\n"
          ],
          "name": "stdout"
        }
      ]
    },
    {
      "cell_type": "markdown",
      "metadata": {
        "id": "M-EHzWBSZhtv"
      },
      "source": [
        "String > list of characters"
      ]
    },
    {
      "cell_type": "code",
      "metadata": {
        "colab": {
          "base_uri": "https://localhost:8080/"
        },
        "id": "2v3E5Tb4YmvE",
        "outputId": "b665f168-723e-473f-81ea-e2f034ca7273"
      },
      "source": [
        "l = 'python is easy'\r\n",
        "print (l)"
      ],
      "execution_count": 8,
      "outputs": [
        {
          "output_type": "stream",
          "text": [
            "python is easy\n"
          ],
          "name": "stdout"
        }
      ]
    },
    {
      "cell_type": "code",
      "metadata": {
        "colab": {
          "base_uri": "https://localhost:8080/",
          "height": 35
        },
        "id": "awULFhkjZ5KJ",
        "outputId": "6aa48fce-1de1-4754-9431-d3f360a7d455"
      },
      "source": [
        "l[1]"
      ],
      "execution_count": 9,
      "outputs": [
        {
          "output_type": "execute_result",
          "data": {
            "application/vnd.google.colaboratory.intrinsic+json": {
              "type": "string"
            },
            "text/plain": [
              "'y'"
            ]
          },
          "metadata": {
            "tags": []
          },
          "execution_count": 9
        }
      ]
    },
    {
      "cell_type": "code",
      "metadata": {
        "colab": {
          "base_uri": "https://localhost:8080/",
          "height": 35
        },
        "id": "E2sceWWtZ8If",
        "outputId": "1b5d842a-75ac-479e-a439-066028b4b773"
      },
      "source": [
        "l[-7]"
      ],
      "execution_count": 10,
      "outputs": [
        {
          "output_type": "execute_result",
          "data": {
            "application/vnd.google.colaboratory.intrinsic+json": {
              "type": "string"
            },
            "text/plain": [
              "'i'"
            ]
          },
          "metadata": {
            "tags": []
          },
          "execution_count": 10
        }
      ]
    },
    {
      "cell_type": "code",
      "metadata": {
        "colab": {
          "base_uri": "https://localhost:8080/",
          "height": 35
        },
        "id": "mmIB5dkbaE2F",
        "outputId": "de1fc5ef-5321-436e-be2c-5bf77dae0d7e"
      },
      "source": [
        "l[6]"
      ],
      "execution_count": 11,
      "outputs": [
        {
          "output_type": "execute_result",
          "data": {
            "application/vnd.google.colaboratory.intrinsic+json": {
              "type": "string"
            },
            "text/plain": [
              "' '"
            ]
          },
          "metadata": {
            "tags": []
          },
          "execution_count": 11
        }
      ]
    },
    {
      "cell_type": "code",
      "metadata": {
        "id": "O0Nn1oZxjSVb"
      },
      "source": [
        "#ต้องรันด้านบนมาก่อน เพื่อที่จะให้รู้ว่า l คืออะไร"
      ],
      "execution_count": null,
      "outputs": []
    },
    {
      "cell_type": "code",
      "metadata": {
        "id": "labvX6oNaMNk",
        "outputId": "45948352-3408-4136-c230-4de3f2f0334c",
        "colab": {
          "base_uri": "https://localhost:8080/"
        }
      },
      "source": [
        "len (l) #เป็นคำสั่งตรวจสอบความยาวของ list (จำนวนสมาชิก)"
      ],
      "execution_count": 13,
      "outputs": [
        {
          "output_type": "execute_result",
          "data": {
            "text/plain": [
              "14"
            ]
          },
          "metadata": {
            "tags": []
          },
          "execution_count": 13
        }
      ]
    },
    {
      "cell_type": "code",
      "metadata": {
        "id": "Ijo29e6His6Y",
        "outputId": "4661c224-b788-4978-9d1f-2b4f8f7d75ac",
        "colab": {
          "base_uri": "https://localhost:8080/"
        }
      },
      "source": [
        "list2"
      ],
      "execution_count": 15,
      "outputs": [
        {
          "output_type": "execute_result",
          "data": {
            "text/plain": [
              "[1, 2, 3, 4, 'dd']"
            ]
          },
          "metadata": {
            "tags": []
          },
          "execution_count": 15
        }
      ]
    },
    {
      "cell_type": "code",
      "metadata": {
        "id": "cNrZhr_Mk_9N",
        "outputId": "4d40144e-4a05-47aa-b9fa-df56a54d7e93",
        "colab": {
          "base_uri": "https://localhost:8080/"
        }
      },
      "source": [
        "len (list2)"
      ],
      "execution_count": 16,
      "outputs": [
        {
          "output_type": "execute_result",
          "data": {
            "text/plain": [
              "5"
            ]
          },
          "metadata": {
            "tags": []
          },
          "execution_count": 16
        }
      ]
    },
    {
      "cell_type": "code",
      "metadata": {
        "id": "bXHnzObNlOFC",
        "outputId": "1005fdd5-0fa8-433e-92d9-b8b73852e463",
        "colab": {
          "base_uri": "https://localhost:8080/"
        }
      },
      "source": [
        "list2.append(l) # list สามารถใส่อะไรก็ได้ เอาlist มาซ้อน list ก็ได้\r\n",
        "print (list2)"
      ],
      "execution_count": 20,
      "outputs": [
        {
          "output_type": "stream",
          "text": [
            "[1, 2, 3, 4, 'dd', 'python is easy', 'python is easy', 'python is easy', 'python is easy']\n"
          ],
          "name": "stdout"
        }
      ]
    },
    {
      "cell_type": "markdown",
      "metadata": {
        "id": "7ZfG6mt_mD1X"
      },
      "source": [
        "## List slicing สามารถทำได้โดยใช้ colon :\r\n",
        "[a:b] -> [a,b) "
      ]
    },
    {
      "cell_type": "code",
      "metadata": {
        "id": "exMktsZImxnI"
      },
      "source": [
        "#เอาตั้งแต่ตัวที่ a ถึงตัวที่ b แต่ไม่เอาตัวที่ b"
      ],
      "execution_count": 23,
      "outputs": []
    },
    {
      "cell_type": "code",
      "metadata": {
        "id": "7YVWmXbNm-mz",
        "outputId": "7adef972-e3de-45a1-e7d5-c62b9a26db12",
        "colab": {
          "base_uri": "https://localhost:8080/"
        }
      },
      "source": [
        "print (l)"
      ],
      "execution_count": 24,
      "outputs": [
        {
          "output_type": "stream",
          "text": [
            "python is easy\n"
          ],
          "name": "stdout"
        }
      ]
    },
    {
      "cell_type": "code",
      "metadata": {
        "id": "dadCKckWlzmA",
        "outputId": "a8f9051d-d5b9-4c07-e44a-3b8784466083",
        "colab": {
          "base_uri": "https://localhost:8080/"
        }
      },
      "source": [
        "print (l)\r\n",
        "print (l[7:9])\r\n",
        "print (len(l[7:9])) # นับว่าlistนี้มีสมาชิกกี่ตัว"
      ],
      "execution_count": 26,
      "outputs": [
        {
          "output_type": "stream",
          "text": [
            "python is easy\n",
            "is\n",
            "2\n"
          ],
          "name": "stdout"
        }
      ]
    },
    {
      "cell_type": "code",
      "metadata": {
        "id": "-ibmIZ3BnlWk",
        "outputId": "da26c60c-1bd5-4436-f41e-f966a4759143",
        "colab": {
          "base_uri": "https://localhost:8080/",
          "height": 35
        }
      },
      "source": [
        "l [0:14:2] # เลขตัวสุดท้ายจะบอกว่าหยิบเลขทุกๆกี่ตัว อย่างเช่นอันนี้คือหยิบเลขทีละ2ตัว"
      ],
      "execution_count": 29,
      "outputs": [
        {
          "output_type": "execute_result",
          "data": {
            "application/vnd.google.colaboratory.intrinsic+json": {
              "type": "string"
            },
            "text/plain": [
              "'pto ses'"
            ]
          },
          "metadata": {
            "tags": []
          },
          "execution_count": 29
        }
      ]
    },
    {
      "cell_type": "code",
      "metadata": {
        "id": "mHGTGALOoNLA",
        "outputId": "44056b06-eec3-42cd-934a-ad8e6d3890ea",
        "colab": {
          "base_uri": "https://localhost:8080/"
        }
      },
      "source": [
        "z = [1,2,3,4,5,6,7,8,9,10]\r\n",
        "print (z)\r\n"
      ],
      "execution_count": 30,
      "outputs": [
        {
          "output_type": "stream",
          "text": [
            "[1, 2, 3, 4, 5, 6, 7, 8, 9, 10]\n"
          ],
          "name": "stdout"
        }
      ]
    },
    {
      "cell_type": "code",
      "metadata": {
        "id": "RspO4SI4ocoz",
        "outputId": "f5f1d3e7-9a4c-46c5-e418-9268032dae58",
        "colab": {
          "base_uri": "https://localhost:8080/"
        }
      },
      "source": [
        "z [1:10:2] #แสดงผลจำนวนคู่"
      ],
      "execution_count": 33,
      "outputs": [
        {
          "output_type": "execute_result",
          "data": {
            "text/plain": [
              "[2, 4, 6, 8, 10]"
            ]
          },
          "metadata": {
            "tags": []
          },
          "execution_count": 33
        }
      ]
    },
    {
      "cell_type": "markdown",
      "metadata": {
        "id": "vnqd5U3JnPgh"
      },
      "source": [
        "ถ้าเว้นว่างหน้า : หมายความว่า เริ่มตั้งแต่ตัวแรก (ตัวที่ 0)\r\n",
        "\r\n",
        "ถ้าเว้นว่างหลัง : หมายความว่า ไปจนถึงตัวสุดท้าย (len(list))"
      ]
    },
    {
      "cell_type": "code",
      "metadata": {
        "id": "8B5L9KR4l4IK",
        "outputId": "707f2bca-36c0-447c-92ba-435bf8012b33",
        "colab": {
          "base_uri": "https://localhost:8080/"
        }
      },
      "source": [
        "print (l)\r\n",
        "print (l[:6])\r\n",
        "print (l[10:])\r\n",
        "print (l[-4:]) # นับมาจากข้างหลัง\r\n",
        "print (l[:])"
      ],
      "execution_count": 35,
      "outputs": [
        {
          "output_type": "stream",
          "text": [
            "python is easy\n",
            "python\n",
            "easy\n",
            "easy\n",
            "python is easy\n"
          ],
          "name": "stdout"
        }
      ]
    },
    {
      "cell_type": "code",
      "metadata": {
        "id": "qh1pdOXop05z",
        "outputId": "fb1c4547-cf87-463b-c6a3-e72ea13d7da9",
        "colab": {
          "base_uri": "https://localhost:8080/"
        }
      },
      "source": [
        "print (z[: : 2])"
      ],
      "execution_count": 37,
      "outputs": [
        {
          "output_type": "stream",
          "text": [
            "[1, 3, 5, 7, 9]\n"
          ],
          "name": "stdout"
        }
      ]
    },
    {
      "cell_type": "markdown",
      "metadata": {
        "id": "mTYFqx__qJN_"
      },
      "source": [
        "## เราสามารถเอา list มาต่อกันได้ด้วย โดยใช้เครื่องหมาย +"
      ]
    },
    {
      "cell_type": "code",
      "metadata": {
        "id": "16jq66jvqNio",
        "outputId": "f54a553a-84ed-4d91-9539-ce4a5e181ba7",
        "colab": {
          "base_uri": "https://localhost:8080/",
          "height": 35
        }
      },
      "source": [
        "l + \"!!\""
      ],
      "execution_count": 38,
      "outputs": [
        {
          "output_type": "execute_result",
          "data": {
            "application/vnd.google.colaboratory.intrinsic+json": {
              "type": "string"
            },
            "text/plain": [
              "'python is easy!!'"
            ]
          },
          "metadata": {
            "tags": []
          },
          "execution_count": 38
        }
      ]
    },
    {
      "cell_type": "code",
      "metadata": {
        "id": "IvtAvK8tr_bN",
        "outputId": "46908647-a74a-494c-f76e-fc9f252f4d06",
        "colab": {
          "base_uri": "https://localhost:8080/",
          "height": 163
        }
      },
      "source": [
        "l + list2 #ไม่สามารถเอา list มาบวกกับ string ได้"
      ],
      "execution_count": 40,
      "outputs": [
        {
          "output_type": "error",
          "ename": "TypeError",
          "evalue": "ignored",
          "traceback": [
            "\u001b[0;31m---------------------------------------------------------------------------\u001b[0m",
            "\u001b[0;31mTypeError\u001b[0m                                 Traceback (most recent call last)",
            "\u001b[0;32m<ipython-input-40-199c05e93637>\u001b[0m in \u001b[0;36m<module>\u001b[0;34m()\u001b[0m\n\u001b[0;32m----> 1\u001b[0;31m \u001b[0ml\u001b[0m \u001b[0;34m+\u001b[0m \u001b[0mlist2\u001b[0m \u001b[0;31m#ไม่สามารถเอา list มาบวกกับ string ได้\u001b[0m\u001b[0;34m\u001b[0m\u001b[0;34m\u001b[0m\u001b[0m\n\u001b[0m",
            "\u001b[0;31mTypeError\u001b[0m: must be str, not list"
          ]
        }
      ]
    },
    {
      "cell_type": "code",
      "metadata": {
        "id": "Vu0Vehc8sG4Z",
        "outputId": "e9f8d79b-2ed0-4393-e948-532fafb939fb",
        "colab": {
          "base_uri": "https://localhost:8080/"
        }
      },
      "source": [
        "print (list1)\r\n",
        "list2 = [1,2,3,4,\"dd\"]\r\n",
        "print (list2)\r\n",
        "print (list1 + list2) # + คือเอาสมาชิกมารวมกัน"
      ],
      "execution_count": 42,
      "outputs": [
        {
          "output_type": "stream",
          "text": [
            "[]\n",
            "[1, 2, 3, 4, 'dd']\n",
            "[1, 2, 3, 4, 'dd']\n"
          ],
          "name": "stdout"
        }
      ]
    },
    {
      "cell_type": "code",
      "metadata": {
        "id": "vYmHCRq7tOWn",
        "outputId": "017d80eb-ff97-4b53-e6ce-6110cc43fc20",
        "colab": {
          "base_uri": "https://localhost:8080/"
        }
      },
      "source": [
        "list2.append(list1)\r\n",
        "print(list2)"
      ],
      "execution_count": 44,
      "outputs": [
        {
          "output_type": "stream",
          "text": [
            "[1, 2, 3, 4, 'dd', [...], []]\n"
          ],
          "name": "stdout"
        }
      ]
    },
    {
      "cell_type": "markdown",
      "metadata": {
        "id": "6pyfERu9shFl"
      },
      "source": [
        "การแบ่ง string ตามสัญลักษณ์ที่กำหนด -> split string"
      ]
    },
    {
      "cell_type": "code",
      "metadata": {
        "id": "QEuCzwiPsZF3",
        "outputId": "548b941d-b1de-4a4b-874b-aa4fc06f1df7",
        "colab": {
          "base_uri": "https://localhost:8080/",
          "height": 35
        }
      },
      "source": [
        "l"
      ],
      "execution_count": 45,
      "outputs": [
        {
          "output_type": "execute_result",
          "data": {
            "application/vnd.google.colaboratory.intrinsic+json": {
              "type": "string"
            },
            "text/plain": [
              "'python is easy'"
            ]
          },
          "metadata": {
            "tags": []
          },
          "execution_count": 45
        }
      ]
    },
    {
      "cell_type": "code",
      "metadata": {
        "id": "CJSjqsaduBwl",
        "outputId": "fb8537d2-0d42-4bc2-9993-4dbea2334d80",
        "colab": {
          "base_uri": "https://localhost:8080/"
        }
      },
      "source": [
        "l.split ( ' ' ) #เราสามารถเลือกได้ว่าเราจะแบ่งข้อความด้วยสัญลักษณ์อะไร"
      ],
      "execution_count": 50,
      "outputs": [
        {
          "output_type": "execute_result",
          "data": {
            "text/plain": [
              "['python', 'is', 'easy']"
            ]
          },
          "metadata": {
            "tags": []
          },
          "execution_count": 50
        }
      ]
    },
    {
      "cell_type": "code",
      "metadata": {
        "id": "aAzgqs4-uHll"
      },
      "source": [
        "time = \"12:30:15\""
      ],
      "execution_count": 51,
      "outputs": []
    },
    {
      "cell_type": "code",
      "metadata": {
        "id": "hyvOXqMCutLb",
        "outputId": "561fe3fd-6369-46e6-d62f-d0eb8be890d0",
        "colab": {
          "base_uri": "https://localhost:8080/"
        }
      },
      "source": [
        "time.split (\":\")"
      ],
      "execution_count": 53,
      "outputs": [
        {
          "output_type": "execute_result",
          "data": {
            "text/plain": [
              "['12', '30', '15']"
            ]
          },
          "metadata": {
            "tags": []
          },
          "execution_count": 53
        }
      ]
    },
    {
      "cell_type": "code",
      "metadata": {
        "id": "lSPy4cP5uytZ",
        "outputId": "b31fede1-14aa-44ca-8d10-c0d085d0c415",
        "colab": {
          "base_uri": "https://localhost:8080/"
        }
      },
      "source": [
        "l_sp = l.split (\" \")\r\n",
        "print (l_sp)"
      ],
      "execution_count": 55,
      "outputs": [
        {
          "output_type": "stream",
          "text": [
            "['python', 'is', 'easy']\n"
          ],
          "name": "stdout"
        }
      ]
    },
    {
      "cell_type": "code",
      "metadata": {
        "id": "NrJTP07Su-aw",
        "outputId": "0a68d669-7669-46b8-e297-dcd8a050dd0e",
        "colab": {
          "base_uri": "https://localhost:8080/"
        }
      },
      "source": [
        "#วิธีรวมกลับ\r\n",
        "print (\":\".join(l_sp))"
      ],
      "execution_count": 56,
      "outputs": [
        {
          "output_type": "stream",
          "text": [
            "python:is:easy\n"
          ],
          "name": "stdout"
        }
      ]
    },
    {
      "cell_type": "markdown",
      "metadata": {
        "id": "L_wkQn6JvUQz"
      },
      "source": [
        "## HW คำนวณเวลาเป็นวินาทีของเวลาต่อไปนี้โดยใช้คำสั่ง split() ช่วย print ออกมาให้สวยงาม\r\n",
        "\r\n",
        "12:30:15\r\n",
        "\r\n",
        "13:41:07\r\n",
        "\r\n",
        "12:53:15\r\n",
        "\r\n",
        "00:59:25\r\n",
        "\r\n",
        "11:11:11\r\n",
        "\r\n",
        "16:06:09\r\n",
        "\r\n",
        "21:12:30\r\n",
        "\r\n",
        "10:06:15\r\n",
        "\r\n",
        "ตัวอย่าง 00:01:10 = 70 วินาที\r\n",
        "\r\n",
        "ตัวอย่าง 01:00:01 = 3601 วินาที"
      ]
    },
    {
      "cell_type": "code",
      "metadata": {
        "id": "sPN6FFBzvOph"
      },
      "source": [
        ""
      ],
      "execution_count": null,
      "outputs": []
    }
  ]
}