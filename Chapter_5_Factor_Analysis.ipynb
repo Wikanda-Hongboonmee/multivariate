{
  "nbformat": 4,
  "nbformat_minor": 0,
  "metadata": {
    "colab": {
      "name": "Chapter 5 Factor Analysis.ipynb",
      "provenance": [],
      "authorship_tag": "ABX9TyN7Uk1TOii7o5GBgcWROO37",
      "include_colab_link": true
    },
    "kernelspec": {
      "name": "python3",
      "display_name": "Python 3"
    },
    "language_info": {
      "name": "python"
    }
  },
  "cells": [
    {
      "cell_type": "markdown",
      "metadata": {
        "id": "view-in-github",
        "colab_type": "text"
      },
      "source": [
        "<a href=\"https://colab.research.google.com/github/Wikanda-Hongboonmee/multivariate/blob/main/Chapter_5_Factor_Analysis.ipynb\" target=\"_parent\"><img src=\"https://colab.research.google.com/assets/colab-badge.svg\" alt=\"Open In Colab\"/></a>"
      ]
    },
    {
      "cell_type": "code",
      "metadata": {
        "id": "PQUVT6M2Dvbv"
      },
      "source": [
        "import pandas as pd"
      ],
      "execution_count": 5,
      "outputs": []
    },
    {
      "cell_type": "code",
      "metadata": {
        "colab": {
          "base_uri": "https://localhost:8080/",
          "height": 195
        },
        "id": "9mywskeNF5sS",
        "outputId": "b460e706-2d65-40cc-d088-55fdb511520b"
      },
      "source": [
        "BFI_data = pd.read_csv('/content/bfi.csv')\n",
        "BFI_data.head()"
      ],
      "execution_count": 6,
      "outputs": [
        {
          "output_type": "execute_result",
          "data": {
            "text/html": [
              "<div>\n",
              "<style scoped>\n",
              "    .dataframe tbody tr th:only-of-type {\n",
              "        vertical-align: middle;\n",
              "    }\n",
              "\n",
              "    .dataframe tbody tr th {\n",
              "        vertical-align: top;\n",
              "    }\n",
              "\n",
              "    .dataframe thead th {\n",
              "        text-align: right;\n",
              "    }\n",
              "</style>\n",
              "<table border=\"1\" class=\"dataframe\">\n",
              "  <thead>\n",
              "    <tr style=\"text-align: right;\">\n",
              "      <th></th>\n",
              "      <th>Unnamed: 0</th>\n",
              "      <th>A1</th>\n",
              "      <th>A2</th>\n",
              "      <th>A3</th>\n",
              "      <th>A4</th>\n",
              "      <th>A5</th>\n",
              "      <th>C1</th>\n",
              "      <th>C2</th>\n",
              "      <th>C3</th>\n",
              "      <th>C4</th>\n",
              "      <th>C5</th>\n",
              "      <th>E1</th>\n",
              "      <th>E2</th>\n",
              "      <th>E3</th>\n",
              "      <th>E4</th>\n",
              "      <th>E5</th>\n",
              "      <th>N1</th>\n",
              "      <th>N2</th>\n",
              "      <th>N3</th>\n",
              "      <th>N4</th>\n",
              "      <th>N5</th>\n",
              "      <th>O1</th>\n",
              "      <th>O2</th>\n",
              "      <th>O3</th>\n",
              "      <th>O4</th>\n",
              "      <th>O5</th>\n",
              "      <th>gender</th>\n",
              "      <th>education</th>\n",
              "      <th>age</th>\n",
              "    </tr>\n",
              "  </thead>\n",
              "  <tbody>\n",
              "    <tr>\n",
              "      <th>0</th>\n",
              "      <td>61617</td>\n",
              "      <td>2.0</td>\n",
              "      <td>4.0</td>\n",
              "      <td>3.0</td>\n",
              "      <td>4.0</td>\n",
              "      <td>4.0</td>\n",
              "      <td>2.0</td>\n",
              "      <td>3.0</td>\n",
              "      <td>3.0</td>\n",
              "      <td>4.0</td>\n",
              "      <td>4.0</td>\n",
              "      <td>3.0</td>\n",
              "      <td>3.0</td>\n",
              "      <td>3.0</td>\n",
              "      <td>4.0</td>\n",
              "      <td>4.0</td>\n",
              "      <td>3.0</td>\n",
              "      <td>4.0</td>\n",
              "      <td>2.0</td>\n",
              "      <td>2.0</td>\n",
              "      <td>3.0</td>\n",
              "      <td>3.0</td>\n",
              "      <td>6</td>\n",
              "      <td>3.0</td>\n",
              "      <td>4.0</td>\n",
              "      <td>3.0</td>\n",
              "      <td>1</td>\n",
              "      <td>NaN</td>\n",
              "      <td>16</td>\n",
              "    </tr>\n",
              "    <tr>\n",
              "      <th>1</th>\n",
              "      <td>61618</td>\n",
              "      <td>2.0</td>\n",
              "      <td>4.0</td>\n",
              "      <td>5.0</td>\n",
              "      <td>2.0</td>\n",
              "      <td>5.0</td>\n",
              "      <td>5.0</td>\n",
              "      <td>4.0</td>\n",
              "      <td>4.0</td>\n",
              "      <td>3.0</td>\n",
              "      <td>4.0</td>\n",
              "      <td>1.0</td>\n",
              "      <td>1.0</td>\n",
              "      <td>6.0</td>\n",
              "      <td>4.0</td>\n",
              "      <td>3.0</td>\n",
              "      <td>3.0</td>\n",
              "      <td>3.0</td>\n",
              "      <td>3.0</td>\n",
              "      <td>5.0</td>\n",
              "      <td>5.0</td>\n",
              "      <td>4.0</td>\n",
              "      <td>2</td>\n",
              "      <td>4.0</td>\n",
              "      <td>3.0</td>\n",
              "      <td>3.0</td>\n",
              "      <td>2</td>\n",
              "      <td>NaN</td>\n",
              "      <td>18</td>\n",
              "    </tr>\n",
              "    <tr>\n",
              "      <th>2</th>\n",
              "      <td>61620</td>\n",
              "      <td>5.0</td>\n",
              "      <td>4.0</td>\n",
              "      <td>5.0</td>\n",
              "      <td>4.0</td>\n",
              "      <td>4.0</td>\n",
              "      <td>4.0</td>\n",
              "      <td>5.0</td>\n",
              "      <td>4.0</td>\n",
              "      <td>2.0</td>\n",
              "      <td>5.0</td>\n",
              "      <td>2.0</td>\n",
              "      <td>4.0</td>\n",
              "      <td>4.0</td>\n",
              "      <td>4.0</td>\n",
              "      <td>5.0</td>\n",
              "      <td>4.0</td>\n",
              "      <td>5.0</td>\n",
              "      <td>4.0</td>\n",
              "      <td>2.0</td>\n",
              "      <td>3.0</td>\n",
              "      <td>4.0</td>\n",
              "      <td>2</td>\n",
              "      <td>5.0</td>\n",
              "      <td>5.0</td>\n",
              "      <td>2.0</td>\n",
              "      <td>2</td>\n",
              "      <td>NaN</td>\n",
              "      <td>17</td>\n",
              "    </tr>\n",
              "    <tr>\n",
              "      <th>3</th>\n",
              "      <td>61621</td>\n",
              "      <td>4.0</td>\n",
              "      <td>4.0</td>\n",
              "      <td>6.0</td>\n",
              "      <td>5.0</td>\n",
              "      <td>5.0</td>\n",
              "      <td>4.0</td>\n",
              "      <td>4.0</td>\n",
              "      <td>3.0</td>\n",
              "      <td>5.0</td>\n",
              "      <td>5.0</td>\n",
              "      <td>5.0</td>\n",
              "      <td>3.0</td>\n",
              "      <td>4.0</td>\n",
              "      <td>4.0</td>\n",
              "      <td>4.0</td>\n",
              "      <td>2.0</td>\n",
              "      <td>5.0</td>\n",
              "      <td>2.0</td>\n",
              "      <td>4.0</td>\n",
              "      <td>1.0</td>\n",
              "      <td>3.0</td>\n",
              "      <td>3</td>\n",
              "      <td>4.0</td>\n",
              "      <td>3.0</td>\n",
              "      <td>5.0</td>\n",
              "      <td>2</td>\n",
              "      <td>NaN</td>\n",
              "      <td>17</td>\n",
              "    </tr>\n",
              "    <tr>\n",
              "      <th>4</th>\n",
              "      <td>61622</td>\n",
              "      <td>2.0</td>\n",
              "      <td>3.0</td>\n",
              "      <td>3.0</td>\n",
              "      <td>4.0</td>\n",
              "      <td>5.0</td>\n",
              "      <td>4.0</td>\n",
              "      <td>4.0</td>\n",
              "      <td>5.0</td>\n",
              "      <td>3.0</td>\n",
              "      <td>2.0</td>\n",
              "      <td>2.0</td>\n",
              "      <td>2.0</td>\n",
              "      <td>5.0</td>\n",
              "      <td>4.0</td>\n",
              "      <td>5.0</td>\n",
              "      <td>2.0</td>\n",
              "      <td>3.0</td>\n",
              "      <td>4.0</td>\n",
              "      <td>4.0</td>\n",
              "      <td>3.0</td>\n",
              "      <td>3.0</td>\n",
              "      <td>3</td>\n",
              "      <td>4.0</td>\n",
              "      <td>3.0</td>\n",
              "      <td>3.0</td>\n",
              "      <td>1</td>\n",
              "      <td>NaN</td>\n",
              "      <td>17</td>\n",
              "    </tr>\n",
              "  </tbody>\n",
              "</table>\n",
              "</div>"
            ],
            "text/plain": [
              "   Unnamed: 0   A1   A2   A3   A4   A5  ...   O3   O4   O5  gender  education  age\n",
              "0       61617  2.0  4.0  3.0  4.0  4.0  ...  3.0  4.0  3.0       1        NaN   16\n",
              "1       61618  2.0  4.0  5.0  2.0  5.0  ...  4.0  3.0  3.0       2        NaN   18\n",
              "2       61620  5.0  4.0  5.0  4.0  4.0  ...  5.0  5.0  2.0       2        NaN   17\n",
              "3       61621  4.0  4.0  6.0  5.0  5.0  ...  4.0  3.0  5.0       2        NaN   17\n",
              "4       61622  2.0  3.0  3.0  4.0  5.0  ...  4.0  3.0  3.0       1        NaN   17\n",
              "\n",
              "[5 rows x 29 columns]"
            ]
          },
          "metadata": {
            "tags": []
          },
          "execution_count": 6
        }
      ]
    },
    {
      "cell_type": "markdown",
      "metadata": {
        "id": "9v408slvHrgf"
      },
      "source": [
        "## **Factor Analysis**\n",
        "\n",
        "### **Assumptions :**\n",
        "\n",
        "ในข้อมูล multivariate ที่มีตัวแปร observe variables จำนวน n ตัว \n",
        "\n",
        "มีตัวแปร Factor (Latent Variables) จำนวน k ตัว ที่สามารถอธิบายข้อมูลทั้งหมดได้ \n",
        "\n",
        "โดย k < n"
      ]
    },
    {
      "cell_type": "markdown",
      "metadata": {
        "id": "AmyJVd5lLZup"
      },
      "source": [
        "![image.png](data:image/png;base64,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)"
      ]
    },
    {
      "cell_type": "markdown",
      "metadata": {
        "id": "vmIr7LGuK2a9"
      },
      "source": [
        "Assumptions :\n",
        "\n",
        "*   There are no outliers in data.\n",
        "*   Sample size should be greater than the factor.\n",
        "*   There should not be ***perfect multicollinearity***\n",
        "*   There should not be ***homoscadasticity between the variables***\n",
        "\n",
        "\n",
        "\n",
        "\n",
        "\n",
        "\n",
        "\n"
      ]
    },
    {
      "cell_type": "markdown",
      "metadata": {
        "id": "QjOKUKJ_PNjV"
      },
      "source": [
        "### การทำ Factor Analysis"
      ]
    },
    {
      "cell_type": "code",
      "metadata": {
        "id": "GgMLUxdmNZMv"
      },
      "source": [
        "from factor_analyzer import factor_analyzer\n",
        "import matplotlib.pyplot as plt"
      ],
      "execution_count": 7,
      "outputs": []
    },
    {
      "cell_type": "markdown",
      "metadata": {
        "id": "e25xrwn4P512"
      },
      "source": [
        "**วิธีการ install package อื่นๆ**"
      ]
    },
    {
      "cell_type": "code",
      "metadata": {
        "colab": {
          "base_uri": "https://localhost:8080/"
        },
        "id": "8ql_qCsiP7lu",
        "outputId": "9c4075c5-f554-4210-d2ff-cb6227648dba"
      },
      "source": [
        "!pip install factor_analyzer # ทำการติดตั้ง factor_analyzer"
      ],
      "execution_count": 9,
      "outputs": [
        {
          "output_type": "stream",
          "text": [
            "Requirement already satisfied: factor_analyzer in /usr/local/lib/python3.7/dist-packages (0.3.2)\n",
            "Requirement already satisfied: pandas in /usr/local/lib/python3.7/dist-packages (from factor_analyzer) (1.1.5)\n",
            "Requirement already satisfied: numpy in /usr/local/lib/python3.7/dist-packages (from factor_analyzer) (1.19.5)\n",
            "Requirement already satisfied: scipy in /usr/local/lib/python3.7/dist-packages (from factor_analyzer) (1.4.1)\n",
            "Requirement already satisfied: scikit-learn in /usr/local/lib/python3.7/dist-packages (from factor_analyzer) (0.22.2.post1)\n",
            "Requirement already satisfied: python-dateutil>=2.7.3 in /usr/local/lib/python3.7/dist-packages (from pandas->factor_analyzer) (2.8.1)\n",
            "Requirement already satisfied: pytz>=2017.2 in /usr/local/lib/python3.7/dist-packages (from pandas->factor_analyzer) (2018.9)\n",
            "Requirement already satisfied: joblib>=0.11 in /usr/local/lib/python3.7/dist-packages (from scikit-learn->factor_analyzer) (1.0.1)\n",
            "Requirement already satisfied: six>=1.5 in /usr/local/lib/python3.7/dist-packages (from python-dateutil>=2.7.3->pandas->factor_analyzer) (1.15.0)\n"
          ],
          "name": "stdout"
        }
      ]
    },
    {
      "cell_type": "code",
      "metadata": {
        "id": "W5JvJnphQv5O"
      },
      "source": [
        "from factor_analyzer import factor_analyzer\n",
        "import matplotlib.pyplot as plt # เหมือนกับ from matplotlib import pyplot as plt"
      ],
      "execution_count": 10,
      "outputs": []
    },
    {
      "cell_type": "markdown",
      "metadata": {
        "id": "sEGJ7s3fT3Xd"
      },
      "source": [
        "### **Quiz 5** \n",
        "\n",
        "เลือกข้อมูลเฉพาะ a1,a2,a3,...,o3,o4,o5 ด้วยคำสั่ง iloc [ ]"
      ]
    },
    {
      "cell_type": "code",
      "metadata": {
        "colab": {
          "base_uri": "https://localhost:8080/",
          "height": 402
        },
        "id": "jRXiRPMSR0-D",
        "outputId": "8c944fca-af6e-41cc-939c-0aef8a1cfc5f"
      },
      "source": [
        "BFI_data_dropped = BFI_data.iloc[:,1:-3]\n",
        "BFI_data_dropped"
      ],
      "execution_count": 11,
      "outputs": [
        {
          "output_type": "execute_result",
          "data": {
            "text/html": [
              "<div>\n",
              "<style scoped>\n",
              "    .dataframe tbody tr th:only-of-type {\n",
              "        vertical-align: middle;\n",
              "    }\n",
              "\n",
              "    .dataframe tbody tr th {\n",
              "        vertical-align: top;\n",
              "    }\n",
              "\n",
              "    .dataframe thead th {\n",
              "        text-align: right;\n",
              "    }\n",
              "</style>\n",
              "<table border=\"1\" class=\"dataframe\">\n",
              "  <thead>\n",
              "    <tr style=\"text-align: right;\">\n",
              "      <th></th>\n",
              "      <th>A1</th>\n",
              "      <th>A2</th>\n",
              "      <th>A3</th>\n",
              "      <th>A4</th>\n",
              "      <th>A5</th>\n",
              "      <th>C1</th>\n",
              "      <th>C2</th>\n",
              "      <th>C3</th>\n",
              "      <th>C4</th>\n",
              "      <th>C5</th>\n",
              "      <th>E1</th>\n",
              "      <th>E2</th>\n",
              "      <th>E3</th>\n",
              "      <th>E4</th>\n",
              "      <th>E5</th>\n",
              "      <th>N1</th>\n",
              "      <th>N2</th>\n",
              "      <th>N3</th>\n",
              "      <th>N4</th>\n",
              "      <th>N5</th>\n",
              "      <th>O1</th>\n",
              "      <th>O2</th>\n",
              "      <th>O3</th>\n",
              "      <th>O4</th>\n",
              "      <th>O5</th>\n",
              "    </tr>\n",
              "  </thead>\n",
              "  <tbody>\n",
              "    <tr>\n",
              "      <th>0</th>\n",
              "      <td>2.0</td>\n",
              "      <td>4.0</td>\n",
              "      <td>3.0</td>\n",
              "      <td>4.0</td>\n",
              "      <td>4.0</td>\n",
              "      <td>2.0</td>\n",
              "      <td>3.0</td>\n",
              "      <td>3.0</td>\n",
              "      <td>4.0</td>\n",
              "      <td>4.0</td>\n",
              "      <td>3.0</td>\n",
              "      <td>3.0</td>\n",
              "      <td>3.0</td>\n",
              "      <td>4.0</td>\n",
              "      <td>4.0</td>\n",
              "      <td>3.0</td>\n",
              "      <td>4.0</td>\n",
              "      <td>2.0</td>\n",
              "      <td>2.0</td>\n",
              "      <td>3.0</td>\n",
              "      <td>3.0</td>\n",
              "      <td>6</td>\n",
              "      <td>3.0</td>\n",
              "      <td>4.0</td>\n",
              "      <td>3.0</td>\n",
              "    </tr>\n",
              "    <tr>\n",
              "      <th>1</th>\n",
              "      <td>2.0</td>\n",
              "      <td>4.0</td>\n",
              "      <td>5.0</td>\n",
              "      <td>2.0</td>\n",
              "      <td>5.0</td>\n",
              "      <td>5.0</td>\n",
              "      <td>4.0</td>\n",
              "      <td>4.0</td>\n",
              "      <td>3.0</td>\n",
              "      <td>4.0</td>\n",
              "      <td>1.0</td>\n",
              "      <td>1.0</td>\n",
              "      <td>6.0</td>\n",
              "      <td>4.0</td>\n",
              "      <td>3.0</td>\n",
              "      <td>3.0</td>\n",
              "      <td>3.0</td>\n",
              "      <td>3.0</td>\n",
              "      <td>5.0</td>\n",
              "      <td>5.0</td>\n",
              "      <td>4.0</td>\n",
              "      <td>2</td>\n",
              "      <td>4.0</td>\n",
              "      <td>3.0</td>\n",
              "      <td>3.0</td>\n",
              "    </tr>\n",
              "    <tr>\n",
              "      <th>2</th>\n",
              "      <td>5.0</td>\n",
              "      <td>4.0</td>\n",
              "      <td>5.0</td>\n",
              "      <td>4.0</td>\n",
              "      <td>4.0</td>\n",
              "      <td>4.0</td>\n",
              "      <td>5.0</td>\n",
              "      <td>4.0</td>\n",
              "      <td>2.0</td>\n",
              "      <td>5.0</td>\n",
              "      <td>2.0</td>\n",
              "      <td>4.0</td>\n",
              "      <td>4.0</td>\n",
              "      <td>4.0</td>\n",
              "      <td>5.0</td>\n",
              "      <td>4.0</td>\n",
              "      <td>5.0</td>\n",
              "      <td>4.0</td>\n",
              "      <td>2.0</td>\n",
              "      <td>3.0</td>\n",
              "      <td>4.0</td>\n",
              "      <td>2</td>\n",
              "      <td>5.0</td>\n",
              "      <td>5.0</td>\n",
              "      <td>2.0</td>\n",
              "    </tr>\n",
              "    <tr>\n",
              "      <th>3</th>\n",
              "      <td>4.0</td>\n",
              "      <td>4.0</td>\n",
              "      <td>6.0</td>\n",
              "      <td>5.0</td>\n",
              "      <td>5.0</td>\n",
              "      <td>4.0</td>\n",
              "      <td>4.0</td>\n",
              "      <td>3.0</td>\n",
              "      <td>5.0</td>\n",
              "      <td>5.0</td>\n",
              "      <td>5.0</td>\n",
              "      <td>3.0</td>\n",
              "      <td>4.0</td>\n",
              "      <td>4.0</td>\n",
              "      <td>4.0</td>\n",
              "      <td>2.0</td>\n",
              "      <td>5.0</td>\n",
              "      <td>2.0</td>\n",
              "      <td>4.0</td>\n",
              "      <td>1.0</td>\n",
              "      <td>3.0</td>\n",
              "      <td>3</td>\n",
              "      <td>4.0</td>\n",
              "      <td>3.0</td>\n",
              "      <td>5.0</td>\n",
              "    </tr>\n",
              "    <tr>\n",
              "      <th>4</th>\n",
              "      <td>2.0</td>\n",
              "      <td>3.0</td>\n",
              "      <td>3.0</td>\n",
              "      <td>4.0</td>\n",
              "      <td>5.0</td>\n",
              "      <td>4.0</td>\n",
              "      <td>4.0</td>\n",
              "      <td>5.0</td>\n",
              "      <td>3.0</td>\n",
              "      <td>2.0</td>\n",
              "      <td>2.0</td>\n",
              "      <td>2.0</td>\n",
              "      <td>5.0</td>\n",
              "      <td>4.0</td>\n",
              "      <td>5.0</td>\n",
              "      <td>2.0</td>\n",
              "      <td>3.0</td>\n",
              "      <td>4.0</td>\n",
              "      <td>4.0</td>\n",
              "      <td>3.0</td>\n",
              "      <td>3.0</td>\n",
              "      <td>3</td>\n",
              "      <td>4.0</td>\n",
              "      <td>3.0</td>\n",
              "      <td>3.0</td>\n",
              "    </tr>\n",
              "    <tr>\n",
              "      <th>...</th>\n",
              "      <td>...</td>\n",
              "      <td>...</td>\n",
              "      <td>...</td>\n",
              "      <td>...</td>\n",
              "      <td>...</td>\n",
              "      <td>...</td>\n",
              "      <td>...</td>\n",
              "      <td>...</td>\n",
              "      <td>...</td>\n",
              "      <td>...</td>\n",
              "      <td>...</td>\n",
              "      <td>...</td>\n",
              "      <td>...</td>\n",
              "      <td>...</td>\n",
              "      <td>...</td>\n",
              "      <td>...</td>\n",
              "      <td>...</td>\n",
              "      <td>...</td>\n",
              "      <td>...</td>\n",
              "      <td>...</td>\n",
              "      <td>...</td>\n",
              "      <td>...</td>\n",
              "      <td>...</td>\n",
              "      <td>...</td>\n",
              "      <td>...</td>\n",
              "    </tr>\n",
              "    <tr>\n",
              "      <th>2795</th>\n",
              "      <td>6.0</td>\n",
              "      <td>1.0</td>\n",
              "      <td>3.0</td>\n",
              "      <td>3.0</td>\n",
              "      <td>3.0</td>\n",
              "      <td>6.0</td>\n",
              "      <td>6.0</td>\n",
              "      <td>6.0</td>\n",
              "      <td>1.0</td>\n",
              "      <td>1.0</td>\n",
              "      <td>1.0</td>\n",
              "      <td>4.0</td>\n",
              "      <td>5.0</td>\n",
              "      <td>5.0</td>\n",
              "      <td>6.0</td>\n",
              "      <td>1.0</td>\n",
              "      <td>1.0</td>\n",
              "      <td>1.0</td>\n",
              "      <td>NaN</td>\n",
              "      <td>1.0</td>\n",
              "      <td>6.0</td>\n",
              "      <td>1</td>\n",
              "      <td>6.0</td>\n",
              "      <td>6.0</td>\n",
              "      <td>1.0</td>\n",
              "    </tr>\n",
              "    <tr>\n",
              "      <th>2796</th>\n",
              "      <td>2.0</td>\n",
              "      <td>4.0</td>\n",
              "      <td>4.0</td>\n",
              "      <td>3.0</td>\n",
              "      <td>5.0</td>\n",
              "      <td>2.0</td>\n",
              "      <td>3.0</td>\n",
              "      <td>4.0</td>\n",
              "      <td>4.0</td>\n",
              "      <td>3.0</td>\n",
              "      <td>2.0</td>\n",
              "      <td>2.0</td>\n",
              "      <td>4.0</td>\n",
              "      <td>4.0</td>\n",
              "      <td>3.0</td>\n",
              "      <td>NaN</td>\n",
              "      <td>3.0</td>\n",
              "      <td>2.0</td>\n",
              "      <td>3.0</td>\n",
              "      <td>3.0</td>\n",
              "      <td>6.0</td>\n",
              "      <td>3</td>\n",
              "      <td>5.0</td>\n",
              "      <td>4.0</td>\n",
              "      <td>2.0</td>\n",
              "    </tr>\n",
              "    <tr>\n",
              "      <th>2797</th>\n",
              "      <td>2.0</td>\n",
              "      <td>3.0</td>\n",
              "      <td>5.0</td>\n",
              "      <td>2.0</td>\n",
              "      <td>5.0</td>\n",
              "      <td>5.0</td>\n",
              "      <td>5.0</td>\n",
              "      <td>5.0</td>\n",
              "      <td>1.0</td>\n",
              "      <td>1.0</td>\n",
              "      <td>2.0</td>\n",
              "      <td>2.0</td>\n",
              "      <td>6.0</td>\n",
              "      <td>3.0</td>\n",
              "      <td>6.0</td>\n",
              "      <td>3.0</td>\n",
              "      <td>4.0</td>\n",
              "      <td>3.0</td>\n",
              "      <td>3.0</td>\n",
              "      <td>1.0</td>\n",
              "      <td>5.0</td>\n",
              "      <td>1</td>\n",
              "      <td>6.0</td>\n",
              "      <td>4.0</td>\n",
              "      <td>3.0</td>\n",
              "    </tr>\n",
              "    <tr>\n",
              "      <th>2798</th>\n",
              "      <td>5.0</td>\n",
              "      <td>2.0</td>\n",
              "      <td>2.0</td>\n",
              "      <td>4.0</td>\n",
              "      <td>4.0</td>\n",
              "      <td>5.0</td>\n",
              "      <td>5.0</td>\n",
              "      <td>5.0</td>\n",
              "      <td>2.0</td>\n",
              "      <td>6.0</td>\n",
              "      <td>2.0</td>\n",
              "      <td>2.0</td>\n",
              "      <td>4.0</td>\n",
              "      <td>5.0</td>\n",
              "      <td>4.0</td>\n",
              "      <td>5.0</td>\n",
              "      <td>5.0</td>\n",
              "      <td>6.0</td>\n",
              "      <td>4.0</td>\n",
              "      <td>1.0</td>\n",
              "      <td>5.0</td>\n",
              "      <td>2</td>\n",
              "      <td>5.0</td>\n",
              "      <td>5.0</td>\n",
              "      <td>1.0</td>\n",
              "    </tr>\n",
              "    <tr>\n",
              "      <th>2799</th>\n",
              "      <td>2.0</td>\n",
              "      <td>3.0</td>\n",
              "      <td>1.0</td>\n",
              "      <td>4.0</td>\n",
              "      <td>2.0</td>\n",
              "      <td>5.0</td>\n",
              "      <td>5.0</td>\n",
              "      <td>3.0</td>\n",
              "      <td>3.0</td>\n",
              "      <td>3.0</td>\n",
              "      <td>3.0</td>\n",
              "      <td>3.0</td>\n",
              "      <td>1.0</td>\n",
              "      <td>2.0</td>\n",
              "      <td>2.0</td>\n",
              "      <td>1.0</td>\n",
              "      <td>2.0</td>\n",
              "      <td>2.0</td>\n",
              "      <td>1.0</td>\n",
              "      <td>1.0</td>\n",
              "      <td>3.0</td>\n",
              "      <td>1</td>\n",
              "      <td>3.0</td>\n",
              "      <td>5.0</td>\n",
              "      <td>1.0</td>\n",
              "    </tr>\n",
              "  </tbody>\n",
              "</table>\n",
              "<p>2800 rows × 25 columns</p>\n",
              "</div>"
            ],
            "text/plain": [
              "       A1   A2   A3   A4   A5   C1   C2  ...   N4   N5   O1  O2   O3   O4   O5\n",
              "0     2.0  4.0  3.0  4.0  4.0  2.0  3.0  ...  2.0  3.0  3.0   6  3.0  4.0  3.0\n",
              "1     2.0  4.0  5.0  2.0  5.0  5.0  4.0  ...  5.0  5.0  4.0   2  4.0  3.0  3.0\n",
              "2     5.0  4.0  5.0  4.0  4.0  4.0  5.0  ...  2.0  3.0  4.0   2  5.0  5.0  2.0\n",
              "3     4.0  4.0  6.0  5.0  5.0  4.0  4.0  ...  4.0  1.0  3.0   3  4.0  3.0  5.0\n",
              "4     2.0  3.0  3.0  4.0  5.0  4.0  4.0  ...  4.0  3.0  3.0   3  4.0  3.0  3.0\n",
              "...   ...  ...  ...  ...  ...  ...  ...  ...  ...  ...  ...  ..  ...  ...  ...\n",
              "2795  6.0  1.0  3.0  3.0  3.0  6.0  6.0  ...  NaN  1.0  6.0   1  6.0  6.0  1.0\n",
              "2796  2.0  4.0  4.0  3.0  5.0  2.0  3.0  ...  3.0  3.0  6.0   3  5.0  4.0  2.0\n",
              "2797  2.0  3.0  5.0  2.0  5.0  5.0  5.0  ...  3.0  1.0  5.0   1  6.0  4.0  3.0\n",
              "2798  5.0  2.0  2.0  4.0  4.0  5.0  5.0  ...  4.0  1.0  5.0   2  5.0  5.0  1.0\n",
              "2799  2.0  3.0  1.0  4.0  2.0  5.0  5.0  ...  1.0  1.0  3.0   1  3.0  5.0  1.0\n",
              "\n",
              "[2800 rows x 25 columns]"
            ]
          },
          "metadata": {
            "tags": []
          },
          "execution_count": 11
        }
      ]
    },
    {
      "cell_type": "code",
      "metadata": {
        "id": "bfTw3-kSS6eP"
      },
      "source": [
        "BFI_data_dropped2 = BFI_data_dropped.dropna() # ทำการตัดค่าที่ว่างออกไป"
      ],
      "execution_count": 13,
      "outputs": []
    },
    {
      "cell_type": "code",
      "metadata": {
        "id": "_Dwpyr8BKpZf",
        "outputId": "a45d7195-d1c7-434b-91a8-3c02bb36ba88",
        "colab": {
          "base_uri": "https://localhost:8080/"
        }
      },
      "source": [
        "BFI_data_dropped.shape"
      ],
      "execution_count": 14,
      "outputs": [
        {
          "output_type": "execute_result",
          "data": {
            "text/plain": [
              "(2800, 25)"
            ]
          },
          "metadata": {
            "tags": []
          },
          "execution_count": 14
        }
      ]
    },
    {
      "cell_type": "code",
      "metadata": {
        "id": "xKdeiVpYKt9g",
        "outputId": "7ac28e88-09ab-4c61-8cf5-051e6ce9ca63",
        "colab": {
          "base_uri": "https://localhost:8080/"
        }
      },
      "source": [
        "BFI_data_dropped2.shape"
      ],
      "execution_count": 15,
      "outputs": [
        {
          "output_type": "execute_result",
          "data": {
            "text/plain": [
              "(2436, 25)"
            ]
          },
          "metadata": {
            "tags": []
          },
          "execution_count": 15
        }
      ]
    },
    {
      "cell_type": "markdown",
      "metadata": {
        "id": "DzjoZvlKK3jx"
      },
      "source": [
        "## **Bartlett’s test**"
      ]
    },
    {
      "cell_type": "code",
      "metadata": {
        "id": "ftcJSEw0Kxhu"
      },
      "source": [
        "from factor_analyzer.factor_analyzer import calculate_bartlett_sphericity # ทำการ import fuction calculate_bartlett_sphericity "
      ],
      "execution_count": 16,
      "outputs": []
    },
    {
      "cell_type": "code",
      "metadata": {
        "id": "1wHhXMtsLBVi",
        "outputId": "f70fa73c-6017-4e3c-b4ca-24bdc835d97e",
        "colab": {
          "base_uri": "https://localhost:8080/"
        }
      },
      "source": [
        "chi_square_value,p_value=calculate_bartlett_sphericity(BFI_data_dropped2) # ถ้าค่า p-value เท่ากับ 0 แสดงว่า data ไม่มี prefact multicollonearity\n",
        "chi_square_value, p_value"
      ],
      "execution_count": 18,
      "outputs": [
        {
          "output_type": "execute_result",
          "data": {
            "text/plain": [
              "(18170.966350869243, 0.0)"
            ]
          },
          "metadata": {
            "tags": []
          },
          "execution_count": 18
        }
      ]
    },
    {
      "cell_type": "markdown",
      "metadata": {
        "id": "kmkeyYyJLd_b"
      },
      "source": [
        "## **Kaiser-Meyer-Olkin (KMO) Test**"
      ]
    },
    {
      "cell_type": "code",
      "metadata": {
        "id": "RctpyLCdLfkh"
      },
      "source": [
        "from factor_analyzer.factor_analyzer import calculate_kmo "
      ],
      "execution_count": 19,
      "outputs": []
    },
    {
      "cell_type": "code",
      "metadata": {
        "id": "IUd8ORK4LzKM"
      },
      "source": [
        "kmo_all,kmo_model=calculate_kmo(BFI_data_dropped2)"
      ],
      "execution_count": 20,
      "outputs": []
    },
    {
      "cell_type": "code",
      "metadata": {
        "id": "p5LG2hd0L1Z_",
        "outputId": "7237fb02-ab3b-49ba-959b-f0b26f56b4de",
        "colab": {
          "base_uri": "https://localhost:8080/"
        }
      },
      "source": [
        "kmo_model # เมื่อรันค่า KMO แล้วมีค่าน้อยกว่า 6 แสดงว่าไม่สามารถใช้ข้อมูลนี้ได้ (มีค่ามากยิ่งดี)"
      ],
      "execution_count": 23,
      "outputs": [
        {
          "output_type": "execute_result",
          "data": {
            "text/plain": [
              "0.8485397221949221"
            ]
          },
          "metadata": {
            "tags": []
          },
          "execution_count": 23
        }
      ]
    },
    {
      "cell_type": "markdown",
      "metadata": {
        "id": "kX2Y11TzL7kM"
      },
      "source": [
        "## **Start Factors analysis**"
      ]
    },
    {
      "cell_type": "markdown",
      "metadata": {
        "id": "gs5oD13SMAXg"
      },
      "source": [
        "Choosing the Number of Factors"
      ]
    },
    {
      "cell_type": "code",
      "metadata": {
        "id": "uyBTp_zuL6rV"
      },
      "source": [
        "from factor_analyzer import FactorAnalyzer # Import"
      ],
      "execution_count": 27,
      "outputs": []
    },
    {
      "cell_type": "code",
      "metadata": {
        "id": "Sm7sl88QMEJD"
      },
      "source": [
        "fa = FactorAnalyzer(n_factors=20) # Define"
      ],
      "execution_count": 28,
      "outputs": []
    },
    {
      "cell_type": "code",
      "metadata": {
        "id": "t7kmLqQKMPYI"
      },
      "source": [
        "data_fa = fa.fit_transform(BFI_data_dropped2)"
      ],
      "execution_count": 29,
      "outputs": []
    },
    {
      "cell_type": "code",
      "metadata": {
        "id": "XlfMeGcLMXzJ",
        "outputId": "247eb7e8-a9e2-4017-9b99-664e0f64be27",
        "colab": {
          "base_uri": "https://localhost:8080/"
        }
      },
      "source": [
        "data_fa.shape"
      ],
      "execution_count": 30,
      "outputs": [
        {
          "output_type": "execute_result",
          "data": {
            "text/plain": [
              "(2436, 20)"
            ]
          },
          "metadata": {
            "tags": []
          },
          "execution_count": 30
        }
      ]
    },
    {
      "cell_type": "code",
      "metadata": {
        "id": "C5nlmViqMcU0"
      },
      "source": [
        "ev,v = fa.get_eigenvalues() #คำนวณหาค่า eigen values เพื่อนำไป plot ในกราฟ Scree plot"
      ],
      "execution_count": 31,
      "outputs": []
    },
    {
      "cell_type": "markdown",
      "metadata": {
        "id": "iRO9yvqWMojO"
      },
      "source": [
        "วิธีตัดสินว่าเราจะลดเหลือกี่ Dimention (มี factors ทั้งหมดกี่ตัว)"
      ]
    },
    {
      "cell_type": "code",
      "metadata": {
        "id": "HMNhfjxFMjmx",
        "outputId": "e66f32c2-2534-4056-f1bd-583c85fe03f1",
        "colab": {
          "base_uri": "https://localhost:8080/"
        }
      },
      "source": [
        "ev"
      ],
      "execution_count": 32,
      "outputs": [
        {
          "output_type": "execute_result",
          "data": {
            "text/plain": [
              "array([5.13431118, 2.75188667, 2.14270195, 1.85232761, 1.54816285,\n",
              "       1.07358247, 0.83953893, 0.79920618, 0.71898919, 0.68808879,\n",
              "       0.67637336, 0.65179984, 0.62325295, 0.59656284, 0.56309083,\n",
              "       0.54330533, 0.51451752, 0.49450315, 0.48263952, 0.448921  ,\n",
              "       0.42336611, 0.40067145, 0.38780448, 0.38185679, 0.26253902])"
            ]
          },
          "metadata": {
            "tags": []
          },
          "execution_count": 32
        }
      ]
    },
    {
      "cell_type": "markdown",
      "metadata": {
        "id": "wOY5XW9nMulX"
      },
      "source": [
        "\n",
        " **Scree plot** เป็นกราฟที่บอกว่า factor แต่ละตัวมีค่า eigen values เท่าไหร่\n",
        "\n",
        "โดยการทำ Scree plot เพื่อมาดู factor ที่มากกว่า 1 แล้วจะนำ factor นั้นมาใช้"
      ]
    },
    {
      "cell_type": "code",
      "metadata": {
        "id": "EJc8LKnWM1mA",
        "outputId": "c46d8e12-09c0-446c-f269-202350554bbc",
        "colab": {
          "base_uri": "https://localhost:8080/",
          "height": 295
        }
      },
      "source": [
        "# Create scree plot using matplotlib\n",
        "plt.plot(range(1,BFI_data_dropped2.shape[1]+1),ev,'bo-')\n",
        "plt.plot([0,BFI_data_dropped2.shape[1]+1],[1,1],'r--')\n",
        "plt.title('Scree Plot')\n",
        "plt.xlabel('Factors')\n",
        "plt.ylabel('Eigenvalue')\n",
        "plt.grid()\n",
        "plt.show()"
      ],
      "execution_count": 33,
      "outputs": [
        {
          "output_type": "display_data",
          "data": {
            "image/png": "[encoded data removed]",
            "text/plain": [
              "<Figure size 432x288 with 1 Axes>"
            ]
          },
          "metadata": {
            "tags": [],
            "needs_background": "light"
          }
        }
      ]
    },
    {
      "cell_type": "code",
      "metadata": {
        "id": "D57g0U-lNERG",
        "outputId": "05a553b4-66a7-41a1-9a21-8df5114e7705",
        "colab": {
          "base_uri": "https://localhost:8080/"
        }
      },
      "source": [
        "data_fa[:,:6] # ตัวที่ 1-6 มีค่ามากกว่า 1"
      ],
      "execution_count": 34,
      "outputs": [
        {
          "output_type": "execute_result",
          "data": {
            "text/plain": [
              "array([[-0.89749661, -0.12809666, -1.22649076,  1.08665889,  0.42476701,\n",
              "         0.03981611],\n",
              "       [ 0.33679356, -0.15018138, -0.04332274, -0.10339328,  0.29665648,\n",
              "        -1.11019718],\n",
              "       [-0.24521029,  0.80409961,  0.39343377, -0.30106518,  0.82703928,\n",
              "        -0.2982022 ],\n",
              "       ...,\n",
              "       [ 0.38724631, -0.02183587,  1.19616826, -1.19357208,  0.79669501,\n",
              "        -0.95295109],\n",
              "       [-0.75695976,  0.94984758,  1.24363484, -1.15230215,  2.2534133 ,\n",
              "        -1.0218667 ],\n",
              "       [-2.35583952, -1.49829856,  0.49436981, -1.64734311,  0.94742323,\n",
              "         0.43462495]])"
            ]
          },
          "metadata": {
            "tags": []
          },
          "execution_count": 34
        }
      ]
    },
    {
      "cell_type": "markdown",
      "metadata": {
        "id": "yKklX68SNOLo"
      },
      "source": [
        "## **Factor Loading**"
      ]
    },
    {
      "cell_type": "code",
      "metadata": {
        "id": "uev0MZuNNPtV"
      },
      "source": [
        ""
      ],
      "execution_count": null,
      "outputs": []
    }
  ]
}