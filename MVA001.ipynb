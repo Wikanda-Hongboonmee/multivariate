{
  "nbformat": 4,
  "nbformat_minor": 0,
  "metadata": {
    "colab": {
      "name": "MVA001.ipynb",
      "provenance": [],
      "authorship_tag": "ABX9TyOmSZ0RiPkJ3fKHEPpMG0ou",
      "include_colab_link": true
    },
    "kernelspec": {
      "name": "python3",
      "display_name": "Python 3"
    }
  },
  "cells": [
    {
      "cell_type": "markdown",
      "metadata": {
        "id": "view-in-github",
        "colab_type": "text"
      },
      "source": [
        "<a href=\"https://colab.research.google.com/github/Wikanda-Hongboonmee/multivariate/blob/main/MVA001.ipynb\" target=\"_parent\"><img src=\"https://colab.research.google.com/assets/colab-badge.svg\" alt=\"Open In Colab\"/></a>"
      ]
    },
    {
      "cell_type": "markdown",
      "metadata": {
        "id": "L5VeF4JcTACr"
      },
      "source": [
        "Scalar,Vector,Matrix"
      ]
    },
    {
      "cell_type": "markdown",
      "metadata": {
        "id": "JLZuL0vwYzKR"
      },
      "source": [
        "## Scalar"
      ]
    },
    {
      "cell_type": "code",
      "metadata": {
        "id": "SsLWYjTlTtJH"
      },
      "source": [
        "import numpy as np"
      ],
      "execution_count": 2,
      "outputs": []
    },
    {
      "cell_type": "code",
      "metadata": {
        "colab": {
          "base_uri": "https://localhost:8080/"
        },
        "id": "nllAGmpmS4Tg",
        "outputId": "01dcebf0-b5fd-4697-8eac-10abc76d1424"
      },
      "source": [
        "scalar_a = 10 \r\n",
        "print(scalar_a)"
      ],
      "execution_count": 16,
      "outputs": [
        {
          "output_type": "stream",
          "text": [
            "10\n"
          ],
          "name": "stdout"
        }
      ]
    },
    {
      "cell_type": "markdown",
      "metadata": {
        "id": "JRDZpuzpY_xg"
      },
      "source": [
        "## Vector"
      ]
    },
    {
      "cell_type": "code",
      "metadata": {
        "colab": {
          "base_uri": "https://localhost:8080/"
        },
        "id": "PhbmBYwETlPB",
        "outputId": "708e3b21-f1a8-4cf3-d63f-3e2dac818b37"
      },
      "source": [
        "vector_b = np.zeros([2,1]) #กำหนด shape ของ matrix ก่อน\r\n",
        "vector_b[0,0] = 2\r\n",
        "vector_b[1,0] = 3\r\n",
        "print (vector_b)\r\n",
        "print (vector_b.shape)"
      ],
      "execution_count": 20,
      "outputs": [
        {
          "output_type": "stream",
          "text": [
            "[[2.]\n",
            " [3.]]\n",
            "(2, 1)\n"
          ],
          "name": "stdout"
        }
      ]
    },
    {
      "cell_type": "code",
      "metadata": {
        "colab": {
          "base_uri": "https://localhost:8080/"
        },
        "id": "wMYhMNRhUvpM",
        "outputId": "440be98f-9766-4ed2-af88-eebc98f7b3ad"
      },
      "source": [
        "vector_c = np.array([[1],[3]])\r\n",
        "print(vector_c)\r\n",
        "print(vector_c.shape)"
      ],
      "execution_count": 8,
      "outputs": [
        {
          "output_type": "stream",
          "text": [
            "[[1]\n",
            " [3]]\n",
            "(2, 1)\n"
          ],
          "name": "stdout"
        }
      ]
    },
    {
      "cell_type": "code",
      "metadata": {
        "id": "BiBY0dexUJZ3"
      },
      "source": [
        "from matplotlib import pyplot as plt"
      ],
      "execution_count": 18,
      "outputs": []
    },
    {
      "cell_type": "code",
      "metadata": {
        "colab": {
          "base_uri": "https://localhost:8080/",
          "height": 282
        },
        "id": "JTgPZw4xVMUB",
        "outputId": "4146a62d-acf9-4427-ceef-52181f7c68fc"
      },
      "source": [
        "plt.plot(vector_b[0,0],vector_b[1,0],'or') #คำสั่ง plot ที่ใช้ประจำ"
      ],
      "execution_count": 10,
      "outputs": [
        {
          "output_type": "execute_result",
          "data": {
            "text/plain": [
              "[<matplotlib.lines.Line2D at 0x7f12e0850320>]"
            ]
          },
          "metadata": {
            "tags": []
          },
          "execution_count": 10
        },
        {
          "output_type": "display_data",
          "data": {
            "image/png": "[encoded data removed]",
            "text/plain": [
              "<Figure size 432x288 with 1 Axes>"
            ]
          },
          "metadata": {
            "tags": [],
            "needs_background": "light"
          }
        }
      ]
    },
    {
      "cell_type": "code",
      "metadata": {
        "colab": {
          "base_uri": "https://localhost:8080/",
          "height": 282
        },
        "id": "M-p-s7_cVmvr",
        "outputId": "250084b6-302f-4769-b925-83fa874e8533"
      },
      "source": [
        "plt.quiver(0,0,vector_b[0,0],vector_b[1,0])"
      ],
      "execution_count": 13,
      "outputs": [
        {
          "output_type": "execute_result",
          "data": {
            "text/plain": [
              "<matplotlib.quiver.Quiver at 0x7f12cf671e10>"
            ]
          },
          "metadata": {
            "tags": []
          },
          "execution_count": 13
        },
        {
          "output_type": "display_data",
          "data": {
            "image/png": "[encoded data removed]",
            "text/plain": [
              "<Figure size 432x288 with 1 Axes>"
            ]
          },
          "metadata": {
            "tags": [],
            "needs_background": "light"
          }
        }
      ]
    },
    {
      "cell_type": "markdown",
      "metadata": {
        "id": "77gLUmQEXw6m"
      },
      "source": [
        "ขนาดของ vector หามาจาก วิธีพีทาโกรัส\r\n"
      ]
    },
    {
      "cell_type": "code",
      "metadata": {
        "colab": {
          "base_uri": "https://localhost:8080/"
        },
        "id": "jyOWEcQDWn8b",
        "outputId": "99d15d7b-51f0-456a-a7f0-4089db75c50e"
      },
      "source": [
        "vector_b_size =((vector_b[0,0]**2) + (vector_b[1,0]**2))**0.5\r\n",
        "print(vector_b_size)"
      ],
      "execution_count": 21,
      "outputs": [
        {
          "output_type": "stream",
          "text": [
            "3.605551275463989\n"
          ],
          "name": "stdout"
        }
      ]
    },
    {
      "cell_type": "markdown",
      "metadata": {
        "id": "wfKc21NxZEf6"
      },
      "source": [
        "## Matrix"
      ]
    },
    {
      "cell_type": "code",
      "metadata": {
        "colab": {
          "base_uri": "https://localhost:8080/"
        },
        "id": "wU_UsinDY4MY",
        "outputId": "221e6f1f-ca98-4aba-ca54-c4e7eeee7d43"
      },
      "source": [
        "matrix_d = np.array([[2,3],[1,4],[-1,1]]) # Matrix ประกอบด้วย vector(จุด) ของข้อมูลหลายๆจุดรวมกัน\r\n",
        "print(matrix_d)"
      ],
      "execution_count": 58,
      "outputs": [
        {
          "output_type": "stream",
          "text": [
            "[[ 2  3]\n",
            " [ 1  4]\n",
            " [-1  1]]\n"
          ],
          "name": "stdout"
        }
      ]
    },
    {
      "cell_type": "code",
      "metadata": {
        "colab": {
          "base_uri": "https://localhost:8080/"
        },
        "id": "BYqrkZA7YcQB",
        "outputId": "1b2aa8be-fdb2-447b-c0f3-9af070df6790"
      },
      "source": [
        "matrix_d = matrix_d.T\r\n",
        "print(matrix_d)"
      ],
      "execution_count": 59,
      "outputs": [
        {
          "output_type": "stream",
          "text": [
            "[[ 2  1 -1]\n",
            " [ 3  4  1]]\n"
          ],
          "name": "stdout"
        }
      ]
    },
    {
      "cell_type": "code",
      "metadata": {
        "colab": {
          "base_uri": "https://localhost:8080/"
        },
        "id": "CSm3yLy9fnQD",
        "outputId": "8eb90a4b-9445-4aeb-ad35-18f9bf0adefc"
      },
      "source": [
        "matrix_d[0,:]"
      ],
      "execution_count": 60,
      "outputs": [
        {
          "output_type": "execute_result",
          "data": {
            "text/plain": [
              "array([ 2,  1, -1])"
            ]
          },
          "metadata": {
            "tags": []
          },
          "execution_count": 60
        }
      ]
    },
    {
      "cell_type": "code",
      "metadata": {
        "colab": {
          "base_uri": "https://localhost:8080/"
        },
        "id": "JXnaugCqfwGV",
        "outputId": "2c2642f9-886d-446d-d430-ceb875e46dcb"
      },
      "source": [
        "matrix_d[1,:]"
      ],
      "execution_count": 61,
      "outputs": [
        {
          "output_type": "execute_result",
          "data": {
            "text/plain": [
              "array([3, 4, 1])"
            ]
          },
          "metadata": {
            "tags": []
          },
          "execution_count": 61
        }
      ]
    },
    {
      "cell_type": "code",
      "metadata": {
        "colab": {
          "base_uri": "https://localhost:8080/",
          "height": 282
        },
        "id": "eRLiPa1oahAN",
        "outputId": "9a068ced-8fe7-4f5b-e38b-7990042316a9"
      },
      "source": [
        "plt.plot(matrix_d[0,:],matrix_d[1,:],\"or\") #ใช้ plot จุดลงไปในกราฟ plot(ค่า x,ค่า y,หน้าตาของจุด)\r\n",
        "                                                          # OR คือ วงกลม สีแดง\r\n",
        "plt.plot(0,0,'ob')\r\n",
        "plt.plot([0,0],[-1,5],'oc') # x 2 ตัว y 2 ตัว แสดงว่าต้อง plot ทั้งหมด 2 จุด(x,y)\r\n",
        "plt.plot([0,0],[-1,5],':m') # plot เป็นกราฟเส้นตรงผ่านจุดสองจุด\r\n",
        "plt.plot([-1.5,2.5],[0,0],'--g')"
      ],
      "execution_count": 62,
      "outputs": [
        {
          "output_type": "execute_result",
          "data": {
            "text/plain": [
              "[<matplotlib.lines.Line2D at 0x7f12ceac0e80>]"
            ]
          },
          "metadata": {
            "tags": []
          },
          "execution_count": 62
        },
        {
          "output_type": "display_data",
          "data": {
            "image/png": "[encoded data removed]",
            "text/plain": [
              "<Figure size 432x288 with 1 Axes>"
            ]
          },
          "metadata": {
            "tags": [],
            "needs_background": "light"
          }
        }
      ]
    },
    {
      "cell_type": "markdown",
      "metadata": {
        "id": "kCeoJCkAj9xg"
      },
      "source": [
        "Transpose"
      ]
    },
    {
      "cell_type": "code",
      "metadata": {
        "colab": {
          "base_uri": "https://localhost:8080/"
        },
        "id": "sgb31ms4bE3C",
        "outputId": "fa24bca8-688f-457d-c2b7-730fdbff5603"
      },
      "source": [
        "A = np.array([[3,-1,2],[1,5,4]])\r\n",
        "print(A)\r\n"
      ],
      "execution_count": 64,
      "outputs": [
        {
          "output_type": "stream",
          "text": [
            "[[ 3 -1  2]\n",
            " [ 1  5  4]]\n"
          ],
          "name": "stdout"
        }
      ]
    },
    {
      "cell_type": "code",
      "metadata": {
        "colab": {
          "base_uri": "https://localhost:8080/"
        },
        "id": "mSK1UOKBkYjF",
        "outputId": "02942c55-33a1-4aa6-d2cc-e84ea8206d7f"
      },
      "source": [
        "A.T"
      ],
      "execution_count": 65,
      "outputs": [
        {
          "output_type": "execute_result",
          "data": {
            "text/plain": [
              "array([[ 3,  1],\n",
              "       [-1,  5],\n",
              "       [ 2,  4]])"
            ]
          },
          "metadata": {
            "tags": []
          },
          "execution_count": 65
        }
      ]
    },
    {
      "cell_type": "markdown",
      "metadata": {
        "id": "ebYtsk07l4CX"
      },
      "source": [
        "Matrix Multiply"
      ]
    },
    {
      "cell_type": "code",
      "metadata": {
        "colab": {
          "base_uri": "https://localhost:8080/"
        },
        "id": "dETpHpF4keUp",
        "outputId": "3ca6cf3c-22bf-422b-b25a-da43c8b7a7ff"
      },
      "source": [
        "B = np.dot(A,A.T)\r\n",
        "print(B)"
      ],
      "execution_count": 67,
      "outputs": [
        {
          "output_type": "stream",
          "text": [
            "[[14  6]\n",
            " [ 6 42]]\n"
          ],
          "name": "stdout"
        }
      ]
    },
    {
      "cell_type": "markdown",
      "metadata": {
        "id": "cjC9-o3fmCe_"
      },
      "source": [
        "## Determinant\r\n",
        "\r\n",
        "*Det(B)*"
      ]
    },
    {
      "cell_type": "code",
      "metadata": {
        "colab": {
          "base_uri": "https://localhost:8080/"
        },
        "id": "1KQdA5FUluXX",
        "outputId": "75cef208-d0a2-4fac-f26f-c93d07b743c3"
      },
      "source": [
        "np.linalg.det(B)"
      ],
      "execution_count": 68,
      "outputs": [
        {
          "output_type": "execute_result",
          "data": {
            "text/plain": [
              "551.9999999999998"
            ]
          },
          "metadata": {
            "tags": []
          },
          "execution_count": 68
        }
      ]
    },
    {
      "cell_type": "markdown",
      "metadata": {
        "id": "vjY9CY4bmlT_"
      },
      "source": [
        "#การบ้านคือใส่โน้ตเพิ่มเติม"
      ]
    },
    {
      "cell_type": "code",
      "metadata": {
        "id": "pgILvYpjmgKg"
      },
      "source": [
        ""
      ],
      "execution_count": null,
      "outputs": []
    }
  ]
}