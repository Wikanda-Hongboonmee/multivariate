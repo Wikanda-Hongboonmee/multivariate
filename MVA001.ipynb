{
  "nbformat": 4,
  "nbformat_minor": 0,
  "metadata": {
    "colab": {
      "name": "MVA001.ipynb",
      "provenance": [],
      "authorship_tag": "ABX9TyMdf1G9ZISpnAoXqbv8r10I",
      "include_colab_link": true
    },
    "kernelspec": {
      "name": "python3",
      "display_name": "Python 3"
    }
  },
  "cells": [
    {
      "cell_type": "markdown",
      "metadata": {
        "id": "view-in-github",
        "colab_type": "text"
      },
      "source": [
        "<a href=\"https://colab.research.google.com/github/Wikanda-Hongboonmee/multivariate/blob/main/MVA001.ipynb\" target=\"_parent\"><img src=\"https://colab.research.google.com/assets/colab-badge.svg\" alt=\"Open In Colab\"/></a>"
      ]
    },
    {
      "cell_type": "markdown",
      "metadata": {
        "id": "L5VeF4JcTACr"
      },
      "source": [
        "Scalar,Vector,Matrix"
      ]
    },
    {
      "cell_type": "markdown",
      "metadata": {
        "id": "JLZuL0vwYzKR"
      },
      "source": [
        "## Scalar"
      ]
    },
    {
      "cell_type": "code",
      "metadata": {
        "id": "SsLWYjTlTtJH"
      },
      "source": [
        "import numpy as np"
      ],
      "execution_count": 1,
      "outputs": []
    },
    {
      "cell_type": "code",
      "metadata": {
        "colab": {
          "base_uri": "https://localhost:8080/"
        },
        "id": "nllAGmpmS4Tg",
        "outputId": "53b3dc3c-a4b6-4327-d852-e593c86b49b8"
      },
      "source": [
        "scalar_a = 10 \r\n",
        "print(scalar_a)"
      ],
      "execution_count": 2,
      "outputs": [
        {
          "output_type": "stream",
          "text": [
            "10\n"
          ],
          "name": "stdout"
        }
      ]
    },
    {
      "cell_type": "markdown",
      "metadata": {
        "id": "JRDZpuzpY_xg"
      },
      "source": [
        "## Vector"
      ]
    },
    {
      "cell_type": "code",
      "metadata": {
        "colab": {
          "base_uri": "https://localhost:8080/"
        },
        "id": "PhbmBYwETlPB",
        "outputId": "f7f7ad9a-4a86-489b-b032-ae6d4dba8296"
      },
      "source": [
        "vector_b = np.zeros([2,1]) #กำหนด shape ของ matrix ก่อน\r\n",
        "vector_b[0,0] = 2\r\n",
        "vector_b[1,0] = 3\r\n",
        "print (vector_b)\r\n",
        "print (vector_b.shape)"
      ],
      "execution_count": 3,
      "outputs": [
        {
          "output_type": "stream",
          "text": [
            "[[2.]\n",
            " [3.]]\n",
            "(2, 1)\n"
          ],
          "name": "stdout"
        }
      ]
    },
    {
      "cell_type": "code",
      "metadata": {
        "colab": {
          "base_uri": "https://localhost:8080/"
        },
        "id": "wMYhMNRhUvpM",
        "outputId": "9b4760a8-5790-4c5d-df21-256d0297de57"
      },
      "source": [
        "vector_c = np.array([[1],[3]])\r\n",
        "print(vector_c)\r\n",
        "print(vector_c.shape)"
      ],
      "execution_count": 4,
      "outputs": [
        {
          "output_type": "stream",
          "text": [
            "[[1]\n",
            " [3]]\n",
            "(2, 1)\n"
          ],
          "name": "stdout"
        }
      ]
    },
    {
      "cell_type": "code",
      "metadata": {
        "id": "BiBY0dexUJZ3"
      },
      "source": [
        "from matplotlib import pyplot as plt"
      ],
      "execution_count": 5,
      "outputs": []
    },
    {
      "cell_type": "code",
      "metadata": {
        "colab": {
          "base_uri": "https://localhost:8080/",
          "height": 282
        },
        "id": "JTgPZw4xVMUB",
        "outputId": "c493c1fb-cf5c-46d7-e321-e664efdc70e4"
      },
      "source": [
        "plt.plot(vector_b[0,0],vector_b[1,0],'or') #คำสั่ง plot ที่ใช้ประจำ"
      ],
      "execution_count": 6,
      "outputs": [
        {
          "output_type": "execute_result",
          "data": {
            "text/plain": [
              "[<matplotlib.lines.Line2D at 0x7f4029ebaa58>]"
            ]
          },
          "metadata": {
            "tags": []
          },
          "execution_count": 6
        },
        {
          "output_type": "display_data",
          "data": {
            "image/png": "[encoded data removed]",
            "text/plain": [
              "<Figure size 432x288 with 1 Axes>"
            ]
          },
          "metadata": {
            "tags": [],
            "needs_background": "light"
          }
        }
      ]
    },
    {
      "cell_type": "code",
      "metadata": {
        "colab": {
          "base_uri": "https://localhost:8080/",
          "height": 282
        },
        "id": "M-p-s7_cVmvr",
        "outputId": "b343c9e1-468e-4195-a6b6-0dadab9bf3dc"
      },
      "source": [
        "plt.quiver(0,0,vector_b[0,0],vector_b[1,0])"
      ],
      "execution_count": 7,
      "outputs": [
        {
          "output_type": "execute_result",
          "data": {
            "text/plain": [
              "<matplotlib.quiver.Quiver at 0x7f4029e4b710>"
            ]
          },
          "metadata": {
            "tags": []
          },
          "execution_count": 7
        },
        {
          "output_type": "display_data",
          "data": {
            "image/png": "[encoded data removed]",
            "text/plain": [
              "<Figure size 432x288 with 1 Axes>"
            ]
          },
          "metadata": {
            "tags": [],
            "needs_background": "light"
          }
        }
      ]
    },
    {
      "cell_type": "markdown",
      "metadata": {
        "id": "77gLUmQEXw6m"
      },
      "source": [
        "ขนาดของ vector หามาจาก วิธีพีทาโกรัส\r\n"
      ]
    },
    {
      "cell_type": "code",
      "metadata": {
        "colab": {
          "base_uri": "https://localhost:8080/"
        },
        "id": "jyOWEcQDWn8b",
        "outputId": "658f298a-a8a2-415f-ec4f-eac63e91b02b"
      },
      "source": [
        "vector_b_size =((vector_b[0,0]**2) + (vector_b[1,0]**2))**0.5\r\n",
        "print(vector_b_size)"
      ],
      "execution_count": 8,
      "outputs": [
        {
          "output_type": "stream",
          "text": [
            "3.605551275463989\n"
          ],
          "name": "stdout"
        }
      ]
    },
    {
      "cell_type": "markdown",
      "metadata": {
        "id": "wfKc21NxZEf6"
      },
      "source": [
        "## Matrix"
      ]
    },
    {
      "cell_type": "code",
      "metadata": {
        "colab": {
          "base_uri": "https://localhost:8080/"
        },
        "id": "wU_UsinDY4MY",
        "outputId": "87e38cad-9cd0-4387-cada-41199c29ed2d"
      },
      "source": [
        "matrix_d = np.array([[2,3],[1,4],[-1,1]]) # Matrix ประกอบด้วย vector(จุด) ของข้อมูลหลายๆจุดรวมกัน\r\n",
        "print(matrix_d)"
      ],
      "execution_count": 9,
      "outputs": [
        {
          "output_type": "stream",
          "text": [
            "[[ 2  3]\n",
            " [ 1  4]\n",
            " [-1  1]]\n"
          ],
          "name": "stdout"
        }
      ]
    },
    {
      "cell_type": "code",
      "metadata": {
        "colab": {
          "base_uri": "https://localhost:8080/"
        },
        "id": "BYqrkZA7YcQB",
        "outputId": "9007f0b6-61e9-4e32-e78e-c7e49968a1dd"
      },
      "source": [
        "matrix_d = matrix_d.T\r\n",
        "print(matrix_d)"
      ],
      "execution_count": 10,
      "outputs": [
        {
          "output_type": "stream",
          "text": [
            "[[ 2  1 -1]\n",
            " [ 3  4  1]]\n"
          ],
          "name": "stdout"
        }
      ]
    },
    {
      "cell_type": "code",
      "metadata": {
        "colab": {
          "base_uri": "https://localhost:8080/"
        },
        "id": "CSm3yLy9fnQD",
        "outputId": "cd8d8719-a3f7-4b54-d2a5-796990ff59ae"
      },
      "source": [
        "matrix_d[0,:]"
      ],
      "execution_count": 11,
      "outputs": [
        {
          "output_type": "execute_result",
          "data": {
            "text/plain": [
              "array([ 2,  1, -1])"
            ]
          },
          "metadata": {
            "tags": []
          },
          "execution_count": 11
        }
      ]
    },
    {
      "cell_type": "code",
      "metadata": {
        "colab": {
          "base_uri": "https://localhost:8080/"
        },
        "id": "JXnaugCqfwGV",
        "outputId": "1bdb2117-a17b-4960-a0d4-1a97908d3d9d"
      },
      "source": [
        "matrix_d[1,:]"
      ],
      "execution_count": 12,
      "outputs": [
        {
          "output_type": "execute_result",
          "data": {
            "text/plain": [
              "array([3, 4, 1])"
            ]
          },
          "metadata": {
            "tags": []
          },
          "execution_count": 12
        }
      ]
    },
    {
      "cell_type": "code",
      "metadata": {
        "colab": {
          "base_uri": "https://localhost:8080/",
          "height": 282
        },
        "id": "eRLiPa1oahAN",
        "outputId": "21a3f3fd-a631-4a04-a410-019f86e6db5f"
      },
      "source": [
        "plt.plot(matrix_d[0,:],matrix_d[1,:],\"or\") #ใช้ plot จุดลงไปในกราฟ plot(ค่า x,ค่า y,หน้าตาของจุด)\r\n",
        "                                                          # OR คือ วงกลม สีแดง\r\n",
        "plt.plot(0,0,'ob')\r\n",
        "plt.plot([0,0],[-1,5],'oc') # x 2 ตัว y 2 ตัว แสดงว่าต้อง plot ทั้งหมด 2 จุด(x,y)\r\n",
        "plt.plot([0,0],[-1,5],':m') # plot เป็นกราฟเส้นตรงผ่านจุดสองจุด\r\n",
        "plt.plot([-1.5,2.5],[0,0],'--g')"
      ],
      "execution_count": 13,
      "outputs": [
        {
          "output_type": "execute_result",
          "data": {
            "text/plain": [
              "[<matplotlib.lines.Line2D at 0x7f4021190b70>]"
            ]
          },
          "metadata": {
            "tags": []
          },
          "execution_count": 13
        },
        {
          "output_type": "display_data",
          "data": {
            "image/png": "[encoded data removed]",
            "text/plain": [
              "<Figure size 432x288 with 1 Axes>"
            ]
          },
          "metadata": {
            "tags": [],
            "needs_background": "light"
          }
        }
      ]
    },
    {
      "cell_type": "markdown",
      "metadata": {
        "id": "kCeoJCkAj9xg"
      },
      "source": [
        "Transpose"
      ]
    },
    {
      "cell_type": "code",
      "metadata": {
        "colab": {
          "base_uri": "https://localhost:8080/"
        },
        "id": "sgb31ms4bE3C",
        "outputId": "e1961ff4-fe2f-4529-ee99-eeea5e0314b2"
      },
      "source": [
        "A = np.array([[3,-1,2],[1,5,4]])\r\n",
        "print(A)\r\n"
      ],
      "execution_count": 14,
      "outputs": [
        {
          "output_type": "stream",
          "text": [
            "[[ 3 -1  2]\n",
            " [ 1  5  4]]\n"
          ],
          "name": "stdout"
        }
      ]
    },
    {
      "cell_type": "code",
      "metadata": {
        "colab": {
          "base_uri": "https://localhost:8080/"
        },
        "id": "mSK1UOKBkYjF",
        "outputId": "f6415575-9c76-42f8-9af5-57f066188aec"
      },
      "source": [
        "A.T"
      ],
      "execution_count": 15,
      "outputs": [
        {
          "output_type": "execute_result",
          "data": {
            "text/plain": [
              "array([[ 3,  1],\n",
              "       [-1,  5],\n",
              "       [ 2,  4]])"
            ]
          },
          "metadata": {
            "tags": []
          },
          "execution_count": 15
        }
      ]
    },
    {
      "cell_type": "markdown",
      "metadata": {
        "id": "ebYtsk07l4CX"
      },
      "source": [
        "Matrix Multiply"
      ]
    },
    {
      "cell_type": "markdown",
      "metadata": {
        "id": "14P_U3KGsTj-"
      },
      "source": [
        "$B=A * A'$"
      ]
    },
    {
      "cell_type": "code",
      "metadata": {
        "colab": {
          "base_uri": "https://localhost:8080/"
        },
        "id": "dETpHpF4keUp",
        "outputId": "4c0a878c-823d-4bb1-e678-8cd715668090"
      },
      "source": [
        "B = np.dot(A,A.T)\r\n",
        "print(B)"
      ],
      "execution_count": 16,
      "outputs": [
        {
          "output_type": "stream",
          "text": [
            "[[14  6]\n",
            " [ 6 42]]\n"
          ],
          "name": "stdout"
        }
      ]
    },
    {
      "cell_type": "markdown",
      "metadata": {
        "id": "cjC9-o3fmCe_"
      },
      "source": [
        "## Determinant\r\n",
        "\r\n",
        "*Det(B)*"
      ]
    },
    {
      "cell_type": "code",
      "metadata": {
        "colab": {
          "base_uri": "https://localhost:8080/"
        },
        "id": "1KQdA5FUluXX",
        "outputId": "fce69d43-c91c-4689-bb83-ac3c278b2f4a"
      },
      "source": [
        "np.linalg.det(B)"
      ],
      "execution_count": 17,
      "outputs": [
        {
          "output_type": "execute_result",
          "data": {
            "text/plain": [
              "551.9999999999998"
            ]
          },
          "metadata": {
            "tags": []
          },
          "execution_count": 17
        }
      ]
    },
    {
      "cell_type": "markdown",
      "metadata": {
        "id": "UdgSXwfIsgJM"
      },
      "source": [
        "linalg = linear algebra"
      ]
    },
    {
      "cell_type": "markdown",
      "metadata": {
        "id": "gexwWrONtQ0C"
      },
      "source": [
        "matrix algebra เพิ่มเติม"
      ]
    },
    {
      "cell_type": "code",
      "metadata": {
        "colab": {
          "base_uri": "https://localhost:8080/",
          "height": 282
        },
        "id": "Mzkjx4X6royu",
        "outputId": "eaa17a2e-3109-4ddb-b2cc-0df63b2120b6"
      },
      "source": [
        "plt.plot([0,1],[0,1],\"-r\") ## vector [1,1]\r\n",
        "plt.plot(0,0,'ob')\r\n",
        "plt.plot([0,0],[-1,5],':m') \r\n",
        "plt.plot([-1.5,2.5],[0,0],'--g')"
      ],
      "execution_count": 23,
      "outputs": [
        {
          "output_type": "execute_result",
          "data": {
            "text/plain": [
              "[<matplotlib.lines.Line2D at 0x7f40190c91d0>]"
            ]
          },
          "metadata": {
            "tags": []
          },
          "execution_count": 23
        },
        {
          "output_type": "display_data",
          "data": {
            "image/png": "[encoded data removed]",
            "text/plain": [
              "<Figure size 432x288 with 1 Axes>"
            ]
          },
          "metadata": {
            "tags": [],
            "needs_background": "light"
          }
        }
      ]
    },
    {
      "cell_type": "code",
      "metadata": {
        "colab": {
          "base_uri": "https://localhost:8080/"
        },
        "id": "gogSVi9BtVDk",
        "outputId": "6bafb187-9c16-4025-8038-1f7d98b22750"
      },
      "source": [
        "B = np.array([[1,2,],[3,4]])\r\n",
        "B"
      ],
      "execution_count": 24,
      "outputs": [
        {
          "output_type": "execute_result",
          "data": {
            "text/plain": [
              "array([[1, 2],\n",
              "       [3, 4]])"
            ]
          },
          "metadata": {
            "tags": []
          },
          "execution_count": 24
        }
      ]
    },
    {
      "cell_type": "code",
      "metadata": {
        "id": "pgILvYpjmgKg",
        "colab": {
          "base_uri": "https://localhost:8080/"
        },
        "outputId": "8a2dcf14-67fb-4092-a779-131fae95e46a"
      },
      "source": [
        "Bv = np.dot(B,np.array([[1],[1]]))\r\n",
        "Bv"
      ],
      "execution_count": 26,
      "outputs": [
        {
          "output_type": "execute_result",
          "data": {
            "text/plain": [
              "array([[3],\n",
              "       [7]])"
            ]
          },
          "metadata": {
            "tags": []
          },
          "execution_count": 26
        }
      ]
    },
    {
      "cell_type": "markdown",
      "metadata": {
        "id": "6TOMF3CEv6Yw"
      },
      "source": [
        "การคูณ Matrix (  B.v ) คือการทำ linear transformation"
      ]
    },
    {
      "cell_type": "code",
      "metadata": {
        "colab": {
          "base_uri": "https://localhost:8080/",
          "height": 282
        },
        "id": "mRxp_6lWvACM",
        "outputId": "26805a3b-ff31-4b73-f7d6-99da285502bb"
      },
      "source": [
        "plt.plot([0,Bv[0,0]],[0,Bv[1,0]],\"-g\") ## vector [1,1]\r\n",
        "plt.plot([0,1],[0,1],\"-r\") ## vector [1,1]\r\n",
        "plt.plot(0,0,'ob')\r\n",
        "plt.plot([0,0],[-1,5],':m') \r\n",
        "plt.plot([-1.5,2.5],[0,0],'--g')"
      ],
      "execution_count": 30,
      "outputs": [
        {
          "output_type": "execute_result",
          "data": {
            "text/plain": [
              "[<matplotlib.lines.Line2D at 0x7f4018b91828>]"
            ]
          },
          "metadata": {
            "tags": []
          },
          "execution_count": 30
        },
        {
          "output_type": "display_data",
          "data": {
            "image/png": "[encoded data removed]",
            "text/plain": [
              "<Figure size 432x288 with 1 Axes>"
            ]
          },
          "metadata": {
            "tags": [],
            "needs_background": "light"
          }
        }
      ]
    },
    {
      "cell_type": "markdown",
      "metadata": {
        "id": "sEuQ4vbhvg4d"
      },
      "source": [
        "Determinant ของ Matrix $(Det(B))$ ก็คือ พื้นที่ของ Unit vector ที่ถูกเปลี่ยนไปโดย Matrix นั้นๆ"
      ]
    },
    {
      "cell_type": "code",
      "metadata": {
        "colab": {
          "base_uri": "https://localhost:8080/",
          "height": 282
        },
        "id": "nlrh7OMcvUsR",
        "outputId": "df0c84c4-feb6-46db-a657-9960f15b33ec"
      },
      "source": [
        "plt.plot([0,Bv[0,0]],[0,Bv[1,0]],\"-g\") ## vector Bv\r\n",
        "plt.plot([1,1],[1,0],\":r\") ## วาดจุดไข่ปลาพื้นที่ของ Bv\r\n",
        "plt.plot([0,1],[0,1],\"-r\") ## vector [1,1]\r\n",
        "plt.plot(0,0,'ob')\r\n",
        "plt.plot([0,0],[-1,5],':m') \r\n",
        "plt.plot([-1.5,2.5],[0,0],'--g')"
      ],
      "execution_count": 32,
      "outputs": [
        {
          "output_type": "execute_result",
          "data": {
            "text/plain": [
              "[<matplotlib.lines.Line2D at 0x7f4018b09748>]"
            ]
          },
          "metadata": {
            "tags": []
          },
          "execution_count": 32
        },
        {
          "output_type": "display_data",
          "data": {
            "image/png": "[encoded data removed]",
            "text/plain": [
              "<Figure size 432x288 with 1 Axes>"
            ]
          },
          "metadata": {
            "tags": [],
            "needs_background": "light"
          }
        }
      ]
    },
    {
      "cell_type": "code",
      "metadata": {
        "colab": {
          "base_uri": "https://localhost:8080/",
          "height": 282
        },
        "id": "612PmlvdyNnF",
        "outputId": "362a1b42-7371-4c42-e622-e7ed0a9674ff"
      },
      "source": [
        "plt.plot([0,Bv[0,0]],[0,Bv[1,0]],\"-g\") ## vector Bv\r\n",
        "plt.plot([1,0],[1,1],\":r\") ## วาดจุดไข่ปลาพื้นที่ของ Bv\r\n",
        "plt.plot([1,1],[1,0],\":r\") ## วาดจุดไข่ปลาพื้นที่ของ Bv\r\n",
        "plt.plot([0,1],[0,1],\"-r\") ## vector [1,1]\r\n",
        "plt.plot(0,0,'ob')\r\n",
        "plt.plot([0,0],[-1,5],':m') \r\n",
        "plt.plot([-1.5,2.5],[0,0],'--g')"
      ],
      "execution_count": 38,
      "outputs": [
        {
          "output_type": "execute_result",
          "data": {
            "text/plain": [
              "[<matplotlib.lines.Line2D at 0x7f4018870198>]"
            ]
          },
          "metadata": {
            "tags": []
          },
          "execution_count": 38
        },
        {
          "output_type": "display_data",
          "data": {
            "image/png": "[encoded data removed]",
            "text/plain": [
              "<Figure size 432x288 with 1 Axes>"
            ]
          },
          "metadata": {
            "tags": [],
            "needs_background": "light"
          }
        }
      ]
    },
    {
      "cell_type": "markdown",
      "metadata": {
        "id": "vv-c0Ktg0xLk"
      },
      "source": [
        "Determinant ของ Matrix $(Det(B))$ ก็คือ พื้นที่ของ Unit vector ที่ถูกเปลี่ยนไปโดย Matrix นั้นๆ"
      ]
    },
    {
      "cell_type": "code",
      "metadata": {
        "colab": {
          "base_uri": "https://localhost:8080/",
          "height": 282
        },
        "id": "WDNSXpuDycsW",
        "outputId": "bb729fa8-70c2-4583-8889-90c64960506e"
      },
      "source": [
        "plt.plot([0,Bv[0,0]],[0,Bv[1,0]],\"-g\") ## vector Bv\r\n",
        "plt.plot([3,3],[7,0],\":c\") ## วาดจุดไข่ปลาพื้นที่ของ Bv\r\n",
        "plt.plot([0,3],[7,7],\":c\") ## วาดจุดไข่ปลาพื้นที่ของ Bv\r\n",
        "plt.plot([1,0],[1,1],\":r\") ## วาดจุดไข่ปลาพื้นที่ของ v\r\n",
        "plt.plot([1,1],[1,0],\":r\") ## วาดจุดไข่ปลาพื้นที่ของ v\r\n",
        "plt.plot([0,1],[0,1],\"-r\") ## vector [1,1]\r\n",
        "plt.plot(0,0,'ob')\r\n",
        "plt.plot([0,0],[-1,8],':m') \r\n",
        "plt.plot([-1.5,3.5],[0,0],'--g')"
      ],
      "execution_count": 48,
      "outputs": [
        {
          "output_type": "execute_result",
          "data": {
            "text/plain": [
              "[<matplotlib.lines.Line2D at 0x7f401839a080>]"
            ]
          },
          "metadata": {
            "tags": []
          },
          "execution_count": 48
        },
        {
          "output_type": "display_data",
          "data": {
            "image/png": "[encoded data removed]",
            "text/plain": [
              "<Figure size 432x288 with 1 Axes>"
            ]
          },
          "metadata": {
            "tags": [],
            "needs_background": "light"
          }
        }
      ]
    },
    {
      "cell_type": "markdown",
      "metadata": {
        "id": "_evAQxZz1RFM"
      },
      "source": [
        "Identity Matrix ($I$) \r\n",
        "\r\n",
        "$BI$ = $B$ = $BI$"
      ]
    },
    {
      "cell_type": "code",
      "metadata": {
        "id": "2A6EYiPG15O8"
      },
      "source": [
        "iden2 = np.identity(2)"
      ],
      "execution_count": 49,
      "outputs": []
    },
    {
      "cell_type": "code",
      "metadata": {
        "colab": {
          "base_uri": "https://localhost:8080/"
        },
        "id": "zEiCqNC-2Llq",
        "outputId": "a6128507-c81c-4593-f47f-af30c3660342"
      },
      "source": [
        "B"
      ],
      "execution_count": 50,
      "outputs": [
        {
          "output_type": "execute_result",
          "data": {
            "text/plain": [
              "array([[1, 2],\n",
              "       [3, 4]])"
            ]
          },
          "metadata": {
            "tags": []
          },
          "execution_count": 50
        }
      ]
    },
    {
      "cell_type": "code",
      "metadata": {
        "colab": {
          "base_uri": "https://localhost:8080/"
        },
        "id": "b4JZnuzlzJ0I",
        "outputId": "68065849-3589-41d7-b30e-b0f488f10f6c"
      },
      "source": [
        "np.dot(B,iden2)"
      ],
      "execution_count": 51,
      "outputs": [
        {
          "output_type": "execute_result",
          "data": {
            "text/plain": [
              "array([[1., 2.],\n",
              "       [3., 4.]])"
            ]
          },
          "metadata": {
            "tags": []
          },
          "execution_count": 51
        }
      ]
    },
    {
      "cell_type": "code",
      "metadata": {
        "colab": {
          "base_uri": "https://localhost:8080/"
        },
        "id": "vs823ckH2QXs",
        "outputId": "c1817c51-cff1-4253-94df-e023cecfd26b"
      },
      "source": [
        "np.dot(iden2,B)"
      ],
      "execution_count": 52,
      "outputs": [
        {
          "output_type": "execute_result",
          "data": {
            "text/plain": [
              "array([[1., 2.],\n",
              "       [3., 4.]])"
            ]
          },
          "metadata": {
            "tags": []
          },
          "execution_count": 52
        }
      ]
    },
    {
      "cell_type": "code",
      "metadata": {
        "colab": {
          "base_uri": "https://localhost:8080/"
        },
        "id": "1dx8oC-V2cG6",
        "outputId": "d0aa28ed-5cca-4217-b49c-97a3ed7af8b0"
      },
      "source": [
        "C = np.array([[-1,2],[2,4]])\r\n",
        "C"
      ],
      "execution_count": 54,
      "outputs": [
        {
          "output_type": "execute_result",
          "data": {
            "text/plain": [
              "array([[-1,  2],\n",
              "       [ 2,  4]])"
            ]
          },
          "metadata": {
            "tags": []
          },
          "execution_count": 54
        }
      ]
    },
    {
      "cell_type": "code",
      "metadata": {
        "colab": {
          "base_uri": "https://localhost:8080/"
        },
        "id": "5N75nWfH2k_8",
        "outputId": "2f93a68a-f08b-4ed6-f651-880eb5b95dd2"
      },
      "source": [
        "np.dot(C,B)"
      ],
      "execution_count": 55,
      "outputs": [
        {
          "output_type": "execute_result",
          "data": {
            "text/plain": [
              "array([[ 5,  6],\n",
              "       [14, 20]])"
            ]
          },
          "metadata": {
            "tags": []
          },
          "execution_count": 55
        }
      ]
    },
    {
      "cell_type": "code",
      "metadata": {
        "colab": {
          "base_uri": "https://localhost:8080/"
        },
        "id": "ro93TO3T2sFp",
        "outputId": "68d5f0f0-9441-4a0c-e422-72ddfd4920f8"
      },
      "source": [
        "np.dot(B,C)"
      ],
      "execution_count": 56,
      "outputs": [
        {
          "output_type": "execute_result",
          "data": {
            "text/plain": [
              "array([[ 3, 10],\n",
              "       [ 5, 22]])"
            ]
          },
          "metadata": {
            "tags": []
          },
          "execution_count": 56
        }
      ]
    },
    {
      "cell_type": "markdown",
      "metadata": {
        "id": "j10s7d9p4fhA"
      },
      "source": [
        "## QUIZ 1 feb 21"
      ]
    },
    {
      "cell_type": "code",
      "metadata": {
        "colab": {
          "base_uri": "https://localhost:8080/"
        },
        "id": "Hgd1EXba2uaR",
        "outputId": "9ba8c042-af46-4adc-9c83-b3607640a3be"
      },
      "source": [
        "D = np.array([[3,1,6],[7,4,5],[2,-7,1]])\r\n",
        "D"
      ],
      "execution_count": 57,
      "outputs": [
        {
          "output_type": "execute_result",
          "data": {
            "text/plain": [
              "array([[ 3,  1,  6],\n",
              "       [ 7,  4,  5],\n",
              "       [ 2, -7,  1]])"
            ]
          },
          "metadata": {
            "tags": []
          },
          "execution_count": 57
        }
      ]
    },
    {
      "cell_type": "code",
      "metadata": {
        "colab": {
          "base_uri": "https://localhost:8080/"
        },
        "id": "BnswioKu3mwd",
        "outputId": "d853635d-1dbb-4aea-e7df-42427d483b9f"
      },
      "source": [
        "np.linalg.det(D)"
      ],
      "execution_count": 58,
      "outputs": [
        {
          "output_type": "execute_result",
          "data": {
            "text/plain": [
              "-221.99999999999997"
            ]
          },
          "metadata": {
            "tags": []
          },
          "execution_count": 58
        }
      ]
    },
    {
      "cell_type": "markdown",
      "metadata": {
        "id": "TEh8WS7o6wOF"
      },
      "source": [
        "## Eigen value กับ Eigen vector\r\n",
        "\r\n",
        "Eigen value -> ($\\lambda$) -> $A-\\lambda I = 0$  \r\n",
        "\r\n",
        "Eigen vector ($x$) -> $Ax -> \\lambda x$"
      ]
    },
    {
      "cell_type": "markdown",
      "metadata": {
        "id": "o3jORIMP9neo"
      },
      "source": [
        "## HW 5 \r\n",
        "หา Eigen value กับ Eigen vector ของเมทริกซ์นี้\r\n",
        "\r\n",
        "![image.png](data:image/png;base64,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)"
      ]
    },
    {
      "cell_type": "code",
      "metadata": {
        "id": "_sRi25Xw3wNw"
      },
      "source": [
        ""
      ],
      "execution_count": null,
      "outputs": []
    }
  ]
}