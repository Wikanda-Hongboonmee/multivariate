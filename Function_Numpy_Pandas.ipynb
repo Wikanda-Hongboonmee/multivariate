{
  "nbformat": 4,
  "nbformat_minor": 0,
  "metadata": {
    "colab": {
      "name": "Function_Numpy_Pandas.ipynb",
      "provenance": [],
      "authorship_tag": "ABX9TyMKJlXvFO0txFjRDHT+OxjE",
      "include_colab_link": true
    },
    "kernelspec": {
      "name": "python3",
      "display_name": "Python 3"
    }
  },
  "cells": [
    {
      "cell_type": "markdown",
      "metadata": {
        "id": "view-in-github",
        "colab_type": "text"
      },
      "source": [
        "<a href=\"https://colab.research.google.com/github/Wikanda-Hongboonmee/multivariate/blob/main/Function_Numpy_Pandas.ipynb\" target=\"_parent\"><img src=\"https://colab.research.google.com/assets/colab-badge.svg\" alt=\"Open In Colab\"/></a>"
      ]
    },
    {
      "cell_type": "markdown",
      "metadata": {
        "id": "y84a8HhSSL_G"
      },
      "source": [
        "## Function"
      ]
    },
    {
      "cell_type": "markdown",
      "metadata": {
        "id": "4N7YR98lSP3T"
      },
      "source": [
        "การเขียน Function ในนี้\r\n",
        "\r\n",
        "def function_name (_Input_) :\r\n",
        "\r\n",
        "       do_something with _Input_ to produce _output_\r\n",
        "\r\n",
        "       return _output_"
      ]
    },
    {
      "cell_type": "markdown",
      "metadata": {
        "id": "tWlJienlTk3d"
      },
      "source": [
        "Function มีส่วนประกอบสำคัญ 4 ส่วน คือ\r\n",
        "\r\n",
        "          1. บอก Python ว่าเราจะเขียนฟังก์ชันชื่ออะไร (ขาดไม่ได้)\r\n",
        "\r\n",
        "          2. กำหนดตัวแปรที่จะเป็น input (ขาดได้)\r\n",
        "\r\n",
        "          3. ส่วนประมวลผล do_something with Input to get Output (ขาดไม่ได้)\r\n",
        "\r\n",
        "          4. ส่วน output return (ขาดได้)"
      ]
    },
    {
      "cell_type": "code",
      "metadata": {
        "id": "80eOi8DMSBP_"
      },
      "source": [
        "def print_name (name,surname,ID) :  #เราจะใช้เว้นวรรคในการบอกขอบเขตของ code\r\n",
        "    st = f\"ชื่อ {name} นามสกุล {surname} ID {ID}\"\r\n",
        "    return st"
      ],
      "execution_count": null,
      "outputs": []
    },
    {
      "cell_type": "markdown",
      "metadata": {
        "id": "5aKf3iNqWyCo"
      },
      "source": [
        "การเรียกใช้ฟังก์ชัน\r\n"
      ]
    },
    {
      "cell_type": "code",
      "metadata": {
        "colab": {
          "base_uri": "https://localhost:8080/",
          "height": 35
        },
        "id": "e4y7BHAlVEgf",
        "outputId": "442d09f8-0616-4ae0-821d-5fb93c80ea03"
      },
      "source": [
        "print_name (\"วิกานดา\" , \"หงษ์บุญมี\" ,\"623020764-2\")"
      ],
      "execution_count": null,
      "outputs": [
        {
          "output_type": "execute_result",
          "data": {
            "application/vnd.google.colaboratory.intrinsic+json": {
              "type": "string"
            },
            "text/plain": [
              "'ชื่อ วิกานดา นามสกุล หงษ์บุญมี ID 623020764-2'"
            ]
          },
          "metadata": {
            "tags": []
          },
          "execution_count": 6
        }
      ]
    },
    {
      "cell_type": "code",
      "metadata": {
        "colab": {
          "base_uri": "https://localhost:8080/"
        },
        "id": "H1iIhIrwVh8h",
        "outputId": "eb7612c1-67ee-4144-c3b2-0359638e758f"
      },
      "source": [
        "output_string = print_name (\"วิกานดา\" , \"หงษ์บุญมี\" ,\"623020764-2\")\r\n",
        "print (output_string)"
      ],
      "execution_count": null,
      "outputs": [
        {
          "output_type": "stream",
          "text": [
            "ชื่อ วิกานดา นามสกุล หงษ์บุญมี ID 623020764-2\n"
          ],
          "name": "stdout"
        }
      ]
    },
    {
      "cell_type": "code",
      "metadata": {
        "id": "HL-cERtJXLDo"
      },
      "source": [
        "#ฟังก์ชันไม่จำเป็นต้องมี output"
      ],
      "execution_count": null,
      "outputs": []
    },
    {
      "cell_type": "code",
      "metadata": {
        "id": "EYRIlR9VXclN"
      },
      "source": [
        "def print_name2 (surname,ID,name) :  #เราจะใช้เว้นวรรคในการบอกขอบเขตของ code\r\n",
        "    st = f\"ชื่อ {name} นามสกุล {surname} รหัส {ID}\"\r\n",
        "    print(st)"
      ],
      "execution_count": null,
      "outputs": []
    },
    {
      "cell_type": "code",
      "metadata": {
        "colab": {
          "base_uri": "https://localhost:8080/"
        },
        "id": "oww38DKpX0Qe",
        "outputId": "185816a6-7964-4fd4-c822-273493241fb8"
      },
      "source": [
        "op2 = print_name2 (\"วิกานดา\" , \"หงษ์บุญมี\" ,\"623020764-2\")"
      ],
      "execution_count": null,
      "outputs": [
        {
          "output_type": "stream",
          "text": [
            "ชื่อ 623020764-2 นามสกุล วิกานดา รหัส หงษ์บุญมี\n"
          ],
          "name": "stdout"
        }
      ]
    },
    {
      "cell_type": "code",
      "metadata": {
        "colab": {
          "base_uri": "https://localhost:8080/"
        },
        "id": "BfCA1eORX9It",
        "outputId": "f9309660-af35-4a91-c051-81b645f850fd"
      },
      "source": [
        "print (op2)"
      ],
      "execution_count": null,
      "outputs": [
        {
          "output_type": "stream",
          "text": [
            "None\n"
          ],
          "name": "stdout"
        }
      ]
    },
    {
      "cell_type": "markdown",
      "metadata": {
        "id": "2Qn3QrDWZDgH"
      },
      "source": [
        "ฟังก์ชันไม่จำเป็นต้องมี input"
      ]
    },
    {
      "cell_type": "code",
      "metadata": {
        "id": "gsR7HnNdYCg8"
      },
      "source": [
        "def Pi() :\r\n",
        "    return 3.14159265359"
      ],
      "execution_count": null,
      "outputs": []
    },
    {
      "cell_type": "code",
      "metadata": {
        "colab": {
          "base_uri": "https://localhost:8080/"
        },
        "id": "TSf9xwWnZMeZ",
        "outputId": "d8fabfd9-959f-4330-a3b2-d9a816ab64ea"
      },
      "source": [
        "#คำนวณพื้นที่วงกลมที่เส้นผ่านศูนย์กลางเท่ากับ 3\r\n",
        "Pi() * (1.5**2) # ** คือยกกำลังสอง"
      ],
      "execution_count": null,
      "outputs": [
        {
          "output_type": "execute_result",
          "data": {
            "text/plain": [
              "7.0685834705775"
            ]
          },
          "metadata": {
            "tags": []
          },
          "execution_count": 22
        }
      ]
    },
    {
      "cell_type": "code",
      "metadata": {
        "id": "MZD92yKOZlDx"
      },
      "source": [
        "def print_my_name () :\r\n",
        "      print (\"วิกานดา หงษ์บุญมี ID 623020764-2\")"
      ],
      "execution_count": null,
      "outputs": []
    },
    {
      "cell_type": "code",
      "metadata": {
        "colab": {
          "base_uri": "https://localhost:8080/"
        },
        "id": "R1P2xXtsZ01l",
        "outputId": "c7115ca6-2023-4126-a30c-7ef37094f450"
      },
      "source": [
        "print_my_name ()"
      ],
      "execution_count": null,
      "outputs": [
        {
          "output_type": "stream",
          "text": [
            "วิกานดา หงษ์บุญมี ID 623020764-2\n"
          ],
          "name": "stdout"
        }
      ]
    },
    {
      "cell_type": "markdown",
      "metadata": {
        "id": "ihD3ef6UaGf_"
      },
      "source": [
        "input ของฟังก์ชันใน python มี2แบบ  input ที่จำเป็นต้องใส่ กับ input ที่ไม่จำเป็นต้องใส่ (มีค่า default) จะต้องเรียง input ที่จำเป็นต้องใส่ขึ้นก่อน\r\n"
      ]
    },
    {
      "cell_type": "code",
      "metadata": {
        "id": "9lYr5NlWZ4cl"
      },
      "source": [
        "def print_2lines_default (name, surname, ID , grade =\"F\") :\r\n",
        "      st = f' ชื่อ {name} นามสกุล {surname} รหัส {ID} '\r\n",
        "      print (st)\r\n",
        "      st2 = f'เกรดวิชา Multivariate >>> {grade}'\r\n",
        "      print (st2)"
      ],
      "execution_count": null,
      "outputs": []
    },
    {
      "cell_type": "code",
      "metadata": {
        "colab": {
          "base_uri": "https://localhost:8080/"
        },
        "id": "rBsYdKHDchXp",
        "outputId": "fa43a68a-edf2-4f8c-94a4-ef3494a08d00"
      },
      "source": [
        "print_2lines_default (\"วิกานดา\",\"หงษ์บุญมี\",\"623020764-2\")"
      ],
      "execution_count": null,
      "outputs": [
        {
          "output_type": "stream",
          "text": [
            " ชื่อ วิกานดา นามสกุล หงษ์บุญมี รหัส 623020764-2 \n",
            "เกรดวิชา Multivariate >>> F\n"
          ],
          "name": "stdout"
        }
      ]
    },
    {
      "cell_type": "code",
      "metadata": {
        "colab": {
          "base_uri": "https://localhost:8080/"
        },
        "id": "aCQzH8YcbcVG",
        "outputId": "8b31f6d7-55bf-42e7-f32d-565a45681700"
      },
      "source": [
        "print_2lines_default (\"วิกานดา\",\"หงษ์บุญมี\",\"623020764-2\",\"A\")"
      ],
      "execution_count": null,
      "outputs": [
        {
          "output_type": "stream",
          "text": [
            " ชื่อ วิกานดา นามสกุล หงษ์บุญมี รหัส 623020764-2 \n",
            "เกรดวิชา Multivariate >>> A\n"
          ],
          "name": "stdout"
        }
      ]
    },
    {
      "cell_type": "markdown",
      "metadata": {
        "id": "n3rqLsWVcA7T"
      },
      "source": [
        "เราสามารถเรียกฟังก์ชันโดยใช้ชื่อตัวแปรของฟังก์ชันช่วยได้ "
      ]
    },
    {
      "cell_type": "code",
      "metadata": {
        "colab": {
          "base_uri": "https://localhost:8080/"
        },
        "id": "-dNqBPnmbtXv",
        "outputId": "e87ca968-025e-4bdf-eb11-edd46bf14b52"
      },
      "source": [
        "print_name2 (name = \"วิกานดา\" , surname = \"หงษ์บุญมี\" , ID = \"623020764-2\")"
      ],
      "execution_count": null,
      "outputs": [
        {
          "output_type": "stream",
          "text": [
            "ชื่อ วิกานดา นามสกุล หงษ์บุญมี รหัส 623020764-2\n"
          ],
          "name": "stdout"
        }
      ]
    },
    {
      "cell_type": "markdown",
      "metadata": {
        "id": "-_gReOiXcmoY"
      },
      "source": [
        "# HW 3  ให้เขียน Function คำนวณจำนวนวินาทีจาก เวลา ต่อไปนี้\r\n",
        " \r\n",
        " \r\n",
        "'14-15-31'\r\n",
        "\r\n",
        "'13-00-01'\r\n",
        "\r\n",
        "'05-49-44'\r\n",
        "\r\n",
        "'00-00-16'\r\n",
        "\r\n",
        "และ print ให้สวยงาม"
      ]
    },
    {
      "cell_type": "code",
      "metadata": {
        "id": "YzCkpDGFcTQk"
      },
      "source": [
        "def times (times) :\r\n",
        "      times_sp = times.split('-')\r\n",
        "      total = int(times_sp[0])*3600 + int(times_sp[1])*60 + int(times_sp[2])\r\n",
        "      st = f' เวลา {times} น. สามารถคำนวณเป็นวินาทีได้เท่ากับ {total} วินาที'\r\n",
        "      print (st)"
      ],
      "execution_count": 7,
      "outputs": []
    },
    {
      "cell_type": "code",
      "metadata": {
        "id": "hwImIiK9QOUs",
        "outputId": "bfc4df0e-0e64-4c41-a919-9be3aed05ae0",
        "colab": {
          "base_uri": "https://localhost:8080/"
        }
      },
      "source": [
        "times ('14-15-31')"
      ],
      "execution_count": 9,
      "outputs": [
        {
          "output_type": "stream",
          "text": [
            " เวลา 14-15-31 น. สามารถคำนวณเป็นวินาทีได้เท่ากับ 51331 วินาที\n"
          ],
          "name": "stdout"
        }
      ]
    },
    {
      "cell_type": "code",
      "metadata": {
        "id": "Jrdy97NqRBiV",
        "outputId": "2c647491-3c44-4282-bab8-b198b1b22ff7",
        "colab": {
          "base_uri": "https://localhost:8080/"
        }
      },
      "source": [
        "times ('13-00-01')"
      ],
      "execution_count": 10,
      "outputs": [
        {
          "output_type": "stream",
          "text": [
            " เวลา 13-00-01 น. สามารถคำนวณเป็นวินาทีได้เท่ากับ 46801 วินาที\n"
          ],
          "name": "stdout"
        }
      ]
    },
    {
      "cell_type": "code",
      "metadata": {
        "id": "ibNTOmGHRJNk",
        "outputId": "17eb017c-701f-492f-c34b-34634f5f4572",
        "colab": {
          "base_uri": "https://localhost:8080/"
        }
      },
      "source": [
        "times ('05-49-44')"
      ],
      "execution_count": 11,
      "outputs": [
        {
          "output_type": "stream",
          "text": [
            " เวลา 05-49-44 น. สามารถคำนวณเป็นวินาทีได้เท่ากับ 20984 วินาที\n"
          ],
          "name": "stdout"
        }
      ]
    },
    {
      "cell_type": "code",
      "metadata": {
        "id": "aR2W9h18RPYb",
        "outputId": "cc69eee6-8944-4e5b-c44f-324df1fb88eb",
        "colab": {
          "base_uri": "https://localhost:8080/"
        }
      },
      "source": [
        "times ('00-00-16')"
      ],
      "execution_count": 12,
      "outputs": [
        {
          "output_type": "stream",
          "text": [
            " เวลา 00-00-16 น. สามารถคำนวณเป็นวินาทีได้เท่ากับ 16 วินาที\n"
          ],
          "name": "stdout"
        }
      ]
    },
    {
      "cell_type": "code",
      "metadata": {
        "id": "NDJQL7fNRVo-"
      },
      "source": [
        ""
      ],
      "execution_count": null,
      "outputs": []
    }
  ]
}