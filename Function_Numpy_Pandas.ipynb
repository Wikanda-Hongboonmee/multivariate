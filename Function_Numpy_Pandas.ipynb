{
  "nbformat": 4,
  "nbformat_minor": 0,
  "metadata": {
    "colab": {
      "name": "Function_Numpy_Pandas.ipynb",
      "provenance": [],
      "authorship_tag": "ABX9TyPvFnVhOmtH2rfyMlTzqhsK",
      "include_colab_link": true
    },
    "kernelspec": {
      "name": "python3",
      "display_name": "Python 3"
    }
  },
  "cells": [
    {
      "cell_type": "markdown",
      "metadata": {
        "id": "view-in-github",
        "colab_type": "text"
      },
      "source": [
        "<a href=\"https://colab.research.google.com/github/Wikanda-Hongboonmee/multivariate/blob/main/Function_Numpy_Pandas.ipynb\" target=\"_parent\"><img src=\"https://colab.research.google.com/assets/colab-badge.svg\" alt=\"Open In Colab\"/></a>"
      ]
    },
    {
      "cell_type": "markdown",
      "metadata": {
        "id": "y84a8HhSSL_G"
      },
      "source": [
        "## Function"
      ]
    },
    {
      "cell_type": "markdown",
      "metadata": {
        "id": "4N7YR98lSP3T"
      },
      "source": [
        "การเขียน Function ในนี้\r\n",
        "\r\n",
        "def function_name (_Input_) :\r\n",
        "\r\n",
        "       do_something with _Input_ to produce _output_\r\n",
        "\r\n",
        "       return _output_"
      ]
    },
    {
      "cell_type": "markdown",
      "metadata": {
        "id": "tWlJienlTk3d"
      },
      "source": [
        "Function มีส่วนประกอบสำคัญ 4 ส่วน คือ\r\n",
        "\r\n",
        "          1. บอก Python ว่าเราจะเขียนฟังก์ชันชื่ออะไร (ขาดไม่ได้)\r\n",
        "\r\n",
        "          2. กำหนดตัวแปรที่จะเป็น input (ขาดได้)\r\n",
        "\r\n",
        "          3. ส่วนประมวลผล do_something with Input to get Output (ขาดไม่ได้)\r\n",
        "\r\n",
        "          4. ส่วน output return (ขาดได้)"
      ]
    },
    {
      "cell_type": "code",
      "metadata": {
        "id": "80eOi8DMSBP_"
      },
      "source": [
        "def print_name (name,surname,ID) :  #เราจะใช้เว้นวรรคในการบอกขอบเขตของ code\r\n",
        "    st = f\"ชื่อ {name} นามสกุล {surname} ID {ID}\"\r\n",
        "    return st"
      ],
      "execution_count": null,
      "outputs": []
    },
    {
      "cell_type": "markdown",
      "metadata": {
        "id": "5aKf3iNqWyCo"
      },
      "source": [
        "การเรียกใช้ฟังก์ชัน\r\n"
      ]
    },
    {
      "cell_type": "code",
      "metadata": {
        "colab": {
          "base_uri": "https://localhost:8080/",
          "height": 35
        },
        "id": "e4y7BHAlVEgf",
        "outputId": "442d09f8-0616-4ae0-821d-5fb93c80ea03"
      },
      "source": [
        "print_name (\"วิกานดา\" , \"หงษ์บุญมี\" ,\"623020764-2\")"
      ],
      "execution_count": null,
      "outputs": [
        {
          "output_type": "execute_result",
          "data": {
            "application/vnd.google.colaboratory.intrinsic+json": {
              "type": "string"
            },
            "text/plain": [
              "'ชื่อ วิกานดา นามสกุล หงษ์บุญมี ID 623020764-2'"
            ]
          },
          "metadata": {
            "tags": []
          },
          "execution_count": 6
        }
      ]
    },
    {
      "cell_type": "code",
      "metadata": {
        "colab": {
          "base_uri": "https://localhost:8080/"
        },
        "id": "H1iIhIrwVh8h",
        "outputId": "eb7612c1-67ee-4144-c3b2-0359638e758f"
      },
      "source": [
        "output_string = print_name (\"วิกานดา\" , \"หงษ์บุญมี\" ,\"623020764-2\")\r\n",
        "print (output_string)"
      ],
      "execution_count": null,
      "outputs": [
        {
          "output_type": "stream",
          "text": [
            "ชื่อ วิกานดา นามสกุล หงษ์บุญมี ID 623020764-2\n"
          ],
          "name": "stdout"
        }
      ]
    },
    {
      "cell_type": "code",
      "metadata": {
        "id": "HL-cERtJXLDo"
      },
      "source": [
        "#ฟังก์ชันไม่จำเป็นต้องมี output"
      ],
      "execution_count": null,
      "outputs": []
    },
    {
      "cell_type": "code",
      "metadata": {
        "id": "EYRIlR9VXclN"
      },
      "source": [
        "def print_name2 (surname,ID,name) :  #เราจะใช้เว้นวรรคในการบอกขอบเขตของ code\r\n",
        "    st = f\"ชื่อ {name} นามสกุล {surname} รหัส {ID}\"\r\n",
        "    print(st)"
      ],
      "execution_count": null,
      "outputs": []
    },
    {
      "cell_type": "code",
      "metadata": {
        "colab": {
          "base_uri": "https://localhost:8080/"
        },
        "id": "oww38DKpX0Qe",
        "outputId": "185816a6-7964-4fd4-c822-273493241fb8"
      },
      "source": [
        "op2 = print_name2 (\"วิกานดา\" , \"หงษ์บุญมี\" ,\"623020764-2\")"
      ],
      "execution_count": null,
      "outputs": [
        {
          "output_type": "stream",
          "text": [
            "ชื่อ 623020764-2 นามสกุล วิกานดา รหัส หงษ์บุญมี\n"
          ],
          "name": "stdout"
        }
      ]
    },
    {
      "cell_type": "code",
      "metadata": {
        "colab": {
          "base_uri": "https://localhost:8080/"
        },
        "id": "BfCA1eORX9It",
        "outputId": "f9309660-af35-4a91-c051-81b645f850fd"
      },
      "source": [
        "print (op2)"
      ],
      "execution_count": null,
      "outputs": [
        {
          "output_type": "stream",
          "text": [
            "None\n"
          ],
          "name": "stdout"
        }
      ]
    },
    {
      "cell_type": "markdown",
      "metadata": {
        "id": "2Qn3QrDWZDgH"
      },
      "source": [
        "ฟังก์ชันไม่จำเป็นต้องมี input"
      ]
    },
    {
      "cell_type": "code",
      "metadata": {
        "id": "gsR7HnNdYCg8"
      },
      "source": [
        "def Pi() :\r\n",
        "    return 3.14159265359"
      ],
      "execution_count": null,
      "outputs": []
    },
    {
      "cell_type": "code",
      "metadata": {
        "colab": {
          "base_uri": "https://localhost:8080/"
        },
        "id": "TSf9xwWnZMeZ",
        "outputId": "d8fabfd9-959f-4330-a3b2-d9a816ab64ea"
      },
      "source": [
        "#คำนวณพื้นที่วงกลมที่เส้นผ่านศูนย์กลางเท่ากับ 3\r\n",
        "Pi() * (1.5**2) # ** คือยกกำลังสอง"
      ],
      "execution_count": null,
      "outputs": [
        {
          "output_type": "execute_result",
          "data": {
            "text/plain": [
              "7.0685834705775"
            ]
          },
          "metadata": {
            "tags": []
          },
          "execution_count": 22
        }
      ]
    },
    {
      "cell_type": "code",
      "metadata": {
        "id": "MZD92yKOZlDx"
      },
      "source": [
        "def print_my_name () :\r\n",
        "      print (\"วิกานดา หงษ์บุญมี ID 623020764-2\")"
      ],
      "execution_count": null,
      "outputs": []
    },
    {
      "cell_type": "code",
      "metadata": {
        "colab": {
          "base_uri": "https://localhost:8080/"
        },
        "id": "R1P2xXtsZ01l",
        "outputId": "c7115ca6-2023-4126-a30c-7ef37094f450"
      },
      "source": [
        "print_my_name ()"
      ],
      "execution_count": null,
      "outputs": [
        {
          "output_type": "stream",
          "text": [
            "วิกานดา หงษ์บุญมี ID 623020764-2\n"
          ],
          "name": "stdout"
        }
      ]
    },
    {
      "cell_type": "markdown",
      "metadata": {
        "id": "ihD3ef6UaGf_"
      },
      "source": [
        "input ของฟังก์ชันใน python มี2แบบ  input ที่จำเป็นต้องใส่ กับ input ที่ไม่จำเป็นต้องใส่ (มีค่า default) จะต้องเรียง input ที่จำเป็นต้องใส่ขึ้นก่อน\r\n"
      ]
    },
    {
      "cell_type": "code",
      "metadata": {
        "id": "9lYr5NlWZ4cl"
      },
      "source": [
        "def print_2lines_default (name, surname, ID , grade =\"F\") :\r\n",
        "      st = f' ชื่อ {name} นามสกุล {surname} รหัส {ID} '\r\n",
        "      print (st)\r\n",
        "      st2 = f'เกรดวิชา Multivariate >>> {grade}'\r\n",
        "      print (st2)"
      ],
      "execution_count": null,
      "outputs": []
    },
    {
      "cell_type": "code",
      "metadata": {
        "colab": {
          "base_uri": "https://localhost:8080/"
        },
        "id": "rBsYdKHDchXp",
        "outputId": "fa43a68a-edf2-4f8c-94a4-ef3494a08d00"
      },
      "source": [
        "print_2lines_default (\"วิกานดา\",\"หงษ์บุญมี\",\"623020764-2\")"
      ],
      "execution_count": null,
      "outputs": [
        {
          "output_type": "stream",
          "text": [
            " ชื่อ วิกานดา นามสกุล หงษ์บุญมี รหัส 623020764-2 \n",
            "เกรดวิชา Multivariate >>> F\n"
          ],
          "name": "stdout"
        }
      ]
    },
    {
      "cell_type": "code",
      "metadata": {
        "colab": {
          "base_uri": "https://localhost:8080/"
        },
        "id": "aCQzH8YcbcVG",
        "outputId": "8b31f6d7-55bf-42e7-f32d-565a45681700"
      },
      "source": [
        "print_2lines_default (\"วิกานดา\",\"หงษ์บุญมี\",\"623020764-2\",\"A\")"
      ],
      "execution_count": null,
      "outputs": [
        {
          "output_type": "stream",
          "text": [
            " ชื่อ วิกานดา นามสกุล หงษ์บุญมี รหัส 623020764-2 \n",
            "เกรดวิชา Multivariate >>> A\n"
          ],
          "name": "stdout"
        }
      ]
    },
    {
      "cell_type": "markdown",
      "metadata": {
        "id": "n3rqLsWVcA7T"
      },
      "source": [
        "เราสามารถเรียกฟังก์ชันโดยใช้ชื่อตัวแปรของฟังก์ชันช่วยได้ "
      ]
    },
    {
      "cell_type": "code",
      "metadata": {
        "colab": {
          "base_uri": "https://localhost:8080/"
        },
        "id": "-dNqBPnmbtXv",
        "outputId": "e87ca968-025e-4bdf-eb11-edd46bf14b52"
      },
      "source": [
        "print_name2 (name = \"วิกานดา\" , surname = \"หงษ์บุญมี\" , ID = \"623020764-2\")"
      ],
      "execution_count": null,
      "outputs": [
        {
          "output_type": "stream",
          "text": [
            "ชื่อ วิกานดา นามสกุล หงษ์บุญมี รหัส 623020764-2\n"
          ],
          "name": "stdout"
        }
      ]
    },
    {
      "cell_type": "markdown",
      "metadata": {
        "id": "-_gReOiXcmoY"
      },
      "source": [
        "# HW 3  ให้เขียน Function คำนวณจำนวนวินาทีจาก เวลา ต่อไปนี้\r\n",
        " \r\n",
        " \r\n",
        "'14-15-31'\r\n",
        "\r\n",
        "'13-00-01'\r\n",
        "\r\n",
        "'05-49-44'\r\n",
        "\r\n",
        "'00-00-16'\r\n",
        "\r\n",
        "และ print ให้สวยงาม"
      ]
    },
    {
      "cell_type": "code",
      "metadata": {
        "id": "YzCkpDGFcTQk"
      },
      "source": [
        "def times (times) :\r\n",
        "      times_sp = times.split('-')\r\n",
        "      total = int(times_sp[0])*3600 + int(times_sp[1])*60 + int(times_sp[2])\r\n",
        "      st = f' เวลา {times} น. สามารถคำนวณเป็นวินาทีได้เท่ากับ {total} วินาที'\r\n",
        "      print (st)"
      ],
      "execution_count": null,
      "outputs": []
    },
    {
      "cell_type": "code",
      "metadata": {
        "id": "hwImIiK9QOUs",
        "colab": {
          "base_uri": "https://localhost:8080/"
        },
        "outputId": "bfc4df0e-0e64-4c41-a919-9be3aed05ae0"
      },
      "source": [
        "times ('14-15-31')"
      ],
      "execution_count": null,
      "outputs": [
        {
          "output_type": "stream",
          "text": [
            " เวลา 14-15-31 น. สามารถคำนวณเป็นวินาทีได้เท่ากับ 51331 วินาที\n"
          ],
          "name": "stdout"
        }
      ]
    },
    {
      "cell_type": "code",
      "metadata": {
        "id": "Jrdy97NqRBiV",
        "colab": {
          "base_uri": "https://localhost:8080/"
        },
        "outputId": "2c647491-3c44-4282-bab8-b198b1b22ff7"
      },
      "source": [
        "times ('13-00-01')"
      ],
      "execution_count": null,
      "outputs": [
        {
          "output_type": "stream",
          "text": [
            " เวลา 13-00-01 น. สามารถคำนวณเป็นวินาทีได้เท่ากับ 46801 วินาที\n"
          ],
          "name": "stdout"
        }
      ]
    },
    {
      "cell_type": "code",
      "metadata": {
        "id": "ibNTOmGHRJNk",
        "colab": {
          "base_uri": "https://localhost:8080/"
        },
        "outputId": "17eb017c-701f-492f-c34b-34634f5f4572"
      },
      "source": [
        "times ('05-49-44')"
      ],
      "execution_count": null,
      "outputs": [
        {
          "output_type": "stream",
          "text": [
            " เวลา 05-49-44 น. สามารถคำนวณเป็นวินาทีได้เท่ากับ 20984 วินาที\n"
          ],
          "name": "stdout"
        }
      ]
    },
    {
      "cell_type": "code",
      "metadata": {
        "id": "aR2W9h18RPYb",
        "colab": {
          "base_uri": "https://localhost:8080/"
        },
        "outputId": "cc69eee6-8944-4e5b-c44f-324df1fb88eb"
      },
      "source": [
        "times ('00-00-16')"
      ],
      "execution_count": null,
      "outputs": [
        {
          "output_type": "stream",
          "text": [
            " เวลา 00-00-16 น. สามารถคำนวณเป็นวินาทีได้เท่ากับ 16 วินาที\n"
          ],
          "name": "stdout"
        }
      ]
    },
    {
      "cell_type": "markdown",
      "metadata": {
        "id": "VBkqu8m0QLmB"
      },
      "source": [
        "Numpy -> package สำหรับจัดการกับ Array ที่เป็นตัวเลข (Matrix)\r\n",
        "\r\n",
        "ย่อมาจาก Number - Numerical + py - python \r\n",
        "\r\n",
        "ขั้นตอนการใช้งาน package\r\n",
        "\r\n",
        "1.``` import``` ```ชื่อ package ``` #เรียกใช้ package\r\n",
        "\r\n",
        "2.```ชื่อ package```.```ชื่อฟังก์ชัน```# เรียกใช้ function \r\n"
      ]
    },
    {
      "cell_type": "code",
      "metadata": {
        "id": "NDJQL7fNRVo-"
      },
      "source": [
        "import numpy"
      ],
      "execution_count": 1,
      "outputs": []
    },
    {
      "cell_type": "markdown",
      "metadata": {
        "id": "edRh90ICSDcy"
      },
      "source": [
        "\r\n",
        "data structure -> array"
      ]
    },
    {
      "cell_type": "markdown",
      "metadata": {
        "id": "s2LXdC0pUCz1"
      },
      "source": [
        "สร้าง array (nampy array) "
      ]
    },
    {
      "cell_type": "code",
      "metadata": {
        "id": "ERibpkEBSApF",
        "outputId": "8c100807-190c-4776-c534-f696f0668224",
        "colab": {
          "base_uri": "https://localhost:8080/"
        }
      },
      "source": [
        "mat_ex1 = numpy.array([[5.2,3.0,4.5],[9.1,0.1,0.3]])\r\n",
        "print (mat_ex1)"
      ],
      "execution_count": 2,
      "outputs": [
        {
          "output_type": "stream",
          "text": [
            "[[5.2 3.  4.5]\n",
            " [9.1 0.1 0.3]]\n"
          ],
          "name": "stdout"
        }
      ]
    },
    {
      "cell_type": "markdown",
      "metadata": {
        "id": "JEaQYaowUscv"
      },
      "source": [
        "การชี้ค่าใน numpy array"
      ]
    },
    {
      "cell_type": "code",
      "metadata": {
        "id": "cXRX_YcdUieP",
        "outputId": "84b95185-6bdc-4003-959c-c23009ff6e6d",
        "colab": {
          "base_uri": "https://localhost:8080/"
        }
      },
      "source": [
        "mat_ex1[1,1] # [แถว,หลัก] ด้านหน้าแถว ด้านหลังหลัก นับตามหลัก python เริ่มจาก 0"
      ],
      "execution_count": 6,
      "outputs": [
        {
          "output_type": "execute_result",
          "data": {
            "text/plain": [
              "0.1"
            ]
          },
          "metadata": {
            "tags": []
          },
          "execution_count": 6
        }
      ]
    },
    {
      "cell_type": "markdown",
      "metadata": {
        "id": "A95xE-P4VyHh"
      },
      "source": [
        "ถ้าไม่มี numpy array "
      ]
    },
    {
      "cell_type": "code",
      "metadata": {
        "id": "JXku_EzHVJle",
        "outputId": "f04bf3e6-049b-4bc7-d30a-f6fcf6bfcc38",
        "colab": {
          "base_uri": "https://localhost:8080/"
        }
      },
      "source": [
        "list_ex1 = ([[5.2,3.0,4.5],[9.1,0.1,0.3]])\r\n",
        "print (list_ex1)"
      ],
      "execution_count": 7,
      "outputs": [
        {
          "output_type": "stream",
          "text": [
            "[[5.2, 3.0, 4.5], [9.1, 0.1, 0.3]]\n"
          ],
          "name": "stdout"
        }
      ]
    },
    {
      "cell_type": "code",
      "metadata": {
        "id": "NbEfzxZnWGPD",
        "outputId": "b82bf413-5a07-42e1-8768-f75726fcbd66",
        "colab": {
          "base_uri": "https://localhost:8080/"
        }
      },
      "source": [
        "list_ex1 [1][1] "
      ],
      "execution_count": 14,
      "outputs": [
        {
          "output_type": "execute_result",
          "data": {
            "text/plain": [
              "0.1"
            ]
          },
          "metadata": {
            "tags": []
          },
          "execution_count": 14
        }
      ]
    },
    {
      "cell_type": "code",
      "metadata": {
        "id": "iTcvbjyUXZFS",
        "outputId": "10ddf3e6-efb4-4f57-b442-931cd1116ff4",
        "colab": {
          "base_uri": "https://localhost:8080/"
        }
      },
      "source": [
        "print (list_ex1)\r\n",
        "a = list_ex1[1]\r\n",
        "print (a)\r\n",
        "print (a[1]) #ชี้สมาชิกตัวที่เท่าไหร่ของlist"
      ],
      "execution_count": 19,
      "outputs": [
        {
          "output_type": "stream",
          "text": [
            "[[5.2, 3.0, 4.5], [9.1, 0.1, 0.3]]\n",
            "[9.1, 0.1, 0.3]\n",
            "0.1\n"
          ],
          "name": "stdout"
        }
      ]
    },
    {
      "cell_type": "markdown",
      "metadata": {
        "id": "a6bWcPpUX8Rr"
      },
      "source": [
        "Matrix Operations\r\n",
        "\r\n",
        "data 2 แบบ -> matrix ( array 2 มิติ ) , scalar ( ตัวเลขที่เป็นค่าคงที่ )"
      ]
    },
    {
      "cell_type": "code",
      "metadata": {
        "id": "y2PmR0b6Xk35",
        "outputId": "25277467-2923-4406-be8a-cd5f7759e3fd",
        "colab": {
          "base_uri": "https://localhost:8080/"
        }
      },
      "source": [
        "mat_ex1 = numpy.array([[5.2,3.0,4.5],[9.1,0.1,0.3]])\r\n",
        "print (mat_ex1)\r\n",
        "mat_ex2 = numpy.array([[2.0,3.7,5.9],[91,1.5,7.3]])\r\n",
        "print (mat_ex2)"
      ],
      "execution_count": 20,
      "outputs": [
        {
          "output_type": "stream",
          "text": [
            "[[5.2 3.  4.5]\n",
            " [9.1 0.1 0.3]]\n",
            "[[ 2.   3.7  5.9]\n",
            " [91.   1.5  7.3]]\n"
          ],
          "name": "stdout"
        }
      ]
    },
    {
      "cell_type": "markdown",
      "metadata": {
        "id": "n3Si5SSmZC8U"
      },
      "source": [
        "บวกกับลบ matrix เอาตัวเลขตำแหน่งเดียวกันมาบวกกันหรือลบกัน\r\n",
        "\r\n",
        "หน้าตาของ matrix ต้องเหมือนกัน"
      ]
    },
    {
      "cell_type": "code",
      "metadata": {
        "id": "ATOrjFPSYoRm",
        "outputId": "a48879a7-8ad5-4eb9-ced6-b7830f1acc60",
        "colab": {
          "base_uri": "https://localhost:8080/"
        }
      },
      "source": [
        "mat_ex3 = mat_ex1 + mat_ex2 \r\n",
        "print (mat_ex3)\r\n",
        "mat_ex4 = mat_ex1 - mat_ex2\r\n",
        "print (mat_ex4)"
      ],
      "execution_count": 21,
      "outputs": [
        {
          "output_type": "stream",
          "text": [
            "[[  7.2   6.7  10.4]\n",
            " [100.1   1.6   7.6]]\n",
            "[[  3.2  -0.7  -1.4]\n",
            " [-81.9  -1.4  -7. ]]\n"
          ],
          "name": "stdout"
        }
      ]
    },
    {
      "cell_type": "markdown",
      "metadata": {
        "id": "_hqY7xBkXWrS"
      },
      "source": [
        "การตรวจสอบขนาดของ matrix "
      ]
    },
    {
      "cell_type": "code",
      "metadata": {
        "id": "uxbKea55WsMI",
        "outputId": "573afee4-377b-4b21-9471-7bf257603445",
        "colab": {
          "base_uri": "https://localhost:8080/"
        }
      },
      "source": [
        "mat_ex3.shape"
      ],
      "execution_count": 22,
      "outputs": [
        {
          "output_type": "execute_result",
          "data": {
            "text/plain": [
              "(2, 3)"
            ]
          },
          "metadata": {
            "tags": []
          },
          "execution_count": 22
        }
      ]
    },
    {
      "cell_type": "code",
      "metadata": {
        "id": "cIBjCkbRag06",
        "outputId": "b6424e36-d69d-435c-c855-3dc33d9d2365",
        "colab": {
          "base_uri": "https://localhost:8080/"
        }
      },
      "source": [
        "mat_ex3.shape[1] #ชี้ตำแหน่งของสมาชิกเหมือนกับ list"
      ],
      "execution_count": 24,
      "outputs": [
        {
          "output_type": "execute_result",
          "data": {
            "text/plain": [
              "3"
            ]
          },
          "metadata": {
            "tags": []
          },
          "execution_count": 24
        }
      ]
    },
    {
      "cell_type": "code",
      "metadata": {
        "id": "vDjH8j30b2zT",
        "outputId": "501f872c-dd43-4737-9730-a5860ec2d90a",
        "colab": {
          "base_uri": "https://localhost:8080/"
        }
      },
      "source": [
        "print (mat_ex1)\r\n",
        "print (mat_ex2) "
      ],
      "execution_count": 26,
      "outputs": [
        {
          "output_type": "stream",
          "text": [
            "[[5.2 3.  4.5]\n",
            " [9.1 0.1 0.3]]\n",
            "[[ 2.   3.7  5.9]\n",
            " [91.   1.5  7.3]]\n"
          ],
          "name": "stdout"
        }
      ]
    },
    {
      "cell_type": "code",
      "metadata": {
        "id": "q861zc1daUzD",
        "outputId": "7b0231fc-d2b4-4063-b154-b2d440c12e4c",
        "colab": {
          "base_uri": "https://localhost:8080/"
        }
      },
      "source": [
        "mat_ex1 * mat_ex2  # การคูณเมทริกซ์ไม่ได้ใช้เครื่องหมาย *"
      ],
      "execution_count": 25,
      "outputs": [
        {
          "output_type": "execute_result",
          "data": {
            "text/plain": [
              "array([[1.040e+01, 1.110e+01, 2.655e+01],\n",
              "       [8.281e+02, 1.500e-01, 2.190e+00]])"
            ]
          },
          "metadata": {
            "tags": []
          },
          "execution_count": 25
        }
      ]
    },
    {
      "cell_type": "code",
      "metadata": {
        "id": "_YJf_k6UadnK",
        "outputId": "757a6fe4-617d-4e18-9689-e297c7884027",
        "colab": {
          "base_uri": "https://localhost:8080/",
          "height": 197
        }
      },
      "source": [
        "numpy.dot(mat_ex1,mat_ex2) #เมทริกซ์ขนาด (2,3) กับเมทริกซ์ขนาด (2,3) คูณกันไม่ได้ ตามหลักของเมทริกซ์"
      ],
      "execution_count": 29,
      "outputs": [
        {
          "output_type": "error",
          "ename": "ValueError",
          "evalue": "ignored",
          "traceback": [
            "\u001b[0;31m---------------------------------------------------------------------------\u001b[0m",
            "\u001b[0;31mValueError\u001b[0m                                Traceback (most recent call last)",
            "\u001b[0;32m<ipython-input-29-0efd4e6c5e11>\u001b[0m in \u001b[0;36m<module>\u001b[0;34m()\u001b[0m\n\u001b[0;32m----> 1\u001b[0;31m \u001b[0mnumpy\u001b[0m\u001b[0;34m.\u001b[0m\u001b[0mdot\u001b[0m\u001b[0;34m(\u001b[0m\u001b[0mmat_ex1\u001b[0m\u001b[0;34m,\u001b[0m\u001b[0mmat_ex2\u001b[0m\u001b[0;34m)\u001b[0m \u001b[0;31m#เมทริกซ์ขนาด (2,3) กับเมทริกซ์ขนาด (2,3) คูณกันไม่ได้ ตามหลักของเมทริกซ์\u001b[0m\u001b[0;34m\u001b[0m\u001b[0;34m\u001b[0m\u001b[0m\n\u001b[0m",
            "\u001b[0;32m<__array_function__ internals>\u001b[0m in \u001b[0;36mdot\u001b[0;34m(*args, **kwargs)\u001b[0m\n",
            "\u001b[0;31mValueError\u001b[0m: shapes (2,3) and (2,3) not aligned: 3 (dim 1) != 2 (dim 0)"
          ]
        }
      ]
    },
    {
      "cell_type": "markdown",
      "metadata": {
        "id": "A0It-XsAeqv3"
      },
      "source": [
        "#การคูณเมทริกซ์ (แถวคูณหลัก)\r\n",
        "\r\n",
        "(หลักของตัวข้างหน้าต้องเท่ากับแถวของตัวข้างหลัง)\r\n"
      ]
    },
    {
      "cell_type": "markdown",
      "metadata": {
        "id": "oVjgHMBbgVU1"
      },
      "source": [
        "# Transpose กลับแถวเป็นหลักกลับหลักเป็นแถว\r\n",
        "\r\n",
        "``` matrix.T```"
      ]
    },
    {
      "cell_type": "code",
      "metadata": {
        "id": "3295OsUweQor",
        "outputId": "e2c5e81c-f523-4a7f-ad9a-757f9b78193e",
        "colab": {
          "base_uri": "https://localhost:8080/"
        }
      },
      "source": [
        "numpy.dot(mat_ex1,mat_ex2.T) #(2,3).(3,2) จะได้เป็นเมทริกซ์ขนาด (2,2)"
      ],
      "execution_count": 41,
      "outputs": [
        {
          "output_type": "execute_result",
          "data": {
            "text/plain": [
              "array([[ 48.05, 510.55],\n",
              "       [ 20.34, 830.44]])"
            ]
          },
          "metadata": {
            "tags": []
          },
          "execution_count": 41
        }
      ]
    },
    {
      "cell_type": "code",
      "metadata": {
        "id": "e-c4pWxyhf4Z",
        "outputId": "d22d3b8e-3849-4fe4-c6e4-7ea1d0775ded",
        "colab": {
          "base_uri": "https://localhost:8080/"
        }
      },
      "source": [
        "numpy.dot(mat_ex1.T,mat_ex2) #(3,2).(2,3) จะได้เป็นเมทริกซ์ขนาด (3,3)"
      ],
      "execution_count": 44,
      "outputs": [
        {
          "output_type": "execute_result",
          "data": {
            "text/plain": [
              "array([[838.5 ,  32.89,  97.11],\n",
              "       [ 15.1 ,  11.25,  18.43],\n",
              "       [ 36.3 ,  17.1 ,  28.74]])"
            ]
          },
          "metadata": {
            "tags": []
          },
          "execution_count": 44
        }
      ]
    },
    {
      "cell_type": "markdown",
      "metadata": {
        "id": "owCVcFmki6Xv"
      },
      "source": [
        "# HW 4\r\n",
        "\r\n",
        "อธิบายการหา Determinant และ Inverse matrix (รูปและคำอธิบาย)\r\n"
      ]
    },
    {
      "cell_type": "code",
      "metadata": {
        "id": "fhZBjhuEfb4j"
      },
      "source": [
        ""
      ],
      "execution_count": null,
      "outputs": []
    }
  ]
}