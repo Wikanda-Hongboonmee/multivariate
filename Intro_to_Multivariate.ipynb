{
  "nbformat": 4,
  "nbformat_minor": 0,
  "metadata": {
    "colab": {
      "name": "Intro to Multivariate.ipynb",
      "provenance": [],
      "authorship_tag": "ABX9TyPsgOhpH4GUPtlEfmTWRZzz",
      "include_colab_link": true
    },
    "kernelspec": {
      "name": "python3",
      "display_name": "Python 3"
    }
  },
  "cells": [
    {
      "cell_type": "markdown",
      "metadata": {
        "id": "view-in-github",
        "colab_type": "text"
      },
      "source": [
        "<a href=\"https://colab.research.google.com/github/Wikanda-Hongboonmee/multivariate/blob/main/Intro_to_Multivariate.ipynb\" target=\"_parent\"><img src=\"https://colab.research.google.com/assets/colab-badge.svg\" alt=\"Open In Colab\"/></a>"
      ]
    },
    {
      "cell_type": "markdown",
      "metadata": {
        "id": "TDIh1OFKifB6"
      },
      "source": [
        "นางสาววิกานดา หงษ์บุญมี ID 623020764-2"
      ]
    },
    {
      "cell_type": "code",
      "metadata": {
        "colab": {
          "base_uri": "https://localhost:8080/"
        },
        "id": "NVyoaVWnkMpU",
        "outputId": "991b8e1d-1bf9-4108-b471-46fc88d11ccf"
      },
      "source": [
        "print ( 'วิกานดา' ) #single quote ( ' ) ใช้ล้อมรอบข้อความ"
      ],
      "execution_count": 8,
      "outputs": [
        {
          "output_type": "stream",
          "text": [
            "วิกานดา\n"
          ],
          "name": "stdout"
        }
      ]
    }
  ]
}